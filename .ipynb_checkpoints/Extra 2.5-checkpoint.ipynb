{
 "cells": [
  {
   "cell_type": "markdown",
   "id": "f1ba2851-30e0-4965-8bf9-8d979bf00011",
   "metadata": {},
   "source": [
    "### Ex-2.5 Advancecd Geospatial plotting-Reduced data for Keplermap"
   ]
  },
  {
   "cell_type": "code",
   "execution_count": 1,
   "id": "0e2d7f8f-f49b-43a4-8375-1183de761f8d",
   "metadata": {},
   "outputs": [],
   "source": [
    "import pandas as pd\n",
    "import os\n",
    "from keplergl import KeplerGl\n",
    "from pyproj import CRS\n",
    "import numpy as np\n",
    "from matplotlib import pyplot as plt"
   ]
  },
  {
   "cell_type": "code",
   "execution_count": 2,
   "id": "b8549050-ae3c-43f8-a5b6-79099172452d",
   "metadata": {},
   "outputs": [],
   "source": [
    "df_final_station_data = pd.read_csv('df_final_locations_for_map.csv',index_col = 0)"
   ]
  },
  {
   "cell_type": "code",
   "execution_count": 3,
   "id": "5ce12a42-a748-46f6-bf88-841bbfbcc1e3",
   "metadata": {},
   "outputs": [
    {
     "name": "stdout",
     "output_type": "stream",
     "text": [
      "File size: 29.35 MB\n"
     ]
    }
   ],
   "source": [
    "np.random.seed(32)\n",
    "\n",
    "# Sample 40% of the data\n",
    "red_40 = np.random.rand(len(df_final_station_data)) < 0.40\n",
    "small_2 = df_final_station_data[red_40]\n",
    "small_2.to_csv('reduced_data_to_plot_2.csv', index=False)\n",
    "\n",
    "# Sample 20% of the data\n",
    "np.random.seed(32)\n",
    "red_20 = np.random.rand(len(df_final_station_data)) < 0.20\n",
    "small_3 = df_final_station_data[red_20]\n",
    "small_3.to_csv('reduced_data_to_plot_3.csv', index=False)\n",
    "\n",
    "# Check the file size of the sampled data\n",
    "file_path = 'reduced_data_to_plot_3.csv'\n",
    "file_size = os.path.getsize(file_path)\n",
    "file_size_mb = file_size / (1024 * 1024)\n",
    "print(f\"File size: {file_size_mb:.2f} MB\")"
   ]
  },
  {
   "cell_type": "code",
   "execution_count": 4,
   "id": "f8ba5395-2318-436b-988a-4b1377eba426",
   "metadata": {},
   "outputs": [
    {
     "name": "stdout",
     "output_type": "stream",
     "text": [
      "File size (target sample): 24.33 MB\n"
     ]
    }
   ],
   "source": [
    "target_file_size_mb = 24.5\n",
    "current_file_size_mb_20 = 29.51  # This should match the actual size of 'reduced_data_to_plot_3.csv'\n",
    "current_sampling_fraction = 0.20  # This is the original sampling fraction used\n",
    "\n",
    "# Calculate the new sampling fraction to target the desired file size\n",
    "sample_fraction = (target_file_size_mb / current_file_size_mb_20) * current_sampling_fraction\n",
    "\n",
    "# Set the random seed for reproducibility\n",
    "np.random.seed(32)\n",
    "\n",
    "# Sample the data based on the calculated sample fraction\n",
    "red_target = np.random.rand(len(df_final_station_data)) < sample_fraction\n",
    "smallest_dataset = df_final_station_data[red_target]\n",
    "\n",
    "# Save the smaller sample to a CSV file with a new name\n",
    "smallest_dataset.to_csv('map_plot.csv', index=False)\n",
    "\n",
    "# Verifying the file size\n",
    "file_size = os.path.getsize('map_plot.csv')\n",
    "file_size_mb = file_size / (1024 * 1024)\n",
    "print(f\"File size (target sample): {file_size_mb:.2f} MB\")"
   ]
  },
  {
   "cell_type": "code",
   "execution_count": 5,
   "id": "fd5a8408-4a0e-4cb2-8a77-03444daecd9c",
   "metadata": {},
   "outputs": [
    {
     "name": "stdout",
     "output_type": "stream",
     "text": [
      "File size: 24.33 MB\n"
     ]
    }
   ],
   "source": [
    "file_path = 'map_plot.csv'\n",
    "\n",
    "# Get the file size in bytes\n",
    "file_size = os.path.getsize(file_path)\n",
    "\n",
    "# Convert the file size to megabytes\n",
    "file_size_mb = file_size / (1024 * 1024)\n",
    "\n",
    "print(f\"File size: {file_size_mb:.2f} MB\")"
   ]
  },
  {
   "cell_type": "code",
   "execution_count": 6,
   "id": "cdbc9608-dc98-48ed-9e4b-6aedfa94ae79",
   "metadata": {},
   "outputs": [
    {
     "data": {
      "text/html": [
       "<div>\n",
       "<style scoped>\n",
       "    .dataframe tbody tr th:only-of-type {\n",
       "        vertical-align: middle;\n",
       "    }\n",
       "\n",
       "    .dataframe tbody tr th {\n",
       "        vertical-align: top;\n",
       "    }\n",
       "\n",
       "    .dataframe thead th {\n",
       "        text-align: right;\n",
       "    }\n",
       "</style>\n",
       "<table border=\"1\" class=\"dataframe\">\n",
       "  <thead>\n",
       "    <tr style=\"text-align: right;\">\n",
       "      <th></th>\n",
       "      <th>start_station_name</th>\n",
       "      <th>end_station_name</th>\n",
       "      <th>trips</th>\n",
       "      <th>start_lat</th>\n",
       "      <th>start_lng</th>\n",
       "      <th>end_lat</th>\n",
       "      <th>end_lng</th>\n",
       "    </tr>\n",
       "  </thead>\n",
       "  <tbody>\n",
       "    <tr>\n",
       "      <th>6</th>\n",
       "      <td>1 Ave &amp; E 110 St</td>\n",
       "      <td>1 Ave &amp; E 39 St</td>\n",
       "      <td>1</td>\n",
       "      <td>40.792337</td>\n",
       "      <td>-73.93824</td>\n",
       "      <td>40.747140</td>\n",
       "      <td>-73.971130</td>\n",
       "    </tr>\n",
       "    <tr>\n",
       "      <th>10</th>\n",
       "      <td>1 Ave &amp; E 110 St</td>\n",
       "      <td>1 Ave &amp; E 6 St</td>\n",
       "      <td>1</td>\n",
       "      <td>40.792337</td>\n",
       "      <td>-73.93824</td>\n",
       "      <td>40.726331</td>\n",
       "      <td>-73.986169</td>\n",
       "    </tr>\n",
       "    <tr>\n",
       "      <th>17</th>\n",
       "      <td>1 Ave &amp; E 110 St</td>\n",
       "      <td>1 Ave &amp; E 94 St</td>\n",
       "      <td>224</td>\n",
       "      <td>40.792337</td>\n",
       "      <td>-73.93824</td>\n",
       "      <td>40.781721</td>\n",
       "      <td>-73.945940</td>\n",
       "    </tr>\n",
       "    <tr>\n",
       "      <th>21</th>\n",
       "      <td>1 Ave &amp; E 110 St</td>\n",
       "      <td>10 Ave &amp; W 215 St</td>\n",
       "      <td>1</td>\n",
       "      <td>40.792337</td>\n",
       "      <td>-73.93824</td>\n",
       "      <td>40.869325</td>\n",
       "      <td>-73.915198</td>\n",
       "    </tr>\n",
       "    <tr>\n",
       "      <th>26</th>\n",
       "      <td>1 Ave &amp; E 110 St</td>\n",
       "      <td>11 Ave &amp; W 41 St</td>\n",
       "      <td>5</td>\n",
       "      <td>40.792337</td>\n",
       "      <td>-73.93824</td>\n",
       "      <td>40.760301</td>\n",
       "      <td>-73.998842</td>\n",
       "    </tr>\n",
       "  </tbody>\n",
       "</table>\n",
       "</div>"
      ],
      "text/plain": [
       "   start_station_name   end_station_name  trips  start_lat  start_lng  \\\n",
       "6    1 Ave & E 110 St    1 Ave & E 39 St      1  40.792337  -73.93824   \n",
       "10   1 Ave & E 110 St     1 Ave & E 6 St      1  40.792337  -73.93824   \n",
       "17   1 Ave & E 110 St    1 Ave & E 94 St    224  40.792337  -73.93824   \n",
       "21   1 Ave & E 110 St  10 Ave & W 215 St      1  40.792337  -73.93824   \n",
       "26   1 Ave & E 110 St   11 Ave & W 41 St      5  40.792337  -73.93824   \n",
       "\n",
       "      end_lat    end_lng  \n",
       "6   40.747140 -73.971130  \n",
       "10  40.726331 -73.986169  \n",
       "17  40.781721 -73.945940  \n",
       "21  40.869325 -73.915198  \n",
       "26  40.760301 -73.998842  "
      ]
     },
     "execution_count": 6,
     "metadata": {},
     "output_type": "execute_result"
    }
   ],
   "source": [
    "smallest_dataset.head()"
   ]
  },
  {
   "cell_type": "code",
   "execution_count": 7,
   "id": "a6512b6a-d6fc-4614-9c7a-f32ffe066df4",
   "metadata": {},
   "outputs": [
    {
     "name": "stdout",
     "output_type": "stream",
     "text": [
      "User Guide: https://docs.kepler.gl/docs/keplergl-jupyter\n",
      "Map saved to kepler_map_reduced.html!\n"
     ]
    }
   ],
   "source": [
    "df_reduced = pd.read_csv('map_plot.csv')\n",
    "\n",
    "# Create a Kepler map with the reduced data\n",
    "map_ = KeplerGl(height=700, data={\"data_1\": df_reduced})\n",
    "\n",
    "# Save the Kepler map as an HTML file\n",
    "map_.save_to_html(file_name='kepler_map_reduced.html')"
   ]
  },
  {
   "cell_type": "code",
   "execution_count": 8,
   "id": "e7261083-1374-4384-bcde-63d04b887209",
   "metadata": {},
   "outputs": [
    {
     "data": {
      "application/vnd.jupyter.widget-view+json": {
       "model_id": "988cd45f38e841d28d243ae695f7f455",
       "version_major": 2,
       "version_minor": 0
      },
      "text/plain": [
       "KeplerGl(data={'data_1':            start_station_name          end_station_name  trips  start_lat  \\\n",
       "0       …"
      ]
     },
     "execution_count": 8,
     "metadata": {},
     "output_type": "execute_result"
    }
   ],
   "source": [
    "map_"
   ]
  },
  {
   "cell_type": "code",
   "execution_count": 11,
   "id": "83bdebeb-e3c5-4ded-bb48-b224bb389c8f",
   "metadata": {},
   "outputs": [
    {
     "name": "stdout",
     "output_type": "stream",
     "text": [
      "Map saved to NewYork_CitiBike_Trips.html!\n"
     ]
    }
   ],
   "source": [
    "map_.save_to_html(file_name='NewYork_CitiBike_Trips.html', read_only = False, config = config)"
   ]
  },
  {
   "cell_type": "code",
   "execution_count": 10,
   "id": "e9f40fe4-6acf-4082-a3ac-c19947b555e8",
   "metadata": {},
   "outputs": [
    {
     "name": "stdout",
     "output_type": "stream",
     "text": [
      "Map saved to NewYork_CitiBike_Trips.html!\n"
     ]
    }
   ],
   "source": [
    "# Define the config variable before using it\n",
    "config = {'scrollWheelZoom': True}  # Example configuration - adjust as needed\n",
    "\n",
    "# Now use the config variable in the save_to_html function\n",
    "map_.save_to_html(file_name='NewYork_CitiBike_Trips.html', read_only=False, config=config)"
   ]
  },
  {
   "cell_type": "code",
   "execution_count": 12,
   "id": "07b8a357-4f2b-4fe8-aabc-7d875df485d6",
   "metadata": {},
   "outputs": [],
   "source": [
    "import json\n",
    "with open(\"config.json\", \"w\") as outfile:\n",
    "    json.dump(config, outfile)"
   ]
  },
  {
   "cell_type": "code",
   "execution_count": null,
   "id": "4f4acdd7-a7ac-4072-9371-ee39dfdfc32e",
   "metadata": {},
   "outputs": [],
   "source": []
  }
 ],
 "metadata": {
  "kernelspec": {
   "display_name": "Python 3 (ipykernel)",
   "language": "python",
   "name": "python3"
  },
  "language_info": {
   "codemirror_mode": {
    "name": "ipython",
    "version": 3
   },
   "file_extension": ".py",
   "mimetype": "text/x-python",
   "name": "python",
   "nbconvert_exporter": "python",
   "pygments_lexer": "ipython3",
   "version": "3.12.2"
  }
 },
 "nbformat": 4,
 "nbformat_minor": 5
}
