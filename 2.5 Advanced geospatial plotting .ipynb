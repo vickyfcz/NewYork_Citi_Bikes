{
 "cells": [
  {
   "cell_type": "markdown",
   "id": "4610c53d-2674-42f1-9b61-36dd0b7ac37a",
   "metadata": {},
   "source": [
    "# E5 Advanced geospatial plotting "
   ]
  },
  {
   "cell_type": "code",
   "execution_count": 1,
   "id": "29165bf8",
   "metadata": {
    "tags": []
   },
   "outputs": [],
   "source": [
    "import pandas as pd\n",
    "import os\n",
    "from keplergl import KeplerGl\n",
    "from pyproj import CRS\n",
    "import numpy as np\n",
    "from matplotlib import pyplot as plt"
   ]
  },
  {
   "cell_type": "code",
   "execution_count": 3,
   "id": "06154e1a-b4e1-4cb3-b393-211532f2b182",
   "metadata": {},
   "outputs": [],
   "source": [
    "df = pd.read_csv('chicago_data.csv', index_col = 0)"
   ]
  },
  {
   "cell_type": "markdown",
   "id": "068fbca1-8036-41b5-ae4a-df7dddc5560c",
   "metadata": {
    "tags": []
   },
   "source": [
    "## Data preprocessing"
   ]
  },
  {
   "cell_type": "code",
   "execution_count": 4,
   "id": "c2f1cba7-547d-423c-818a-7056f1ab160a",
   "metadata": {},
   "outputs": [],
   "source": [
    "# Create a value column and group by start and end station \n",
    "\n",
    "df['value'] = 1\n",
    "df_group = df.groupby(['from_station_name', 'to_station_name'])['value'].count().reset_index()"
   ]
  },
  {
   "cell_type": "code",
   "execution_count": 5,
   "id": "3da9bfa3-28b2-47f7-854b-73b83e946fdf",
   "metadata": {},
   "outputs": [
    {
     "data": {
      "text/html": [
       "<div>\n",
       "<style scoped>\n",
       "    .dataframe tbody tr th:only-of-type {\n",
       "        vertical-align: middle;\n",
       "    }\n",
       "\n",
       "    .dataframe tbody tr th {\n",
       "        vertical-align: top;\n",
       "    }\n",
       "\n",
       "    .dataframe thead th {\n",
       "        text-align: right;\n",
       "    }\n",
       "</style>\n",
       "<table border=\"1\" class=\"dataframe\">\n",
       "  <thead>\n",
       "    <tr style=\"text-align: right;\">\n",
       "      <th></th>\n",
       "      <th>from_station_name</th>\n",
       "      <th>to_station_name</th>\n",
       "      <th>value</th>\n",
       "    </tr>\n",
       "  </thead>\n",
       "  <tbody>\n",
       "    <tr>\n",
       "      <th>0</th>\n",
       "      <td>2112 W Peterson Ave</td>\n",
       "      <td>2112 W Peterson Ave</td>\n",
       "      <td>14</td>\n",
       "    </tr>\n",
       "    <tr>\n",
       "      <th>1</th>\n",
       "      <td>2112 W Peterson Ave</td>\n",
       "      <td>Ashland Ave &amp; Belle Plaine Ave</td>\n",
       "      <td>1</td>\n",
       "    </tr>\n",
       "    <tr>\n",
       "      <th>2</th>\n",
       "      <td>2112 W Peterson Ave</td>\n",
       "      <td>Avondale Ave &amp; Irving Park Rd</td>\n",
       "      <td>1</td>\n",
       "    </tr>\n",
       "    <tr>\n",
       "      <th>3</th>\n",
       "      <td>2112 W Peterson Ave</td>\n",
       "      <td>Benson Ave &amp; Church St</td>\n",
       "      <td>2</td>\n",
       "    </tr>\n",
       "    <tr>\n",
       "      <th>4</th>\n",
       "      <td>2112 W Peterson Ave</td>\n",
       "      <td>Broadway &amp; Argyle St</td>\n",
       "      <td>2</td>\n",
       "    </tr>\n",
       "    <tr>\n",
       "      <th>...</th>\n",
       "      <td>...</td>\n",
       "      <td>...</td>\n",
       "      <td>...</td>\n",
       "    </tr>\n",
       "    <tr>\n",
       "      <th>113674</th>\n",
       "      <td>Yates Blvd &amp; 75th St</td>\n",
       "      <td>South Shore Dr &amp; 74th St</td>\n",
       "      <td>2</td>\n",
       "    </tr>\n",
       "    <tr>\n",
       "      <th>113675</th>\n",
       "      <td>Yates Blvd &amp; 75th St</td>\n",
       "      <td>Stony Island Ave &amp; 71st St</td>\n",
       "      <td>2</td>\n",
       "    </tr>\n",
       "    <tr>\n",
       "      <th>113676</th>\n",
       "      <td>Yates Blvd &amp; 75th St</td>\n",
       "      <td>Stony Island Ave &amp; 75th St</td>\n",
       "      <td>3</td>\n",
       "    </tr>\n",
       "    <tr>\n",
       "      <th>113677</th>\n",
       "      <td>Yates Blvd &amp; 75th St</td>\n",
       "      <td>Woodlawn Ave &amp; 55th St</td>\n",
       "      <td>2</td>\n",
       "    </tr>\n",
       "    <tr>\n",
       "      <th>113678</th>\n",
       "      <td>Yates Blvd &amp; 75th St</td>\n",
       "      <td>Yates Blvd &amp; 75th St</td>\n",
       "      <td>21</td>\n",
       "    </tr>\n",
       "  </tbody>\n",
       "</table>\n",
       "<p>113679 rows × 3 columns</p>\n",
       "</div>"
      ],
      "text/plain": [
       "           from_station_name                 to_station_name  value\n",
       "0        2112 W Peterson Ave             2112 W Peterson Ave     14\n",
       "1        2112 W Peterson Ave  Ashland Ave & Belle Plaine Ave      1\n",
       "2        2112 W Peterson Ave   Avondale Ave & Irving Park Rd      1\n",
       "3        2112 W Peterson Ave          Benson Ave & Church St      2\n",
       "4        2112 W Peterson Ave            Broadway & Argyle St      2\n",
       "...                      ...                             ...    ...\n",
       "113674  Yates Blvd & 75th St        South Shore Dr & 74th St      2\n",
       "113675  Yates Blvd & 75th St      Stony Island Ave & 71st St      2\n",
       "113676  Yates Blvd & 75th St      Stony Island Ave & 75th St      3\n",
       "113677  Yates Blvd & 75th St          Woodlawn Ave & 55th St      2\n",
       "113678  Yates Blvd & 75th St            Yates Blvd & 75th St     21\n",
       "\n",
       "[113679 rows x 3 columns]"
      ]
     },
     "execution_count": 5,
     "metadata": {},
     "output_type": "execute_result"
    }
   ],
   "source": [
    "df_group"
   ]
  },
  {
   "cell_type": "code",
   "execution_count": 6,
   "id": "a3d231a6-7351-4a3f-a102-90f71ecfb38f",
   "metadata": {},
   "outputs": [
    {
     "name": "stdout",
     "output_type": "stream",
     "text": [
      "3603082\n",
      "(3603082, 20)\n"
     ]
    }
   ],
   "source": [
    "print(df_group['value'].sum())\n",
    "print(df.shape)"
   ]
  },
  {
   "cell_type": "code",
   "execution_count": 7,
   "id": "ace8d5db-3d51-483f-b063-ab6122e23b99",
   "metadata": {},
   "outputs": [
    {
     "data": {
      "text/plain": [
       "count    113679.000000\n",
       "mean         31.695230\n",
       "std         104.023444\n",
       "min           1.000000\n",
       "25%           2.000000\n",
       "50%           6.000000\n",
       "75%          23.000000\n",
       "max        8858.000000\n",
       "Name: value, dtype: float64"
      ]
     },
     "execution_count": 7,
     "metadata": {},
     "output_type": "execute_result"
    }
   ],
   "source": [
    "df_group['value'].describe()"
   ]
  },
  {
   "cell_type": "markdown",
   "id": "391583d9-7240-4d9f-a6eb-ec799b53a75b",
   "metadata": {},
   "source": [
    "### Some exploratory analysis into the trips"
   ]
  },
  {
   "cell_type": "code",
   "execution_count": 8,
   "id": "13292b08-2b4a-4d4e-adbd-be00f6c331c8",
   "metadata": {},
   "outputs": [
    {
     "data": {
      "image/png": "[encoded data removed]",
      "text/plain": [
       "<Figure size 640x480 with 1 Axes>"
      ]
     },
     "metadata": {},
     "output_type": "display_data"
    }
   ],
   "source": [
    "df_group['value'].hist(bins = 100)\n",
    "plt.show()"
   ]
  },
  {
   "cell_type": "code",
   "execution_count": 9,
   "id": "74bf1084-360a-49b7-9a66-8ded659e2df7",
   "metadata": {},
   "outputs": [
    {
     "data": {
      "text/plain": [
       "[]"
      ]
     },
     "execution_count": 9,
     "metadata": {},
     "output_type": "execute_result"
    },
    {
     "data": {
      "image/png": "[encoded data removed]",
      "text/plain": [
       "<Figure size 640x480 with 1 Axes>"
      ]
     },
     "metadata": {},
     "output_type": "display_data"
    }
   ],
   "source": [
    "b_plot = df_group.boxplot(column = 'value') \n",
    "b_plot.plot()"
   ]
  },
  {
   "cell_type": "code",
   "execution_count": 10,
   "id": "8dfacb41-27dc-450e-bdf7-7a280d457160",
   "metadata": {},
   "outputs": [
    {
     "data": {
      "text/plain": [
       "1       23427\n",
       "2       13274\n",
       "3        8409\n",
       "4        6215\n",
       "5        4777\n",
       "        ...  \n",
       "845         1\n",
       "940         1\n",
       "1396        1\n",
       "1366        1\n",
       "1397        1\n",
       "Name: value, Length: 944, dtype: int64"
      ]
     },
     "execution_count": 10,
     "metadata": {},
     "output_type": "execute_result"
    }
   ],
   "source": [
    "df_group['value'].sort_index().value_counts()"
   ]
  },
  {
   "cell_type": "code",
   "execution_count": 11,
   "id": "92414711-8140-4fc6-bd83-13ffd256f08a",
   "metadata": {},
   "outputs": [],
   "source": [
    "df_group.to_csv('df_groupby_final.csv')"
   ]
  },
  {
   "cell_type": "code",
   "execution_count": 12,
   "id": "c295c21d-81da-4640-a4b9-2df6e228e651",
   "metadata": {},
   "outputs": [
    {
     "data": {
      "text/html": [
       "<div>\n",
       "<style scoped>\n",
       "    .dataframe tbody tr th:only-of-type {\n",
       "        vertical-align: middle;\n",
       "    }\n",
       "\n",
       "    .dataframe tbody tr th {\n",
       "        vertical-align: top;\n",
       "    }\n",
       "\n",
       "    .dataframe thead th {\n",
       "        text-align: right;\n",
       "    }\n",
       "</style>\n",
       "<table border=\"1\" class=\"dataframe\">\n",
       "  <thead>\n",
       "    <tr style=\"text-align: right;\">\n",
       "      <th></th>\n",
       "      <th>from_station_name</th>\n",
       "      <th>to_station_name</th>\n",
       "      <th>value</th>\n",
       "    </tr>\n",
       "  </thead>\n",
       "  <tbody>\n",
       "    <tr>\n",
       "      <th>0</th>\n",
       "      <td>2112 W Peterson Ave</td>\n",
       "      <td>2112 W Peterson Ave</td>\n",
       "      <td>14</td>\n",
       "    </tr>\n",
       "    <tr>\n",
       "      <th>1</th>\n",
       "      <td>2112 W Peterson Ave</td>\n",
       "      <td>Ashland Ave &amp; Belle Plaine Ave</td>\n",
       "      <td>1</td>\n",
       "    </tr>\n",
       "    <tr>\n",
       "      <th>2</th>\n",
       "      <td>2112 W Peterson Ave</td>\n",
       "      <td>Avondale Ave &amp; Irving Park Rd</td>\n",
       "      <td>1</td>\n",
       "    </tr>\n",
       "    <tr>\n",
       "      <th>3</th>\n",
       "      <td>2112 W Peterson Ave</td>\n",
       "      <td>Benson Ave &amp; Church St</td>\n",
       "      <td>2</td>\n",
       "    </tr>\n",
       "    <tr>\n",
       "      <th>4</th>\n",
       "      <td>2112 W Peterson Ave</td>\n",
       "      <td>Broadway &amp; Argyle St</td>\n",
       "      <td>2</td>\n",
       "    </tr>\n",
       "  </tbody>\n",
       "</table>\n",
       "</div>"
      ],
      "text/plain": [
       "     from_station_name                 to_station_name  value\n",
       "0  2112 W Peterson Ave             2112 W Peterson Ave     14\n",
       "1  2112 W Peterson Ave  Ashland Ave & Belle Plaine Ave      1\n",
       "2  2112 W Peterson Ave   Avondale Ave & Irving Park Rd      1\n",
       "3  2112 W Peterson Ave          Benson Ave & Church St      2\n",
       "4  2112 W Peterson Ave            Broadway & Argyle St      2"
      ]
     },
     "execution_count": 12,
     "metadata": {},
     "output_type": "execute_result"
    }
   ],
   "source": [
    "df_group.head()"
   ]
  },
  {
   "cell_type": "code",
   "execution_count": 13,
   "id": "d9680ac0-764c-4643-8f23-cd69b26a37a8",
   "metadata": {},
   "outputs": [],
   "source": [
    "df_group.rename(columns = {'from_station_name':'start_station_name','to_station_name' : 'end_station_name',\n",
    "                          'value': 'trips'}, inplace = True)"
   ]
  },
  {
   "cell_type": "markdown",
   "id": "36cf7eb6-1c3b-4110-8b99-9f194d351bd3",
   "metadata": {
    "tags": []
   },
   "source": [
    "## Merge data to create latitude and longitude - only for Chicago"
   ]
  },
  {
   "cell_type": "markdown",
   "id": "8d327fee-daf3-4ced-9a49-e00e35727b62",
   "metadata": {
    "tags": []
   },
   "source": [
    "#### Import location data - only for Chicago"
   ]
  },
  {
   "cell_type": "code",
   "execution_count": 14,
   "id": "2124722d-0354-422c-bd98-3cd9f4ad877a",
   "metadata": {},
   "outputs": [],
   "source": [
    "# Load location data\n",
    "\n",
    "df_stations = pd.read_csv(\"Divvy_Locations.csv\", index_col = 0)\n",
    "\n",
    "# Source: https://data.cityofchicago.org/Transportation/Divvy-Bicycle-Stations/bbyy-e7gq"
   ]
  },
  {
   "cell_type": "code",
   "execution_count": 15,
   "id": "ed8d74dd",
   "metadata": {},
   "outputs": [
    {
     "data": {
      "text/html": [
       "<div>\n",
       "<style scoped>\n",
       "    .dataframe tbody tr th:only-of-type {\n",
       "        vertical-align: middle;\n",
       "    }\n",
       "\n",
       "    .dataframe tbody tr th {\n",
       "        vertical-align: top;\n",
       "    }\n",
       "\n",
       "    .dataframe thead th {\n",
       "        text-align: right;\n",
       "    }\n",
       "</style>\n",
       "<table border=\"1\" class=\"dataframe\">\n",
       "  <thead>\n",
       "    <tr style=\"text-align: right;\">\n",
       "      <th></th>\n",
       "      <th>Station Name</th>\n",
       "      <th>Total Docks</th>\n",
       "      <th>Docks in Service</th>\n",
       "      <th>Status</th>\n",
       "      <th>Latitude</th>\n",
       "      <th>Longitude</th>\n",
       "      <th>Location</th>\n",
       "    </tr>\n",
       "    <tr>\n",
       "      <th>ID</th>\n",
       "      <th></th>\n",
       "      <th></th>\n",
       "      <th></th>\n",
       "      <th></th>\n",
       "      <th></th>\n",
       "      <th></th>\n",
       "      <th></th>\n",
       "    </tr>\n",
       "  </thead>\n",
       "  <tbody>\n",
       "    <tr>\n",
       "      <th>1594046383808271024</th>\n",
       "      <td>Troy St &amp; Jackson Blvd</td>\n",
       "      <td>9</td>\n",
       "      <td>9</td>\n",
       "      <td>In Service</td>\n",
       "      <td>41.877505</td>\n",
       "      <td>-87.704850</td>\n",
       "      <td>(41.877505, -87.70485)</td>\n",
       "    </tr>\n",
       "    <tr>\n",
       "      <th>641</th>\n",
       "      <td>Central Park Ave &amp; Bloomingdale Ave</td>\n",
       "      <td>11</td>\n",
       "      <td>11</td>\n",
       "      <td>In Service</td>\n",
       "      <td>41.914166</td>\n",
       "      <td>-87.716755</td>\n",
       "      <td>(41.914166, -87.716755)</td>\n",
       "    </tr>\n",
       "    <tr>\n",
       "      <th>1683527931525155814</th>\n",
       "      <td>Public Rack - Cornell Ave &amp; 87th Pl</td>\n",
       "      <td>1</td>\n",
       "      <td>1</td>\n",
       "      <td>In Service</td>\n",
       "      <td>41.736881</td>\n",
       "      <td>-87.583146</td>\n",
       "      <td>(41.73688127, -87.58314552)</td>\n",
       "    </tr>\n",
       "    <tr>\n",
       "      <th>367</th>\n",
       "      <td>Racine Ave &amp; 35th St</td>\n",
       "      <td>15</td>\n",
       "      <td>15</td>\n",
       "      <td>In Service</td>\n",
       "      <td>41.830689</td>\n",
       "      <td>-87.656211</td>\n",
       "      <td>(41.83068856472101, -87.65621066093445)</td>\n",
       "    </tr>\n",
       "    <tr>\n",
       "      <th>1673852313397164648</th>\n",
       "      <td>Public Rack - Francisco Ave &amp; Touhy Ave</td>\n",
       "      <td>2</td>\n",
       "      <td>2</td>\n",
       "      <td>In Service</td>\n",
       "      <td>42.011865</td>\n",
       "      <td>-87.701317</td>\n",
       "      <td>(42.011865, -87.701317)</td>\n",
       "    </tr>\n",
       "  </tbody>\n",
       "</table>\n",
       "</div>"
      ],
      "text/plain": [
       "                                                Station Name  Total Docks  \\\n",
       "ID                                                                          \n",
       "1594046383808271024                   Troy St & Jackson Blvd            9   \n",
       "641                      Central Park Ave & Bloomingdale Ave           11   \n",
       "1683527931525155814      Public Rack - Cornell Ave & 87th Pl            1   \n",
       "367                                     Racine Ave & 35th St           15   \n",
       "1673852313397164648  Public Rack - Francisco Ave & Touhy Ave            2   \n",
       "\n",
       "                     Docks in Service      Status   Latitude  Longitude  \\\n",
       "ID                                                                        \n",
       "1594046383808271024                 9  In Service  41.877505 -87.704850   \n",
       "641                                11  In Service  41.914166 -87.716755   \n",
       "1683527931525155814                 1  In Service  41.736881 -87.583146   \n",
       "367                                15  In Service  41.830689 -87.656211   \n",
       "1673852313397164648                 2  In Service  42.011865 -87.701317   \n",
       "\n",
       "                                                    Location  \n",
       "ID                                                            \n",
       "1594046383808271024                   (41.877505, -87.70485)  \n",
       "641                                  (41.914166, -87.716755)  \n",
       "1683527931525155814              (41.73688127, -87.58314552)  \n",
       "367                  (41.83068856472101, -87.65621066093445)  \n",
       "1673852313397164648                  (42.011865, -87.701317)  "
      ]
     },
     "execution_count": 15,
     "metadata": {},
     "output_type": "execute_result"
    }
   ],
   "source": [
    "df_stations.head()"
   ]
  },
  {
   "cell_type": "code",
   "execution_count": 16,
   "id": "c0f549fa-3b31-40ec-a1f3-a09a59a43404",
   "metadata": {},
   "outputs": [],
   "source": [
    "df_stations['start_station_name'] = df_stations['Station Name']"
   ]
  },
  {
   "cell_type": "code",
   "execution_count": 17,
   "id": "550c56b2-c398-47c0-a631-19dcd5024da2",
   "metadata": {},
   "outputs": [
    {
     "data": {
      "text/html": [
       "<div>\n",
       "<style scoped>\n",
       "    .dataframe tbody tr th:only-of-type {\n",
       "        vertical-align: middle;\n",
       "    }\n",
       "\n",
       "    .dataframe tbody tr th {\n",
       "        vertical-align: top;\n",
       "    }\n",
       "\n",
       "    .dataframe thead th {\n",
       "        text-align: right;\n",
       "    }\n",
       "</style>\n",
       "<table border=\"1\" class=\"dataframe\">\n",
       "  <thead>\n",
       "    <tr style=\"text-align: right;\">\n",
       "      <th></th>\n",
       "      <th>Station Name</th>\n",
       "      <th>Total Docks</th>\n",
       "      <th>Docks in Service</th>\n",
       "      <th>Status</th>\n",
       "      <th>Latitude</th>\n",
       "      <th>Longitude</th>\n",
       "      <th>Location</th>\n",
       "      <th>start_station_name</th>\n",
       "    </tr>\n",
       "    <tr>\n",
       "      <th>ID</th>\n",
       "      <th></th>\n",
       "      <th></th>\n",
       "      <th></th>\n",
       "      <th></th>\n",
       "      <th></th>\n",
       "      <th></th>\n",
       "      <th></th>\n",
       "      <th></th>\n",
       "    </tr>\n",
       "  </thead>\n",
       "  <tbody>\n",
       "    <tr>\n",
       "      <th>1594046383808271024</th>\n",
       "      <td>Troy St &amp; Jackson Blvd</td>\n",
       "      <td>9</td>\n",
       "      <td>9</td>\n",
       "      <td>In Service</td>\n",
       "      <td>41.877505</td>\n",
       "      <td>-87.704850</td>\n",
       "      <td>(41.877505, -87.70485)</td>\n",
       "      <td>Troy St &amp; Jackson Blvd</td>\n",
       "    </tr>\n",
       "    <tr>\n",
       "      <th>641</th>\n",
       "      <td>Central Park Ave &amp; Bloomingdale Ave</td>\n",
       "      <td>11</td>\n",
       "      <td>11</td>\n",
       "      <td>In Service</td>\n",
       "      <td>41.914166</td>\n",
       "      <td>-87.716755</td>\n",
       "      <td>(41.914166, -87.716755)</td>\n",
       "      <td>Central Park Ave &amp; Bloomingdale Ave</td>\n",
       "    </tr>\n",
       "    <tr>\n",
       "      <th>1683527931525155814</th>\n",
       "      <td>Public Rack - Cornell Ave &amp; 87th Pl</td>\n",
       "      <td>1</td>\n",
       "      <td>1</td>\n",
       "      <td>In Service</td>\n",
       "      <td>41.736881</td>\n",
       "      <td>-87.583146</td>\n",
       "      <td>(41.73688127, -87.58314552)</td>\n",
       "      <td>Public Rack - Cornell Ave &amp; 87th Pl</td>\n",
       "    </tr>\n",
       "    <tr>\n",
       "      <th>367</th>\n",
       "      <td>Racine Ave &amp; 35th St</td>\n",
       "      <td>15</td>\n",
       "      <td>15</td>\n",
       "      <td>In Service</td>\n",
       "      <td>41.830689</td>\n",
       "      <td>-87.656211</td>\n",
       "      <td>(41.83068856472101, -87.65621066093445)</td>\n",
       "      <td>Racine Ave &amp; 35th St</td>\n",
       "    </tr>\n",
       "    <tr>\n",
       "      <th>1673852313397164648</th>\n",
       "      <td>Public Rack - Francisco Ave &amp; Touhy Ave</td>\n",
       "      <td>2</td>\n",
       "      <td>2</td>\n",
       "      <td>In Service</td>\n",
       "      <td>42.011865</td>\n",
       "      <td>-87.701317</td>\n",
       "      <td>(42.011865, -87.701317)</td>\n",
       "      <td>Public Rack - Francisco Ave &amp; Touhy Ave</td>\n",
       "    </tr>\n",
       "  </tbody>\n",
       "</table>\n",
       "</div>"
      ],
      "text/plain": [
       "                                                Station Name  Total Docks  \\\n",
       "ID                                                                          \n",
       "1594046383808271024                   Troy St & Jackson Blvd            9   \n",
       "641                      Central Park Ave & Bloomingdale Ave           11   \n",
       "1683527931525155814      Public Rack - Cornell Ave & 87th Pl            1   \n",
       "367                                     Racine Ave & 35th St           15   \n",
       "1673852313397164648  Public Rack - Francisco Ave & Touhy Ave            2   \n",
       "\n",
       "                     Docks in Service      Status   Latitude  Longitude  \\\n",
       "ID                                                                        \n",
       "1594046383808271024                 9  In Service  41.877505 -87.704850   \n",
       "641                                11  In Service  41.914166 -87.716755   \n",
       "1683527931525155814                 1  In Service  41.736881 -87.583146   \n",
       "367                                15  In Service  41.830689 -87.656211   \n",
       "1673852313397164648                 2  In Service  42.011865 -87.701317   \n",
       "\n",
       "                                                    Location  \\\n",
       "ID                                                             \n",
       "1594046383808271024                   (41.877505, -87.70485)   \n",
       "641                                  (41.914166, -87.716755)   \n",
       "1683527931525155814              (41.73688127, -87.58314552)   \n",
       "367                  (41.83068856472101, -87.65621066093445)   \n",
       "1673852313397164648                  (42.011865, -87.701317)   \n",
       "\n",
       "                                          start_station_name  \n",
       "ID                                                            \n",
       "1594046383808271024                   Troy St & Jackson Blvd  \n",
       "641                      Central Park Ave & Bloomingdale Ave  \n",
       "1683527931525155814      Public Rack - Cornell Ave & 87th Pl  \n",
       "367                                     Racine Ave & 35th St  \n",
       "1673852313397164648  Public Rack - Francisco Ave & Touhy Ave  "
      ]
     },
     "execution_count": 17,
     "metadata": {},
     "output_type": "execute_result"
    }
   ],
   "source": [
    "df_stations.head()"
   ]
  },
  {
   "cell_type": "code",
   "execution_count": 18,
   "id": "956238ab-18fb-4240-8136-1cfd99cf926a",
   "metadata": {},
   "outputs": [],
   "source": [
    "df_stations.rename(columns = {'Station Name': 'end_station_name'}, inplace = True)"
   ]
  },
  {
   "cell_type": "code",
   "execution_count": 19,
   "id": "95156f65-5925-4bbb-b80c-fc8c1c1470ae",
   "metadata": {},
   "outputs": [],
   "source": [
    "df_stations.reset_index(inplace = True)"
   ]
  },
  {
   "cell_type": "code",
   "execution_count": 20,
   "id": "9d72fffc-afba-4913-9d51-dd72d90b0ae3",
   "metadata": {},
   "outputs": [],
   "source": [
    "df_stations = df_stations[['end_station_name', 'start_station_name', 'Latitude', 'Longitude']]"
   ]
  },
  {
   "cell_type": "code",
   "execution_count": 21,
   "id": "982bc2b0-4e81-44c7-8c0e-3dbcd9210e8f",
   "metadata": {},
   "outputs": [
    {
     "data": {
      "text/html": [
       "<div>\n",
       "<style scoped>\n",
       "    .dataframe tbody tr th:only-of-type {\n",
       "        vertical-align: middle;\n",
       "    }\n",
       "\n",
       "    .dataframe tbody tr th {\n",
       "        vertical-align: top;\n",
       "    }\n",
       "\n",
       "    .dataframe thead th {\n",
       "        text-align: right;\n",
       "    }\n",
       "</style>\n",
       "<table border=\"1\" class=\"dataframe\">\n",
       "  <thead>\n",
       "    <tr style=\"text-align: right;\">\n",
       "      <th></th>\n",
       "      <th>end_station_name</th>\n",
       "      <th>start_station_name</th>\n",
       "      <th>Latitude</th>\n",
       "      <th>Longitude</th>\n",
       "    </tr>\n",
       "  </thead>\n",
       "  <tbody>\n",
       "    <tr>\n",
       "      <th>0</th>\n",
       "      <td>Troy St &amp; Jackson Blvd</td>\n",
       "      <td>Troy St &amp; Jackson Blvd</td>\n",
       "      <td>41.877505</td>\n",
       "      <td>-87.704850</td>\n",
       "    </tr>\n",
       "    <tr>\n",
       "      <th>1</th>\n",
       "      <td>Central Park Ave &amp; Bloomingdale Ave</td>\n",
       "      <td>Central Park Ave &amp; Bloomingdale Ave</td>\n",
       "      <td>41.914166</td>\n",
       "      <td>-87.716755</td>\n",
       "    </tr>\n",
       "    <tr>\n",
       "      <th>2</th>\n",
       "      <td>Public Rack - Cornell Ave &amp; 87th Pl</td>\n",
       "      <td>Public Rack - Cornell Ave &amp; 87th Pl</td>\n",
       "      <td>41.736881</td>\n",
       "      <td>-87.583146</td>\n",
       "    </tr>\n",
       "    <tr>\n",
       "      <th>3</th>\n",
       "      <td>Racine Ave &amp; 35th St</td>\n",
       "      <td>Racine Ave &amp; 35th St</td>\n",
       "      <td>41.830689</td>\n",
       "      <td>-87.656211</td>\n",
       "    </tr>\n",
       "    <tr>\n",
       "      <th>4</th>\n",
       "      <td>Public Rack - Francisco Ave &amp; Touhy Ave</td>\n",
       "      <td>Public Rack - Francisco Ave &amp; Touhy Ave</td>\n",
       "      <td>42.011865</td>\n",
       "      <td>-87.701317</td>\n",
       "    </tr>\n",
       "    <tr>\n",
       "      <th>...</th>\n",
       "      <td>...</td>\n",
       "      <td>...</td>\n",
       "      <td>...</td>\n",
       "      <td>...</td>\n",
       "    </tr>\n",
       "    <tr>\n",
       "      <th>1411</th>\n",
       "      <td>Sheffield Ave &amp; Kingsbury St</td>\n",
       "      <td>Sheffield Ave &amp; Kingsbury St</td>\n",
       "      <td>41.910522</td>\n",
       "      <td>-87.653106</td>\n",
       "    </tr>\n",
       "    <tr>\n",
       "      <th>1412</th>\n",
       "      <td>Ogden Ave &amp; Chicago Ave</td>\n",
       "      <td>Ogden Ave &amp; Chicago Ave</td>\n",
       "      <td>41.896362</td>\n",
       "      <td>-87.654061</td>\n",
       "    </tr>\n",
       "    <tr>\n",
       "      <th>1413</th>\n",
       "      <td>Baltimore Ave &amp; 87th St</td>\n",
       "      <td>Baltimore Ave &amp; 87th St</td>\n",
       "      <td>41.737336</td>\n",
       "      <td>-87.548515</td>\n",
       "    </tr>\n",
       "    <tr>\n",
       "      <th>1414</th>\n",
       "      <td>Ewing Ave &amp; Burnham Greenway</td>\n",
       "      <td>Ewing Ave &amp; Burnham Greenway</td>\n",
       "      <td>41.712749</td>\n",
       "      <td>-87.534814</td>\n",
       "    </tr>\n",
       "    <tr>\n",
       "      <th>1415</th>\n",
       "      <td>Green St &amp; Randolph St*</td>\n",
       "      <td>Green St &amp; Randolph St*</td>\n",
       "      <td>41.883602</td>\n",
       "      <td>-87.648627</td>\n",
       "    </tr>\n",
       "  </tbody>\n",
       "</table>\n",
       "<p>1416 rows × 4 columns</p>\n",
       "</div>"
      ],
      "text/plain": [
       "                             end_station_name  \\\n",
       "0                      Troy St & Jackson Blvd   \n",
       "1         Central Park Ave & Bloomingdale Ave   \n",
       "2         Public Rack - Cornell Ave & 87th Pl   \n",
       "3                        Racine Ave & 35th St   \n",
       "4     Public Rack - Francisco Ave & Touhy Ave   \n",
       "...                                       ...   \n",
       "1411             Sheffield Ave & Kingsbury St   \n",
       "1412                  Ogden Ave & Chicago Ave   \n",
       "1413                  Baltimore Ave & 87th St   \n",
       "1414             Ewing Ave & Burnham Greenway   \n",
       "1415                  Green St & Randolph St*   \n",
       "\n",
       "                           start_station_name   Latitude  Longitude  \n",
       "0                      Troy St & Jackson Blvd  41.877505 -87.704850  \n",
       "1         Central Park Ave & Bloomingdale Ave  41.914166 -87.716755  \n",
       "2         Public Rack - Cornell Ave & 87th Pl  41.736881 -87.583146  \n",
       "3                        Racine Ave & 35th St  41.830689 -87.656211  \n",
       "4     Public Rack - Francisco Ave & Touhy Ave  42.011865 -87.701317  \n",
       "...                                       ...        ...        ...  \n",
       "1411             Sheffield Ave & Kingsbury St  41.910522 -87.653106  \n",
       "1412                  Ogden Ave & Chicago Ave  41.896362 -87.654061  \n",
       "1413                  Baltimore Ave & 87th St  41.737336 -87.548515  \n",
       "1414             Ewing Ave & Burnham Greenway  41.712749 -87.534814  \n",
       "1415                  Green St & Randolph St*  41.883602 -87.648627  \n",
       "\n",
       "[1416 rows x 4 columns]"
      ]
     },
     "execution_count": 21,
     "metadata": {},
     "output_type": "execute_result"
    }
   ],
   "source": [
    "df_stations"
   ]
  },
  {
   "cell_type": "markdown",
   "id": "d20a6ed8-dd2c-4962-918a-358501116ad7",
   "metadata": {
    "tags": []
   },
   "source": [
    "##### _By start station_"
   ]
  },
  {
   "cell_type": "code",
   "execution_count": 22,
   "id": "db59a01f-3ca4-4b77-8a55-3769afd1e401",
   "metadata": {},
   "outputs": [],
   "source": [
    "df_m = df_group.merge(df_stations, how = 'outer', on = \"start_station_name\", indicator = 'merge_flag')"
   ]
  },
  {
   "cell_type": "code",
   "execution_count": 23,
   "id": "7563a77b-e651-4d4d-8ffa-6506bad380ed",
   "metadata": {},
   "outputs": [
    {
     "data": {
      "text/plain": [
       "both          100331\n",
       "left_only      13348\n",
       "right_only       875\n",
       "Name: merge_flag, dtype: int64"
      ]
     },
     "execution_count": 23,
     "metadata": {},
     "output_type": "execute_result"
    }
   ],
   "source": [
    "df_m['merge_flag'].value_counts(dropna = False)"
   ]
  },
  {
   "cell_type": "code",
   "execution_count": 24,
   "id": "34e397d4-7565-475f-9eb9-6217de348bac",
   "metadata": {},
   "outputs": [],
   "source": [
    "df_m = df_m[df_m['merge_flag'] =='both']"
   ]
  },
  {
   "cell_type": "code",
   "execution_count": 25,
   "id": "75b65502-dee2-453c-a4a1-72f7bd17a26f",
   "metadata": {},
   "outputs": [
    {
     "data": {
      "text/plain": [
       "(100331, 7)"
      ]
     },
     "execution_count": 25,
     "metadata": {},
     "output_type": "execute_result"
    }
   ],
   "source": [
    "df_m.shape"
   ]
  },
  {
   "cell_type": "code",
   "execution_count": 26,
   "id": "93f2d14b-597b-4d54-9d5c-9432fe0e5734",
   "metadata": {},
   "outputs": [
    {
     "data": {
      "text/html": [
       "<div>\n",
       "<style scoped>\n",
       "    .dataframe tbody tr th:only-of-type {\n",
       "        vertical-align: middle;\n",
       "    }\n",
       "\n",
       "    .dataframe tbody tr th {\n",
       "        vertical-align: top;\n",
       "    }\n",
       "\n",
       "    .dataframe thead th {\n",
       "        text-align: right;\n",
       "    }\n",
       "</style>\n",
       "<table border=\"1\" class=\"dataframe\">\n",
       "  <thead>\n",
       "    <tr style=\"text-align: right;\">\n",
       "      <th></th>\n",
       "      <th>start_station_name</th>\n",
       "      <th>end_station_name_x</th>\n",
       "      <th>trips</th>\n",
       "      <th>end_station_name_y</th>\n",
       "      <th>Latitude</th>\n",
       "      <th>Longitude</th>\n",
       "      <th>merge_flag</th>\n",
       "    </tr>\n",
       "  </thead>\n",
       "  <tbody>\n",
       "    <tr>\n",
       "      <th>0</th>\n",
       "      <td>2112 W Peterson Ave</td>\n",
       "      <td>2112 W Peterson Ave</td>\n",
       "      <td>14.0</td>\n",
       "      <td>2112 W Peterson Ave</td>\n",
       "      <td>41.991178</td>\n",
       "      <td>-87.683593</td>\n",
       "      <td>both</td>\n",
       "    </tr>\n",
       "    <tr>\n",
       "      <th>1</th>\n",
       "      <td>2112 W Peterson Ave</td>\n",
       "      <td>Ashland Ave &amp; Belle Plaine Ave</td>\n",
       "      <td>1.0</td>\n",
       "      <td>2112 W Peterson Ave</td>\n",
       "      <td>41.991178</td>\n",
       "      <td>-87.683593</td>\n",
       "      <td>both</td>\n",
       "    </tr>\n",
       "    <tr>\n",
       "      <th>2</th>\n",
       "      <td>2112 W Peterson Ave</td>\n",
       "      <td>Avondale Ave &amp; Irving Park Rd</td>\n",
       "      <td>1.0</td>\n",
       "      <td>2112 W Peterson Ave</td>\n",
       "      <td>41.991178</td>\n",
       "      <td>-87.683593</td>\n",
       "      <td>both</td>\n",
       "    </tr>\n",
       "    <tr>\n",
       "      <th>3</th>\n",
       "      <td>2112 W Peterson Ave</td>\n",
       "      <td>Benson Ave &amp; Church St</td>\n",
       "      <td>2.0</td>\n",
       "      <td>2112 W Peterson Ave</td>\n",
       "      <td>41.991178</td>\n",
       "      <td>-87.683593</td>\n",
       "      <td>both</td>\n",
       "    </tr>\n",
       "    <tr>\n",
       "      <th>4</th>\n",
       "      <td>2112 W Peterson Ave</td>\n",
       "      <td>Broadway &amp; Argyle St</td>\n",
       "      <td>2.0</td>\n",
       "      <td>2112 W Peterson Ave</td>\n",
       "      <td>41.991178</td>\n",
       "      <td>-87.683593</td>\n",
       "      <td>both</td>\n",
       "    </tr>\n",
       "  </tbody>\n",
       "</table>\n",
       "</div>"
      ],
      "text/plain": [
       "    start_station_name              end_station_name_x  trips  \\\n",
       "0  2112 W Peterson Ave             2112 W Peterson Ave   14.0   \n",
       "1  2112 W Peterson Ave  Ashland Ave & Belle Plaine Ave    1.0   \n",
       "2  2112 W Peterson Ave   Avondale Ave & Irving Park Rd    1.0   \n",
       "3  2112 W Peterson Ave          Benson Ave & Church St    2.0   \n",
       "4  2112 W Peterson Ave            Broadway & Argyle St    2.0   \n",
       "\n",
       "    end_station_name_y   Latitude  Longitude merge_flag  \n",
       "0  2112 W Peterson Ave  41.991178 -87.683593       both  \n",
       "1  2112 W Peterson Ave  41.991178 -87.683593       both  \n",
       "2  2112 W Peterson Ave  41.991178 -87.683593       both  \n",
       "3  2112 W Peterson Ave  41.991178 -87.683593       both  \n",
       "4  2112 W Peterson Ave  41.991178 -87.683593       both  "
      ]
     },
     "execution_count": 26,
     "metadata": {},
     "output_type": "execute_result"
    }
   ],
   "source": [
    "df_m.head()"
   ]
  },
  {
   "cell_type": "code",
   "execution_count": 27,
   "id": "ef573df0-b66a-4071-92e5-702538428a28",
   "metadata": {
    "tags": []
   },
   "outputs": [],
   "source": [
    "df_m.drop(columns = {'end_station_name_y'}, inplace = True)"
   ]
  },
  {
   "cell_type": "code",
   "execution_count": 28,
   "id": "9d4a2827-ec71-450a-9160-37344ae7a8b2",
   "metadata": {},
   "outputs": [],
   "source": [
    "df_m.rename(columns = {'end_station_name_x' : 'end_station_name'}, inplace = True)"
   ]
  },
  {
   "cell_type": "markdown",
   "id": "7c90b011-feef-4b85-ac53-141d50adfcd6",
   "metadata": {},
   "source": [
    "##### _By end station_"
   ]
  },
  {
   "cell_type": "code",
   "execution_count": 29,
   "id": "1527111d-6868-4688-9e4a-34472a2af085",
   "metadata": {},
   "outputs": [],
   "source": [
    "df_final = df_m.merge(df_stations, how = 'outer', on = \"end_station_name\", indicator = 'merge_flag_2')"
   ]
  },
  {
   "cell_type": "code",
   "execution_count": 30,
   "id": "9b60994c-ab66-49bf-87d3-c1e1d405d67b",
   "metadata": {},
   "outputs": [
    {
     "data": {
      "text/plain": [
       "both          88704\n",
       "left_only     11627\n",
       "right_only      877\n",
       "Name: merge_flag_2, dtype: int64"
      ]
     },
     "execution_count": 30,
     "metadata": {},
     "output_type": "execute_result"
    }
   ],
   "source": [
    "df_final['merge_flag_2'].value_counts(dropna = False)"
   ]
  },
  {
   "cell_type": "code",
   "execution_count": 31,
   "id": "f6b79ea4-740f-46ec-a686-08dd339e8b59",
   "metadata": {},
   "outputs": [
    {
     "data": {
      "text/html": [
       "<div>\n",
       "<style scoped>\n",
       "    .dataframe tbody tr th:only-of-type {\n",
       "        vertical-align: middle;\n",
       "    }\n",
       "\n",
       "    .dataframe tbody tr th {\n",
       "        vertical-align: top;\n",
       "    }\n",
       "\n",
       "    .dataframe thead th {\n",
       "        text-align: right;\n",
       "    }\n",
       "</style>\n",
       "<table border=\"1\" class=\"dataframe\">\n",
       "  <thead>\n",
       "    <tr style=\"text-align: right;\">\n",
       "      <th></th>\n",
       "      <th>start_station_name_x</th>\n",
       "      <th>end_station_name</th>\n",
       "      <th>trips</th>\n",
       "      <th>Latitude_x</th>\n",
       "      <th>Longitude_x</th>\n",
       "      <th>merge_flag</th>\n",
       "      <th>start_station_name_y</th>\n",
       "      <th>Latitude_y</th>\n",
       "      <th>Longitude_y</th>\n",
       "      <th>merge_flag_2</th>\n",
       "    </tr>\n",
       "  </thead>\n",
       "  <tbody>\n",
       "    <tr>\n",
       "      <th>0</th>\n",
       "      <td>2112 W Peterson Ave</td>\n",
       "      <td>2112 W Peterson Ave</td>\n",
       "      <td>14.0</td>\n",
       "      <td>41.991178</td>\n",
       "      <td>-87.683593</td>\n",
       "      <td>both</td>\n",
       "      <td>2112 W Peterson Ave</td>\n",
       "      <td>41.991178</td>\n",
       "      <td>-87.683593</td>\n",
       "      <td>both</td>\n",
       "    </tr>\n",
       "    <tr>\n",
       "      <th>1</th>\n",
       "      <td>Ashland Ave &amp; Belle Plaine Ave</td>\n",
       "      <td>2112 W Peterson Ave</td>\n",
       "      <td>1.0</td>\n",
       "      <td>41.956057</td>\n",
       "      <td>-87.668835</td>\n",
       "      <td>both</td>\n",
       "      <td>2112 W Peterson Ave</td>\n",
       "      <td>41.991178</td>\n",
       "      <td>-87.683593</td>\n",
       "      <td>both</td>\n",
       "    </tr>\n",
       "    <tr>\n",
       "      <th>2</th>\n",
       "      <td>Avondale Ave &amp; Irving Park Rd</td>\n",
       "      <td>2112 W Peterson Ave</td>\n",
       "      <td>1.0</td>\n",
       "      <td>41.953393</td>\n",
       "      <td>-87.732002</td>\n",
       "      <td>both</td>\n",
       "      <td>2112 W Peterson Ave</td>\n",
       "      <td>41.991178</td>\n",
       "      <td>-87.683593</td>\n",
       "      <td>both</td>\n",
       "    </tr>\n",
       "    <tr>\n",
       "      <th>3</th>\n",
       "      <td>Broadway &amp; Barry Ave</td>\n",
       "      <td>2112 W Peterson Ave</td>\n",
       "      <td>5.0</td>\n",
       "      <td>41.937582</td>\n",
       "      <td>-87.644098</td>\n",
       "      <td>both</td>\n",
       "      <td>2112 W Peterson Ave</td>\n",
       "      <td>41.991178</td>\n",
       "      <td>-87.683593</td>\n",
       "      <td>both</td>\n",
       "    </tr>\n",
       "    <tr>\n",
       "      <th>4</th>\n",
       "      <td>Broadway &amp; Berwyn Ave</td>\n",
       "      <td>2112 W Peterson Ave</td>\n",
       "      <td>6.0</td>\n",
       "      <td>41.978353</td>\n",
       "      <td>-87.659753</td>\n",
       "      <td>both</td>\n",
       "      <td>2112 W Peterson Ave</td>\n",
       "      <td>41.991178</td>\n",
       "      <td>-87.683593</td>\n",
       "      <td>both</td>\n",
       "    </tr>\n",
       "  </tbody>\n",
       "</table>\n",
       "</div>"
      ],
      "text/plain": [
       "             start_station_name_x     end_station_name  trips  Latitude_x  \\\n",
       "0             2112 W Peterson Ave  2112 W Peterson Ave   14.0   41.991178   \n",
       "1  Ashland Ave & Belle Plaine Ave  2112 W Peterson Ave    1.0   41.956057   \n",
       "2   Avondale Ave & Irving Park Rd  2112 W Peterson Ave    1.0   41.953393   \n",
       "3            Broadway & Barry Ave  2112 W Peterson Ave    5.0   41.937582   \n",
       "4           Broadway & Berwyn Ave  2112 W Peterson Ave    6.0   41.978353   \n",
       "\n",
       "   Longitude_x merge_flag start_station_name_y  Latitude_y  Longitude_y  \\\n",
       "0   -87.683593       both  2112 W Peterson Ave   41.991178   -87.683593   \n",
       "1   -87.668835       both  2112 W Peterson Ave   41.991178   -87.683593   \n",
       "2   -87.732002       both  2112 W Peterson Ave   41.991178   -87.683593   \n",
       "3   -87.644098       both  2112 W Peterson Ave   41.991178   -87.683593   \n",
       "4   -87.659753       both  2112 W Peterson Ave   41.991178   -87.683593   \n",
       "\n",
       "  merge_flag_2  \n",
       "0         both  \n",
       "1         both  \n",
       "2         both  \n",
       "3         both  \n",
       "4         both  "
      ]
     },
     "execution_count": 31,
     "metadata": {},
     "output_type": "execute_result"
    }
   ],
   "source": [
    "df_final.head()"
   ]
  },
  {
   "cell_type": "code",
   "execution_count": 32,
   "id": "f60a4834-5aed-41ab-a27e-f3e0954fd726",
   "metadata": {
    "tags": []
   },
   "outputs": [],
   "source": [
    "df_final = df_final[df_final['merge_flag_2'] =='both']"
   ]
  },
  {
   "cell_type": "code",
   "execution_count": 33,
   "id": "89398f69-002e-4afb-a6f8-7ba0aa0f5a97",
   "metadata": {
    "tags": []
   },
   "outputs": [],
   "source": [
    "df_final.drop(columns = {'start_station_name_y', 'merge_flag', 'merge_flag_2'}, inplace = True)"
   ]
  },
  {
   "cell_type": "code",
   "execution_count": 34,
   "id": "fd165792-c349-419a-97c6-267b8a58bad5",
   "metadata": {},
   "outputs": [],
   "source": [
    "df_final.rename(columns = {'start_station_name_x' : 'start_station_name'}, inplace = True)"
   ]
  },
  {
   "cell_type": "code",
   "execution_count": 35,
   "id": "7d2bf987-2c9d-4459-bd90-b39c5ea10288",
   "metadata": {},
   "outputs": [
    {
     "data": {
      "text/html": [
       "<div>\n",
       "<style scoped>\n",
       "    .dataframe tbody tr th:only-of-type {\n",
       "        vertical-align: middle;\n",
       "    }\n",
       "\n",
       "    .dataframe tbody tr th {\n",
       "        vertical-align: top;\n",
       "    }\n",
       "\n",
       "    .dataframe thead th {\n",
       "        text-align: right;\n",
       "    }\n",
       "</style>\n",
       "<table border=\"1\" class=\"dataframe\">\n",
       "  <thead>\n",
       "    <tr style=\"text-align: right;\">\n",
       "      <th></th>\n",
       "      <th>start_station_name</th>\n",
       "      <th>end_station_name</th>\n",
       "      <th>trips</th>\n",
       "      <th>Latitude_x</th>\n",
       "      <th>Longitude_x</th>\n",
       "      <th>Latitude_y</th>\n",
       "      <th>Longitude_y</th>\n",
       "    </tr>\n",
       "  </thead>\n",
       "  <tbody>\n",
       "    <tr>\n",
       "      <th>0</th>\n",
       "      <td>2112 W Peterson Ave</td>\n",
       "      <td>2112 W Peterson Ave</td>\n",
       "      <td>14.0</td>\n",
       "      <td>41.991178</td>\n",
       "      <td>-87.683593</td>\n",
       "      <td>41.991178</td>\n",
       "      <td>-87.683593</td>\n",
       "    </tr>\n",
       "    <tr>\n",
       "      <th>1</th>\n",
       "      <td>Ashland Ave &amp; Belle Plaine Ave</td>\n",
       "      <td>2112 W Peterson Ave</td>\n",
       "      <td>1.0</td>\n",
       "      <td>41.956057</td>\n",
       "      <td>-87.668835</td>\n",
       "      <td>41.991178</td>\n",
       "      <td>-87.683593</td>\n",
       "    </tr>\n",
       "    <tr>\n",
       "      <th>2</th>\n",
       "      <td>Avondale Ave &amp; Irving Park Rd</td>\n",
       "      <td>2112 W Peterson Ave</td>\n",
       "      <td>1.0</td>\n",
       "      <td>41.953393</td>\n",
       "      <td>-87.732002</td>\n",
       "      <td>41.991178</td>\n",
       "      <td>-87.683593</td>\n",
       "    </tr>\n",
       "    <tr>\n",
       "      <th>3</th>\n",
       "      <td>Broadway &amp; Barry Ave</td>\n",
       "      <td>2112 W Peterson Ave</td>\n",
       "      <td>5.0</td>\n",
       "      <td>41.937582</td>\n",
       "      <td>-87.644098</td>\n",
       "      <td>41.991178</td>\n",
       "      <td>-87.683593</td>\n",
       "    </tr>\n",
       "    <tr>\n",
       "      <th>4</th>\n",
       "      <td>Broadway &amp; Berwyn Ave</td>\n",
       "      <td>2112 W Peterson Ave</td>\n",
       "      <td>6.0</td>\n",
       "      <td>41.978353</td>\n",
       "      <td>-87.659753</td>\n",
       "      <td>41.991178</td>\n",
       "      <td>-87.683593</td>\n",
       "    </tr>\n",
       "  </tbody>\n",
       "</table>\n",
       "</div>"
      ],
      "text/plain": [
       "               start_station_name     end_station_name  trips  Latitude_x  \\\n",
       "0             2112 W Peterson Ave  2112 W Peterson Ave   14.0   41.991178   \n",
       "1  Ashland Ave & Belle Plaine Ave  2112 W Peterson Ave    1.0   41.956057   \n",
       "2   Avondale Ave & Irving Park Rd  2112 W Peterson Ave    1.0   41.953393   \n",
       "3            Broadway & Barry Ave  2112 W Peterson Ave    5.0   41.937582   \n",
       "4           Broadway & Berwyn Ave  2112 W Peterson Ave    6.0   41.978353   \n",
       "\n",
       "   Longitude_x  Latitude_y  Longitude_y  \n",
       "0   -87.683593   41.991178   -87.683593  \n",
       "1   -87.668835   41.991178   -87.683593  \n",
       "2   -87.732002   41.991178   -87.683593  \n",
       "3   -87.644098   41.991178   -87.683593  \n",
       "4   -87.659753   41.991178   -87.683593  "
      ]
     },
     "execution_count": 35,
     "metadata": {},
     "output_type": "execute_result"
    }
   ],
   "source": [
    "df_final.head()"
   ]
  },
  {
   "cell_type": "code",
   "execution_count": 37,
   "id": "642db7f8-e658-49a1-b141-bc5dfbeded77",
   "metadata": {},
   "outputs": [
    {
     "data": {
      "text/plain": [
       "9716"
      ]
     },
     "execution_count": 37,
     "metadata": {},
     "output_type": "execute_result"
    }
   ],
   "source": [
    "import gc # this is garbage collector - speeds up performance\n",
    "gc.collect()"
   ]
  },
  {
   "cell_type": "code",
   "execution_count": 38,
   "id": "64f29bbe-1b42-4909-85bf-41015ef0f14d",
   "metadata": {},
   "outputs": [
    {
     "data": {
      "text/html": [
       "<div>\n",
       "<style scoped>\n",
       "    .dataframe tbody tr th:only-of-type {\n",
       "        vertical-align: middle;\n",
       "    }\n",
       "\n",
       "    .dataframe tbody tr th {\n",
       "        vertical-align: top;\n",
       "    }\n",
       "\n",
       "    .dataframe thead th {\n",
       "        text-align: right;\n",
       "    }\n",
       "</style>\n",
       "<table border=\"1\" class=\"dataframe\">\n",
       "  <thead>\n",
       "    <tr style=\"text-align: right;\">\n",
       "      <th></th>\n",
       "      <th>start_station_name</th>\n",
       "      <th>end_station_name</th>\n",
       "      <th>trips</th>\n",
       "      <th>Latitude_x</th>\n",
       "      <th>Longitude_x</th>\n",
       "      <th>Latitude_y</th>\n",
       "      <th>Longitude_y</th>\n",
       "    </tr>\n",
       "  </thead>\n",
       "  <tbody>\n",
       "    <tr>\n",
       "      <th>0</th>\n",
       "      <td>2112 W Peterson Ave</td>\n",
       "      <td>2112 W Peterson Ave</td>\n",
       "      <td>14.0</td>\n",
       "      <td>41.991178</td>\n",
       "      <td>-87.683593</td>\n",
       "      <td>41.991178</td>\n",
       "      <td>-87.683593</td>\n",
       "    </tr>\n",
       "    <tr>\n",
       "      <th>1</th>\n",
       "      <td>Ashland Ave &amp; Belle Plaine Ave</td>\n",
       "      <td>2112 W Peterson Ave</td>\n",
       "      <td>1.0</td>\n",
       "      <td>41.956057</td>\n",
       "      <td>-87.668835</td>\n",
       "      <td>41.991178</td>\n",
       "      <td>-87.683593</td>\n",
       "    </tr>\n",
       "    <tr>\n",
       "      <th>2</th>\n",
       "      <td>Avondale Ave &amp; Irving Park Rd</td>\n",
       "      <td>2112 W Peterson Ave</td>\n",
       "      <td>1.0</td>\n",
       "      <td>41.953393</td>\n",
       "      <td>-87.732002</td>\n",
       "      <td>41.991178</td>\n",
       "      <td>-87.683593</td>\n",
       "    </tr>\n",
       "    <tr>\n",
       "      <th>3</th>\n",
       "      <td>Broadway &amp; Barry Ave</td>\n",
       "      <td>2112 W Peterson Ave</td>\n",
       "      <td>5.0</td>\n",
       "      <td>41.937582</td>\n",
       "      <td>-87.644098</td>\n",
       "      <td>41.991178</td>\n",
       "      <td>-87.683593</td>\n",
       "    </tr>\n",
       "    <tr>\n",
       "      <th>4</th>\n",
       "      <td>Broadway &amp; Berwyn Ave</td>\n",
       "      <td>2112 W Peterson Ave</td>\n",
       "      <td>6.0</td>\n",
       "      <td>41.978353</td>\n",
       "      <td>-87.659753</td>\n",
       "      <td>41.991178</td>\n",
       "      <td>-87.683593</td>\n",
       "    </tr>\n",
       "  </tbody>\n",
       "</table>\n",
       "</div>"
      ],
      "text/plain": [
       "               start_station_name     end_station_name  trips  Latitude_x  \\\n",
       "0             2112 W Peterson Ave  2112 W Peterson Ave   14.0   41.991178   \n",
       "1  Ashland Ave & Belle Plaine Ave  2112 W Peterson Ave    1.0   41.956057   \n",
       "2   Avondale Ave & Irving Park Rd  2112 W Peterson Ave    1.0   41.953393   \n",
       "3            Broadway & Barry Ave  2112 W Peterson Ave    5.0   41.937582   \n",
       "4           Broadway & Berwyn Ave  2112 W Peterson Ave    6.0   41.978353   \n",
       "\n",
       "   Longitude_x  Latitude_y  Longitude_y  \n",
       "0   -87.683593   41.991178   -87.683593  \n",
       "1   -87.668835   41.991178   -87.683593  \n",
       "2   -87.732002   41.991178   -87.683593  \n",
       "3   -87.644098   41.991178   -87.683593  \n",
       "4   -87.659753   41.991178   -87.683593  "
      ]
     },
     "execution_count": 38,
     "metadata": {},
     "output_type": "execute_result"
    }
   ],
   "source": [
    "df_final.head()"
   ]
  },
  {
   "cell_type": "code",
   "execution_count": 39,
   "id": "a9f4f36b-84a1-440d-9b0c-1f771f79598d",
   "metadata": {},
   "outputs": [],
   "source": [
    "df_final.rename(columns = {'Latitude_x' : 'start_lat', 'Longitude_x' : 'start_lon', \n",
    "       'Latitude_y' : 'end_lat', 'Longitude_y' : 'end_lon',}, inplace = True)"
   ]
  },
  {
   "cell_type": "markdown",
   "id": "bac573ed-a47c-4522-a066-02dbd483a143",
   "metadata": {},
   "source": [
    "## PLot the map"
   ]
  },
  {
   "cell_type": "code",
   "execution_count": 40,
   "id": "b30a1ff4-a70b-42cc-b964-86d6736e0d7b",
   "metadata": {},
   "outputs": [],
   "source": [
    "df_final.to_csv('df_final_locations_for_map.csv')"
   ]
  },
  {
   "cell_type": "code",
   "execution_count": 42,
   "id": "aad1c479-1b94-4af9-b85e-e382c38b397f",
   "metadata": {},
   "outputs": [
    {
     "name": "stdout",
     "output_type": "stream",
     "text": [
      "User Guide: https://docs.kepler.gl/docs/keplergl-jupyter\n"
     ]
    },
    {
     "data": {
      "application/vnd.jupyter.widget-view+json": {
       "model_id": "292c933bfa344b1596a74f9a654356c1",
       "version_major": 2,
       "version_minor": 0
      },
      "text/plain": [
       "KeplerGl(data={'data_1':                          start_station_name        end_station_name  trips  \\\n",
       "0      …"
      ]
     },
     "metadata": {},
     "output_type": "display_data"
    }
   ],
   "source": [
    "# Create KeplerGl instance\n",
    "\n",
    "m = KeplerGl(height = 700, data={\"data_1\": df_final})\n",
    "m"
   ]
  },
  {
   "cell_type": "code",
   "execution_count": 43,
   "id": "47e4e38f-6ef2-47d2-aeec-8bedea2a5a4c",
   "metadata": {
    "tags": []
   },
   "outputs": [],
   "source": [
    "config = m.config"
   ]
  },
  {
   "cell_type": "code",
   "execution_count": null,
   "id": "2c185e31-b3d6-48a0-97da-80949dae80c5",
   "metadata": {
    "collapsed": true,
    "jupyter": {
     "outputs_hidden": true
    },
    "tags": []
   },
   "outputs": [
    {
     "data": {
      "text/plain": [
       "{'version': 'v1',\n",
       " 'config': {'visState': {'filters': [],\n",
       "   'layers': [{'id': '1hzmdfg',\n",
       "     'type': 'point',\n",
       "     'config': {'dataId': 'data_1',\n",
       "      'label': 'start',\n",
       "      'color': [218, 112, 191],\n",
       "      'highlightColor': [252, 242, 26, 255],\n",
       "      'columns': {'lat': 'start_lat', 'lng': 'start_lon', 'altitude': None},\n",
       "      'isVisible': True,\n",
       "      'visConfig': {'radius': 10,\n",
       "       'fixedRadius': False,\n",
       "       'opacity': 0.8,\n",
       "       'outline': False,\n",
       "       'thickness': 2,\n",
       "       'strokeColor': None,\n",
       "       'colorRange': {'name': 'Global Warming',\n",
       "        'type': 'sequential',\n",
       "        'category': 'Uber',\n",
       "        'colors': ['#5A1846',\n",
       "         '#900C3F',\n",
       "         '#C70039',\n",
       "         '#E3611C',\n",
       "         '#F1920E',\n",
       "         '#FFC300']},\n",
       "       'strokeColorRange': {'name': 'Global Warming',\n",
       "        'type': 'sequential',\n",
       "        'category': 'Uber',\n",
       "        'colors': ['#5A1846',\n",
       "         '#900C3F',\n",
       "         '#C70039',\n",
       "         '#E3611C',\n",
       "         '#F1920E',\n",
       "         '#FFC300']},\n",
       "       'radiusRange': [0, 50],\n",
       "       'filled': True},\n",
       "      'hidden': False,\n",
       "      'textLabel': [{'field': None,\n",
       "        'color': [255, 255, 255],\n",
       "        'size': 18,\n",
       "        'offset': [0, 0],\n",
       "        'anchor': 'start',\n",
       "        'alignment': 'center'}]},\n",
       "     'visualChannels': {'colorField': {'name': 'trips', 'type': 'integer'},\n",
       "      'colorScale': 'quantile',\n",
       "      'strokeColorField': None,\n",
       "      'strokeColorScale': 'quantile',\n",
       "      'sizeField': None,\n",
       "      'sizeScale': 'linear'}},\n",
       "    {'id': '6od3yrb',\n",
       "     'type': 'point',\n",
       "     'config': {'dataId': 'data_1',\n",
       "      'label': 'end',\n",
       "      'color': [18, 92, 119],\n",
       "      'highlightColor': [252, 242, 26, 255],\n",
       "      'columns': {'lat': 'end_lat', 'lng': 'end_lon', 'altitude': None},\n",
       "      'isVisible': False,\n",
       "      'visConfig': {'radius': 10,\n",
       "       'fixedRadius': False,\n",
       "       'opacity': 0.8,\n",
       "       'outline': False,\n",
       "       'thickness': 2,\n",
       "       'strokeColor': None,\n",
       "       'colorRange': {'name': 'Global Warming',\n",
       "        'type': 'sequential',\n",
       "        'category': 'Uber',\n",
       "        'colors': ['#5A1846',\n",
       "         '#900C3F',\n",
       "         '#C70039',\n",
       "         '#E3611C',\n",
       "         '#F1920E',\n",
       "         '#FFC300']},\n",
       "       'strokeColorRange': {'name': 'Global Warming',\n",
       "        'type': 'sequential',\n",
       "        'category': 'Uber',\n",
       "        'colors': ['#5A1846',\n",
       "         '#900C3F',\n",
       "         '#C70039',\n",
       "         '#E3611C',\n",
       "         '#F1920E',\n",
       "         '#FFC300']},\n",
       "       'radiusRange': [0, 50],\n",
       "       'filled': True},\n",
       "      'hidden': False,\n",
       "      'textLabel': [{'field': None,\n",
       "        'color': [255, 255, 255],\n",
       "        'size': 18,\n",
       "        'offset': [0, 0],\n",
       "        'anchor': 'start',\n",
       "        'alignment': 'center'}]},\n",
       "     'visualChannels': {'colorField': {'name': 'trips', 'type': 'integer'},\n",
       "      'colorScale': 'quantile',\n",
       "      'strokeColorField': None,\n",
       "      'strokeColorScale': 'quantile',\n",
       "      'sizeField': None,\n",
       "      'sizeScale': 'linear'}},\n",
       "    {'id': 'w0jyvf',\n",
       "     'type': 'arc',\n",
       "     'config': {'dataId': 'data_1',\n",
       "      'label': 'start -> end arc',\n",
       "      'color': [146, 38, 198],\n",
       "      'highlightColor': [252, 242, 26, 255],\n",
       "      'columns': {'lat0': 'start_lat',\n",
       "       'lng0': 'start_lon',\n",
       "       'lat1': 'end_lat',\n",
       "       'lng1': 'end_lon'},\n",
       "      'isVisible': False,\n",
       "      'visConfig': {'opacity': 0.8,\n",
       "       'thickness': 2,\n",
       "       'colorRange': {'name': 'Global Warming',\n",
       "        'type': 'sequential',\n",
       "        'category': 'Uber',\n",
       "        'colors': ['#5A1846',\n",
       "         '#900C3F',\n",
       "         '#C70039',\n",
       "         '#E3611C',\n",
       "         '#F1920E',\n",
       "         '#FFC300']},\n",
       "       'sizeRange': [0, 10],\n",
       "       'targetColor': None},\n",
       "      'hidden': False,\n",
       "      'textLabel': [{'field': None,\n",
       "        'color': [255, 255, 255],\n",
       "        'size': 18,\n",
       "        'offset': [0, 0],\n",
       "        'anchor': 'start',\n",
       "        'alignment': 'center'}]},\n",
       "     'visualChannels': {'colorField': None,\n",
       "      'colorScale': 'quantile',\n",
       "      'sizeField': None,\n",
       "      'sizeScale': 'linear'}},\n",
       "    {'id': '5u4k3xy',\n",
       "     'type': 'line',\n",
       "     'config': {'dataId': 'data_1',\n",
       "      'label': 'start -> end line',\n",
       "      'color': [77, 193, 156],\n",
       "      'highlightColor': [252, 242, 26, 255],\n",
       "      'columns': {'lat0': 'start_lat',\n",
       "       'lng0': 'start_lon',\n",
       "       'alt0': None,\n",
       "       'lat1': 'end_lat',\n",
       "       'lng1': 'end_lon',\n",
       "       'alt1': None},\n",
       "      'isVisible': False,\n",
       "      'visConfig': {'opacity': 0.8,\n",
       "       'thickness': 2,\n",
       "       'colorRange': {'name': 'Global Warming',\n",
       "        'type': 'sequential',\n",
       "        'category': 'Uber',\n",
       "        'colors': ['#5A1846',\n",
       "         '#900C3F',\n",
       "         '#C70039',\n",
       "         '#E3611C',\n",
       "         '#F1920E',\n",
       "         '#FFC300']},\n",
       "       'sizeRange': [0, 10],\n",
       "       'targetColor': None,\n",
       "       'elevationScale': 1},\n",
       "      'hidden': False,\n",
       "      'textLabel': [{'field': None,\n",
       "        'color': [255, 255, 255],\n",
       "        'size': 18,\n",
       "        'offset': [0, 0],\n",
       "        'anchor': 'start',\n",
       "        'alignment': 'center'}]},\n",
       "     'visualChannels': {'colorField': None,\n",
       "      'colorScale': 'quantile',\n",
       "      'sizeField': None,\n",
       "      'sizeScale': 'linear'}}],\n",
       "   'interactionConfig': {'tooltip': {'fieldsToShow': {'data_1': [{'name': 'start_station_name',\n",
       "        'format': None},\n",
       "       {'name': 'end_station_name', 'format': None},\n",
       "       {'name': 'trips', 'format': None}]},\n",
       "     'compareMode': False,\n",
       "     'compareType': 'absolute',\n",
       "     'enabled': True},\n",
       "    'brush': {'size': 0.5, 'enabled': False},\n",
       "    'geocoder': {'enabled': False},\n",
       "    'coordinate': {'enabled': False}},\n",
       "   'layerBlending': 'normal',\n",
       "   'splitMaps': [],\n",
       "   'animationConfig': {'currentTime': None, 'speed': 1}},\n",
       "  'mapState': {'bearing': 0,\n",
       "   'dragRotate': False,\n",
       "   'latitude': 41.834434934728705,\n",
       "   'longitude': -87.83867674905144,\n",
       "   'pitch': 0,\n",
       "   'zoom': 12.83768825074037,\n",
       "   'isSplit': False},\n",
       "  'mapStyle': {'styleType': 'dark',\n",
       "   'topLayerGroups': {},\n",
       "   'visibleLayerGroups': {'label': True,\n",
       "    'road': True,\n",
       "    'border': False,\n",
       "    'building': True,\n",
       "    'water': True,\n",
       "    'land': True,\n",
       "    '3d building': False},\n",
       "   'threeDBuildingColor': [9.665468314072013,\n",
       "    17.18305478057247,\n",
       "    31.1442867897876],\n",
       "   'mapStyles': {}}}}"
      ]
     },
     "execution_count": 46,
     "metadata": {},
     "output_type": "execute_result"
    }
   ],
   "source": [
    "config"
   ]
  },
  {
   "cell_type": "code",
   "execution_count": 48,
   "id": "1d3b48de-e6ca-4bf1-a20b-82e85530f298",
   "metadata": {},
   "outputs": [],
   "source": [
    "import json\n",
    "with open(\"config.json\", \"w\") as outfile:\n",
    "    json.dump(config, outfile)"
   ]
  },
  {
   "cell_type": "code",
   "execution_count": 47,
   "id": "1359be63-fbd7-44b0-8841-c973ede15ace",
   "metadata": {},
   "outputs": [
    {
     "name": "stdout",
     "output_type": "stream",
     "text": [
      "Map saved to Divvy Bike Trips Aggregated.html!\n"
     ]
    }
   ],
   "source": [
    "m.save_to_html(file_name = 'Divvy Bike Trips Aggregated.html', read_only = False, config = config)"
   ]
  }
 ],
 "metadata": {
  "kernelspec": {
   "display_name": "Python 3 (ipykernel)",
   "language": "python",
   "name": "python3"
  },
  "language_info": {
   "codemirror_mode": {
    "name": "ipython",
    "version": 3
   },
   "file_extension": ".py",
   "mimetype": "text/x-python",
   "name": "python",
   "nbconvert_exporter": "python",
   "pygments_lexer": "ipython3",
   "version": "3.10.10"
  }
 },
 "nbformat": 4,
 "nbformat_minor": 5
}
