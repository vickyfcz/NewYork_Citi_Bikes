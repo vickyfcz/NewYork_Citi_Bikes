{
 "cells": [
  {
   "cell_type": "markdown",
   "id": "0eec8646-4296-461a-aa98-300185b3a3d1",
   "metadata": {},
   "source": [
    "## Task: 2.5 Advancecd Geospatial plotting"
   ]
  },
  {
   "cell_type": "code",
   "execution_count": 1,
   "id": "2cc26883-7dbb-485e-86a7-902718685dde",
   "metadata": {},
   "outputs": [],
   "source": [
    "import pandas as pd\n",
    "import os\n",
    "from keplergl import KeplerGl\n",
    "from pyproj import CRS\n",
    "import numpy as np\n",
    "from matplotlib import pyplot as plt"
   ]
  },
  {
   "cell_type": "code",
   "execution_count": 3,
   "id": "619d732a-8b2e-42cf-a0fa-0ad5fa39b6dc",
   "metadata": {},
   "outputs": [],
   "source": [
    "path ='/Users/vickyczada/Library/CloudStorage/OneDrive-Personal/Documents/Career Foundry/Data Visualisation with Python/Achievement 2/New_York_Citi_Bikes_2022/NewYork_Bikes_data.csv'"
   ]
  },
  {
   "cell_type": "code",
   "execution_count": 5,
   "id": "2d451418-e0a6-4ea9-88c3-bc3432cf9e9f",
   "metadata": {},
   "outputs": [
    {
     "name": "stderr",
     "output_type": "stream",
     "text": [
      "/var/folders/bm/wxz2f90s7x104nl7tfs2lwdw0000gn/T/ipykernel_4619/1475828544.py:2: DtypeWarning: Columns (6,8) have mixed types. Specify dtype option on import or set low_memory=False.\n",
      "  df_merged = pd.read_csv(path, index_col = 0)\n"
     ]
    }
   ],
   "source": [
    "# Obtaining citibikes dataset\n",
    "df_merged = pd.read_csv(path, index_col = 0)"
   ]
  },
  {
   "cell_type": "markdown",
   "id": "e42e21d5-0b53-4990-acef-e46d5c169669",
   "metadata": {},
   "source": [
    "### Extra Cleaning Steps"
   ]
  },
  {
   "cell_type": "code",
   "execution_count": 6,
   "id": "0daaa41e-e0bc-4f0f-b423-4dce632c38ba",
   "metadata": {},
   "outputs": [
    {
     "data": {
      "text/html": [
       "<div>\n",
       "<style scoped>\n",
       "    .dataframe tbody tr th:only-of-type {\n",
       "        vertical-align: middle;\n",
       "    }\n",
       "\n",
       "    .dataframe tbody tr th {\n",
       "        vertical-align: top;\n",
       "    }\n",
       "\n",
       "    .dataframe thead th {\n",
       "        text-align: right;\n",
       "    }\n",
       "</style>\n",
       "<table border=\"1\" class=\"dataframe\">\n",
       "  <thead>\n",
       "    <tr style=\"text-align: right;\">\n",
       "      <th></th>\n",
       "      <th>ride_id</th>\n",
       "      <th>rideable_type</th>\n",
       "      <th>started_at</th>\n",
       "      <th>ended_at</th>\n",
       "      <th>start_station_name</th>\n",
       "      <th>start_station_id</th>\n",
       "      <th>end_station_name</th>\n",
       "      <th>end_station_id</th>\n",
       "      <th>start_lat</th>\n",
       "      <th>start_lng</th>\n",
       "      <th>end_lat</th>\n",
       "      <th>end_lng</th>\n",
       "      <th>member_casual</th>\n",
       "      <th>date</th>\n",
       "      <th>avgTemp</th>\n",
       "      <th>_merge</th>\n",
       "    </tr>\n",
       "  </thead>\n",
       "  <tbody>\n",
       "    <tr>\n",
       "      <th>0</th>\n",
       "      <td>9D0DC440CB40CF8E</td>\n",
       "      <td>electric_bike</td>\n",
       "      <td>2022-08-27 13:56:47.728</td>\n",
       "      <td>2022-08-27 14:02:56.651</td>\n",
       "      <td>Flatbush Ave &amp; Ocean Ave</td>\n",
       "      <td>3704.04</td>\n",
       "      <td>3 St &amp; Prospect Park West</td>\n",
       "      <td>3865.05</td>\n",
       "      <td>40.663657</td>\n",
       "      <td>-73.963014</td>\n",
       "      <td>40.668132</td>\n",
       "      <td>-73.973638</td>\n",
       "      <td>casual</td>\n",
       "      <td>2022-08-27</td>\n",
       "      <td>27.8</td>\n",
       "      <td>both</td>\n",
       "    </tr>\n",
       "    <tr>\n",
       "      <th>1</th>\n",
       "      <td>2214991DFBE5C4D7</td>\n",
       "      <td>electric_bike</td>\n",
       "      <td>2022-08-20 10:37:02.756</td>\n",
       "      <td>2022-08-20 10:45:56.631</td>\n",
       "      <td>Forsyth St\\t&amp; Grand St</td>\n",
       "      <td>5382.07</td>\n",
       "      <td>E 11 St &amp; 1 Ave</td>\n",
       "      <td>5746.14</td>\n",
       "      <td>40.717798</td>\n",
       "      <td>-73.993161</td>\n",
       "      <td>40.729538</td>\n",
       "      <td>-73.984267</td>\n",
       "      <td>casual</td>\n",
       "      <td>2022-08-20</td>\n",
       "      <td>27.9</td>\n",
       "      <td>both</td>\n",
       "    </tr>\n",
       "    <tr>\n",
       "      <th>2</th>\n",
       "      <td>20C5D469563B6337</td>\n",
       "      <td>classic_bike</td>\n",
       "      <td>2022-08-31 18:55:03.051</td>\n",
       "      <td>2022-08-31 19:03:37.344</td>\n",
       "      <td>Perry St &amp; Bleecker St</td>\n",
       "      <td>5922.07</td>\n",
       "      <td>Grand St &amp; Greene St</td>\n",
       "      <td>5500.02</td>\n",
       "      <td>40.735354</td>\n",
       "      <td>-74.004831</td>\n",
       "      <td>40.721700</td>\n",
       "      <td>-74.002381</td>\n",
       "      <td>member</td>\n",
       "      <td>2022-08-31</td>\n",
       "      <td>25.6</td>\n",
       "      <td>both</td>\n",
       "    </tr>\n",
       "    <tr>\n",
       "      <th>3</th>\n",
       "      <td>3E8791885BC189D1</td>\n",
       "      <td>classic_bike</td>\n",
       "      <td>2022-08-02 08:05:00.250</td>\n",
       "      <td>2022-08-02 08:16:52.063</td>\n",
       "      <td>FDR Drive &amp; E 35 St</td>\n",
       "      <td>6230.04</td>\n",
       "      <td>Grand Army Plaza &amp; Central Park S</td>\n",
       "      <td>6839.1</td>\n",
       "      <td>40.744219</td>\n",
       "      <td>-73.971212</td>\n",
       "      <td>40.764397</td>\n",
       "      <td>-73.973715</td>\n",
       "      <td>member</td>\n",
       "      <td>2022-08-02</td>\n",
       "      <td>26.4</td>\n",
       "      <td>both</td>\n",
       "    </tr>\n",
       "    <tr>\n",
       "      <th>4</th>\n",
       "      <td>8DBCBF98885106CB</td>\n",
       "      <td>electric_bike</td>\n",
       "      <td>2022-08-25 15:44:48.386</td>\n",
       "      <td>2022-08-25 15:55:39.691</td>\n",
       "      <td>E 40 St &amp; 5 Ave</td>\n",
       "      <td>6474.11</td>\n",
       "      <td>Ave A &amp; E 14 St</td>\n",
       "      <td>5779.11</td>\n",
       "      <td>40.752052</td>\n",
       "      <td>-73.982115</td>\n",
       "      <td>40.730311</td>\n",
       "      <td>-73.980472</td>\n",
       "      <td>member</td>\n",
       "      <td>2022-08-25</td>\n",
       "      <td>28.1</td>\n",
       "      <td>both</td>\n",
       "    </tr>\n",
       "  </tbody>\n",
       "</table>\n",
       "</div>"
      ],
      "text/plain": [
       "            ride_id  rideable_type               started_at  \\\n",
       "0  9D0DC440CB40CF8E  electric_bike  2022-08-27 13:56:47.728   \n",
       "1  2214991DFBE5C4D7  electric_bike  2022-08-20 10:37:02.756   \n",
       "2  20C5D469563B6337   classic_bike  2022-08-31 18:55:03.051   \n",
       "3  3E8791885BC189D1   classic_bike  2022-08-02 08:05:00.250   \n",
       "4  8DBCBF98885106CB  electric_bike  2022-08-25 15:44:48.386   \n",
       "\n",
       "                  ended_at        start_station_name start_station_id  \\\n",
       "0  2022-08-27 14:02:56.651  Flatbush Ave & Ocean Ave          3704.04   \n",
       "1  2022-08-20 10:45:56.631    Forsyth St\\t& Grand St          5382.07   \n",
       "2  2022-08-31 19:03:37.344    Perry St & Bleecker St          5922.07   \n",
       "3  2022-08-02 08:16:52.063       FDR Drive & E 35 St          6230.04   \n",
       "4  2022-08-25 15:55:39.691           E 40 St & 5 Ave          6474.11   \n",
       "\n",
       "                    end_station_name end_station_id  start_lat  start_lng  \\\n",
       "0          3 St & Prospect Park West        3865.05  40.663657 -73.963014   \n",
       "1                    E 11 St & 1 Ave        5746.14  40.717798 -73.993161   \n",
       "2               Grand St & Greene St        5500.02  40.735354 -74.004831   \n",
       "3  Grand Army Plaza & Central Park S         6839.1  40.744219 -73.971212   \n",
       "4                    Ave A & E 14 St        5779.11  40.752052 -73.982115   \n",
       "\n",
       "     end_lat    end_lng member_casual        date  avgTemp _merge  \n",
       "0  40.668132 -73.973638        casual  2022-08-27     27.8   both  \n",
       "1  40.729538 -73.984267        casual  2022-08-20     27.9   both  \n",
       "2  40.721700 -74.002381        member  2022-08-31     25.6   both  \n",
       "3  40.764397 -73.973715        member  2022-08-02     26.4   both  \n",
       "4  40.730311 -73.980472        member  2022-08-25     28.1   both  "
      ]
     },
     "execution_count": 6,
     "metadata": {},
     "output_type": "execute_result"
    }
   ],
   "source": [
    "df_merged.head()"
   ]
  },
  {
   "cell_type": "code",
   "execution_count": 7,
   "id": "05afd2fa-7820-45a1-b4b0-99ceed80ff21",
   "metadata": {},
   "outputs": [],
   "source": [
    "df = df_merged.drop('_merge', axis=1)"
   ]
  },
  {
   "cell_type": "code",
   "execution_count": 8,
   "id": "c88ea3ba-8afa-4060-85b3-dd5916e1b99d",
   "metadata": {},
   "outputs": [
    {
     "data": {
      "text/html": [
       "<div>\n",
       "<style scoped>\n",
       "    .dataframe tbody tr th:only-of-type {\n",
       "        vertical-align: middle;\n",
       "    }\n",
       "\n",
       "    .dataframe tbody tr th {\n",
       "        vertical-align: top;\n",
       "    }\n",
       "\n",
       "    .dataframe thead th {\n",
       "        text-align: right;\n",
       "    }\n",
       "</style>\n",
       "<table border=\"1\" class=\"dataframe\">\n",
       "  <thead>\n",
       "    <tr style=\"text-align: right;\">\n",
       "      <th></th>\n",
       "      <th>ride_id</th>\n",
       "      <th>rideable_type</th>\n",
       "      <th>started_at</th>\n",
       "      <th>ended_at</th>\n",
       "      <th>start_station_name</th>\n",
       "      <th>start_station_id</th>\n",
       "      <th>end_station_name</th>\n",
       "      <th>end_station_id</th>\n",
       "      <th>start_lat</th>\n",
       "      <th>start_lng</th>\n",
       "      <th>end_lat</th>\n",
       "      <th>end_lng</th>\n",
       "      <th>member_casual</th>\n",
       "      <th>date</th>\n",
       "      <th>avgTemp</th>\n",
       "      <th>_merge</th>\n",
       "    </tr>\n",
       "  </thead>\n",
       "  <tbody>\n",
       "    <tr>\n",
       "      <th>0</th>\n",
       "      <td>9D0DC440CB40CF8E</td>\n",
       "      <td>electric_bike</td>\n",
       "      <td>2022-08-27 13:56:47.728</td>\n",
       "      <td>2022-08-27 14:02:56.651</td>\n",
       "      <td>Flatbush Ave &amp; Ocean Ave</td>\n",
       "      <td>3704.04</td>\n",
       "      <td>3 St &amp; Prospect Park West</td>\n",
       "      <td>3865.05</td>\n",
       "      <td>40.663657</td>\n",
       "      <td>-73.963014</td>\n",
       "      <td>40.668132</td>\n",
       "      <td>-73.973638</td>\n",
       "      <td>casual</td>\n",
       "      <td>2022-08-27</td>\n",
       "      <td>27.8</td>\n",
       "      <td>both</td>\n",
       "    </tr>\n",
       "    <tr>\n",
       "      <th>1</th>\n",
       "      <td>2214991DFBE5C4D7</td>\n",
       "      <td>electric_bike</td>\n",
       "      <td>2022-08-20 10:37:02.756</td>\n",
       "      <td>2022-08-20 10:45:56.631</td>\n",
       "      <td>Forsyth St\\t&amp; Grand St</td>\n",
       "      <td>5382.07</td>\n",
       "      <td>E 11 St &amp; 1 Ave</td>\n",
       "      <td>5746.14</td>\n",
       "      <td>40.717798</td>\n",
       "      <td>-73.993161</td>\n",
       "      <td>40.729538</td>\n",
       "      <td>-73.984267</td>\n",
       "      <td>casual</td>\n",
       "      <td>2022-08-20</td>\n",
       "      <td>27.9</td>\n",
       "      <td>both</td>\n",
       "    </tr>\n",
       "    <tr>\n",
       "      <th>2</th>\n",
       "      <td>20C5D469563B6337</td>\n",
       "      <td>classic_bike</td>\n",
       "      <td>2022-08-31 18:55:03.051</td>\n",
       "      <td>2022-08-31 19:03:37.344</td>\n",
       "      <td>Perry St &amp; Bleecker St</td>\n",
       "      <td>5922.07</td>\n",
       "      <td>Grand St &amp; Greene St</td>\n",
       "      <td>5500.02</td>\n",
       "      <td>40.735354</td>\n",
       "      <td>-74.004831</td>\n",
       "      <td>40.721700</td>\n",
       "      <td>-74.002381</td>\n",
       "      <td>member</td>\n",
       "      <td>2022-08-31</td>\n",
       "      <td>25.6</td>\n",
       "      <td>both</td>\n",
       "    </tr>\n",
       "    <tr>\n",
       "      <th>3</th>\n",
       "      <td>3E8791885BC189D1</td>\n",
       "      <td>classic_bike</td>\n",
       "      <td>2022-08-02 08:05:00.250</td>\n",
       "      <td>2022-08-02 08:16:52.063</td>\n",
       "      <td>FDR Drive &amp; E 35 St</td>\n",
       "      <td>6230.04</td>\n",
       "      <td>Grand Army Plaza &amp; Central Park S</td>\n",
       "      <td>6839.1</td>\n",
       "      <td>40.744219</td>\n",
       "      <td>-73.971212</td>\n",
       "      <td>40.764397</td>\n",
       "      <td>-73.973715</td>\n",
       "      <td>member</td>\n",
       "      <td>2022-08-02</td>\n",
       "      <td>26.4</td>\n",
       "      <td>both</td>\n",
       "    </tr>\n",
       "    <tr>\n",
       "      <th>4</th>\n",
       "      <td>8DBCBF98885106CB</td>\n",
       "      <td>electric_bike</td>\n",
       "      <td>2022-08-25 15:44:48.386</td>\n",
       "      <td>2022-08-25 15:55:39.691</td>\n",
       "      <td>E 40 St &amp; 5 Ave</td>\n",
       "      <td>6474.11</td>\n",
       "      <td>Ave A &amp; E 14 St</td>\n",
       "      <td>5779.11</td>\n",
       "      <td>40.752052</td>\n",
       "      <td>-73.982115</td>\n",
       "      <td>40.730311</td>\n",
       "      <td>-73.980472</td>\n",
       "      <td>member</td>\n",
       "      <td>2022-08-25</td>\n",
       "      <td>28.1</td>\n",
       "      <td>both</td>\n",
       "    </tr>\n",
       "  </tbody>\n",
       "</table>\n",
       "</div>"
      ],
      "text/plain": [
       "            ride_id  rideable_type               started_at  \\\n",
       "0  9D0DC440CB40CF8E  electric_bike  2022-08-27 13:56:47.728   \n",
       "1  2214991DFBE5C4D7  electric_bike  2022-08-20 10:37:02.756   \n",
       "2  20C5D469563B6337   classic_bike  2022-08-31 18:55:03.051   \n",
       "3  3E8791885BC189D1   classic_bike  2022-08-02 08:05:00.250   \n",
       "4  8DBCBF98885106CB  electric_bike  2022-08-25 15:44:48.386   \n",
       "\n",
       "                  ended_at        start_station_name start_station_id  \\\n",
       "0  2022-08-27 14:02:56.651  Flatbush Ave & Ocean Ave          3704.04   \n",
       "1  2022-08-20 10:45:56.631    Forsyth St\\t& Grand St          5382.07   \n",
       "2  2022-08-31 19:03:37.344    Perry St & Bleecker St          5922.07   \n",
       "3  2022-08-02 08:16:52.063       FDR Drive & E 35 St          6230.04   \n",
       "4  2022-08-25 15:55:39.691           E 40 St & 5 Ave          6474.11   \n",
       "\n",
       "                    end_station_name end_station_id  start_lat  start_lng  \\\n",
       "0          3 St & Prospect Park West        3865.05  40.663657 -73.963014   \n",
       "1                    E 11 St & 1 Ave        5746.14  40.717798 -73.993161   \n",
       "2               Grand St & Greene St        5500.02  40.735354 -74.004831   \n",
       "3  Grand Army Plaza & Central Park S         6839.1  40.744219 -73.971212   \n",
       "4                    Ave A & E 14 St        5779.11  40.752052 -73.982115   \n",
       "\n",
       "     end_lat    end_lng member_casual        date  avgTemp _merge  \n",
       "0  40.668132 -73.973638        casual  2022-08-27     27.8   both  \n",
       "1  40.729538 -73.984267        casual  2022-08-20     27.9   both  \n",
       "2  40.721700 -74.002381        member  2022-08-31     25.6   both  \n",
       "3  40.764397 -73.973715        member  2022-08-02     26.4   both  \n",
       "4  40.730311 -73.980472        member  2022-08-25     28.1   both  "
      ]
     },
     "execution_count": 8,
     "metadata": {},
     "output_type": "execute_result"
    }
   ],
   "source": [
    "df_merged.head()"
   ]
  },
  {
   "cell_type": "code",
   "execution_count": 12,
   "id": "95e91d77-8460-484d-a14d-2ce291b86290",
   "metadata": {},
   "outputs": [],
   "source": [
    "df['date'] = pd.to_datetime(df['date'])"
   ]
  },
  {
   "cell_type": "code",
   "execution_count": 14,
   "id": "dbb6c2d3-d8e7-4d8d-90cf-82bc66f48409",
   "metadata": {},
   "outputs": [],
   "source": [
    "df_2022 = df[df['date'].dt.year == 2022]"
   ]
  },
  {
   "cell_type": "code",
   "execution_count": 15,
   "id": "695e54a4-ebaa-46e3-b83d-8ad6efa7b0e0",
   "metadata": {},
   "outputs": [
    {
     "data": {
      "text/html": [
       "<div>\n",
       "<style scoped>\n",
       "    .dataframe tbody tr th:only-of-type {\n",
       "        vertical-align: middle;\n",
       "    }\n",
       "\n",
       "    .dataframe tbody tr th {\n",
       "        vertical-align: top;\n",
       "    }\n",
       "\n",
       "    .dataframe thead th {\n",
       "        text-align: right;\n",
       "    }\n",
       "</style>\n",
       "<table border=\"1\" class=\"dataframe\">\n",
       "  <thead>\n",
       "    <tr style=\"text-align: right;\">\n",
       "      <th></th>\n",
       "      <th>ride_id</th>\n",
       "      <th>rideable_type</th>\n",
       "      <th>started_at</th>\n",
       "      <th>ended_at</th>\n",
       "      <th>start_station_name</th>\n",
       "      <th>start_station_id</th>\n",
       "      <th>end_station_name</th>\n",
       "      <th>end_station_id</th>\n",
       "      <th>start_lat</th>\n",
       "      <th>start_lng</th>\n",
       "      <th>end_lat</th>\n",
       "      <th>end_lng</th>\n",
       "      <th>member_casual</th>\n",
       "      <th>date</th>\n",
       "      <th>avgTemp</th>\n",
       "    </tr>\n",
       "  </thead>\n",
       "  <tbody>\n",
       "    <tr>\n",
       "      <th>0</th>\n",
       "      <td>9D0DC440CB40CF8E</td>\n",
       "      <td>electric_bike</td>\n",
       "      <td>2022-08-27 13:56:47.728</td>\n",
       "      <td>2022-08-27 14:02:56.651</td>\n",
       "      <td>Flatbush Ave &amp; Ocean Ave</td>\n",
       "      <td>3704.04</td>\n",
       "      <td>3 St &amp; Prospect Park West</td>\n",
       "      <td>3865.05</td>\n",
       "      <td>40.663657</td>\n",
       "      <td>-73.963014</td>\n",
       "      <td>40.668132</td>\n",
       "      <td>-73.973638</td>\n",
       "      <td>casual</td>\n",
       "      <td>2022-08-27</td>\n",
       "      <td>27.8</td>\n",
       "    </tr>\n",
       "    <tr>\n",
       "      <th>1</th>\n",
       "      <td>2214991DFBE5C4D7</td>\n",
       "      <td>electric_bike</td>\n",
       "      <td>2022-08-20 10:37:02.756</td>\n",
       "      <td>2022-08-20 10:45:56.631</td>\n",
       "      <td>Forsyth St\\t&amp; Grand St</td>\n",
       "      <td>5382.07</td>\n",
       "      <td>E 11 St &amp; 1 Ave</td>\n",
       "      <td>5746.14</td>\n",
       "      <td>40.717798</td>\n",
       "      <td>-73.993161</td>\n",
       "      <td>40.729538</td>\n",
       "      <td>-73.984267</td>\n",
       "      <td>casual</td>\n",
       "      <td>2022-08-20</td>\n",
       "      <td>27.9</td>\n",
       "    </tr>\n",
       "    <tr>\n",
       "      <th>2</th>\n",
       "      <td>20C5D469563B6337</td>\n",
       "      <td>classic_bike</td>\n",
       "      <td>2022-08-31 18:55:03.051</td>\n",
       "      <td>2022-08-31 19:03:37.344</td>\n",
       "      <td>Perry St &amp; Bleecker St</td>\n",
       "      <td>5922.07</td>\n",
       "      <td>Grand St &amp; Greene St</td>\n",
       "      <td>5500.02</td>\n",
       "      <td>40.735354</td>\n",
       "      <td>-74.004831</td>\n",
       "      <td>40.721700</td>\n",
       "      <td>-74.002381</td>\n",
       "      <td>member</td>\n",
       "      <td>2022-08-31</td>\n",
       "      <td>25.6</td>\n",
       "    </tr>\n",
       "    <tr>\n",
       "      <th>3</th>\n",
       "      <td>3E8791885BC189D1</td>\n",
       "      <td>classic_bike</td>\n",
       "      <td>2022-08-02 08:05:00.250</td>\n",
       "      <td>2022-08-02 08:16:52.063</td>\n",
       "      <td>FDR Drive &amp; E 35 St</td>\n",
       "      <td>6230.04</td>\n",
       "      <td>Grand Army Plaza &amp; Central Park S</td>\n",
       "      <td>6839.1</td>\n",
       "      <td>40.744219</td>\n",
       "      <td>-73.971212</td>\n",
       "      <td>40.764397</td>\n",
       "      <td>-73.973715</td>\n",
       "      <td>member</td>\n",
       "      <td>2022-08-02</td>\n",
       "      <td>26.4</td>\n",
       "    </tr>\n",
       "    <tr>\n",
       "      <th>4</th>\n",
       "      <td>8DBCBF98885106CB</td>\n",
       "      <td>electric_bike</td>\n",
       "      <td>2022-08-25 15:44:48.386</td>\n",
       "      <td>2022-08-25 15:55:39.691</td>\n",
       "      <td>E 40 St &amp; 5 Ave</td>\n",
       "      <td>6474.11</td>\n",
       "      <td>Ave A &amp; E 14 St</td>\n",
       "      <td>5779.11</td>\n",
       "      <td>40.752052</td>\n",
       "      <td>-73.982115</td>\n",
       "      <td>40.730311</td>\n",
       "      <td>-73.980472</td>\n",
       "      <td>member</td>\n",
       "      <td>2022-08-25</td>\n",
       "      <td>28.1</td>\n",
       "    </tr>\n",
       "  </tbody>\n",
       "</table>\n",
       "</div>"
      ],
      "text/plain": [
       "            ride_id  rideable_type               started_at  \\\n",
       "0  9D0DC440CB40CF8E  electric_bike  2022-08-27 13:56:47.728   \n",
       "1  2214991DFBE5C4D7  electric_bike  2022-08-20 10:37:02.756   \n",
       "2  20C5D469563B6337   classic_bike  2022-08-31 18:55:03.051   \n",
       "3  3E8791885BC189D1   classic_bike  2022-08-02 08:05:00.250   \n",
       "4  8DBCBF98885106CB  electric_bike  2022-08-25 15:44:48.386   \n",
       "\n",
       "                  ended_at        start_station_name start_station_id  \\\n",
       "0  2022-08-27 14:02:56.651  Flatbush Ave & Ocean Ave          3704.04   \n",
       "1  2022-08-20 10:45:56.631    Forsyth St\\t& Grand St          5382.07   \n",
       "2  2022-08-31 19:03:37.344    Perry St & Bleecker St          5922.07   \n",
       "3  2022-08-02 08:16:52.063       FDR Drive & E 35 St          6230.04   \n",
       "4  2022-08-25 15:55:39.691           E 40 St & 5 Ave          6474.11   \n",
       "\n",
       "                    end_station_name end_station_id  start_lat  start_lng  \\\n",
       "0          3 St & Prospect Park West        3865.05  40.663657 -73.963014   \n",
       "1                    E 11 St & 1 Ave        5746.14  40.717798 -73.993161   \n",
       "2               Grand St & Greene St        5500.02  40.735354 -74.004831   \n",
       "3  Grand Army Plaza & Central Park S         6839.1  40.744219 -73.971212   \n",
       "4                    Ave A & E 14 St        5779.11  40.752052 -73.982115   \n",
       "\n",
       "     end_lat    end_lng member_casual       date  avgTemp  \n",
       "0  40.668132 -73.973638        casual 2022-08-27     27.8  \n",
       "1  40.729538 -73.984267        casual 2022-08-20     27.9  \n",
       "2  40.721700 -74.002381        member 2022-08-31     25.6  \n",
       "3  40.764397 -73.973715        member 2022-08-02     26.4  \n",
       "4  40.730311 -73.980472        member 2022-08-25     28.1  "
      ]
     },
     "execution_count": 15,
     "metadata": {},
     "output_type": "execute_result"
    }
   ],
   "source": [
    "df_2022.head()"
   ]
  },
  {
   "cell_type": "code",
   "execution_count": 16,
   "id": "ed0ddc51-68e9-4e97-9f1e-fa816fd872b4",
   "metadata": {},
   "outputs": [
    {
     "data": {
      "text/html": [
       "<div>\n",
       "<style scoped>\n",
       "    .dataframe tbody tr th:only-of-type {\n",
       "        vertical-align: middle;\n",
       "    }\n",
       "\n",
       "    .dataframe tbody tr th {\n",
       "        vertical-align: top;\n",
       "    }\n",
       "\n",
       "    .dataframe thead th {\n",
       "        text-align: right;\n",
       "    }\n",
       "</style>\n",
       "<table border=\"1\" class=\"dataframe\">\n",
       "  <thead>\n",
       "    <tr style=\"text-align: right;\">\n",
       "      <th></th>\n",
       "      <th>ride_id</th>\n",
       "      <th>rideable_type</th>\n",
       "      <th>started_at</th>\n",
       "      <th>ended_at</th>\n",
       "      <th>start_station_name</th>\n",
       "      <th>start_station_id</th>\n",
       "      <th>end_station_name</th>\n",
       "      <th>end_station_id</th>\n",
       "      <th>start_lat</th>\n",
       "      <th>start_lng</th>\n",
       "      <th>end_lat</th>\n",
       "      <th>end_lng</th>\n",
       "      <th>member_casual</th>\n",
       "      <th>date</th>\n",
       "      <th>avgTemp</th>\n",
       "    </tr>\n",
       "  </thead>\n",
       "  <tbody>\n",
       "    <tr>\n",
       "      <th>29838801</th>\n",
       "      <td>1F223EDAFF420AE3</td>\n",
       "      <td>electric_bike</td>\n",
       "      <td>2022-12-01 20:26:45.847</td>\n",
       "      <td>2022-12-01 20:30:46.012</td>\n",
       "      <td>Avenue D &amp; E 3 St</td>\n",
       "      <td>5436.09</td>\n",
       "      <td>Stanton St &amp; Chrystie St</td>\n",
       "      <td>5523.02</td>\n",
       "      <td>40.720701</td>\n",
       "      <td>-73.977939</td>\n",
       "      <td>40.722293</td>\n",
       "      <td>-73.991475</td>\n",
       "      <td>member</td>\n",
       "      <td>2022-12-01</td>\n",
       "      <td>5.7</td>\n",
       "    </tr>\n",
       "    <tr>\n",
       "      <th>29838802</th>\n",
       "      <td>CFA5C560ACB73B8E</td>\n",
       "      <td>classic_bike</td>\n",
       "      <td>2022-12-26 13:46:34.237</td>\n",
       "      <td>2022-12-26 13:52:43.900</td>\n",
       "      <td>43 Ave &amp; 47 St</td>\n",
       "      <td>6209.05</td>\n",
       "      <td>39 Ave &amp; 45 St</td>\n",
       "      <td>6401.03</td>\n",
       "      <td>40.744806</td>\n",
       "      <td>-73.917290</td>\n",
       "      <td>40.749478</td>\n",
       "      <td>-73.918265</td>\n",
       "      <td>member</td>\n",
       "      <td>2022-12-26</td>\n",
       "      <td>-4.7</td>\n",
       "    </tr>\n",
       "    <tr>\n",
       "      <th>29838803</th>\n",
       "      <td>11C8C5E0DB947B07</td>\n",
       "      <td>classic_bike</td>\n",
       "      <td>2022-12-01 05:56:14.903</td>\n",
       "      <td>2022-12-01 06:06:10.357</td>\n",
       "      <td>Avenue D &amp; E 3 St</td>\n",
       "      <td>5436.09</td>\n",
       "      <td>Bleecker St &amp; Crosby St</td>\n",
       "      <td>5679.08</td>\n",
       "      <td>40.720828</td>\n",
       "      <td>-73.977932</td>\n",
       "      <td>40.726156</td>\n",
       "      <td>-73.995102</td>\n",
       "      <td>member</td>\n",
       "      <td>2022-12-01</td>\n",
       "      <td>5.7</td>\n",
       "    </tr>\n",
       "    <tr>\n",
       "      <th>29838804</th>\n",
       "      <td>5B9B083C534A5964</td>\n",
       "      <td>classic_bike</td>\n",
       "      <td>2022-12-02 11:54:15.871</td>\n",
       "      <td>2022-12-02 12:01:00.747</td>\n",
       "      <td>Montague St &amp; Clinton St</td>\n",
       "      <td>4677.06</td>\n",
       "      <td>Sands St &amp; Jay St</td>\n",
       "      <td>4821.03</td>\n",
       "      <td>40.694271</td>\n",
       "      <td>-73.992327</td>\n",
       "      <td>40.700119</td>\n",
       "      <td>-73.986200</td>\n",
       "      <td>member</td>\n",
       "      <td>2022-12-02</td>\n",
       "      <td>3.4</td>\n",
       "    </tr>\n",
       "    <tr>\n",
       "      <th>29838805</th>\n",
       "      <td>91C286C462F89A50</td>\n",
       "      <td>classic_bike</td>\n",
       "      <td>2022-12-18 13:35:22.574</td>\n",
       "      <td>2022-12-18 13:37:27.193</td>\n",
       "      <td>Montague St &amp; Clinton St</td>\n",
       "      <td>4677.06</td>\n",
       "      <td>Cadman Plaza E &amp; Tillary St</td>\n",
       "      <td>4677.01</td>\n",
       "      <td>40.694271</td>\n",
       "      <td>-73.992327</td>\n",
       "      <td>40.695977</td>\n",
       "      <td>-73.990149</td>\n",
       "      <td>member</td>\n",
       "      <td>2022-12-18</td>\n",
       "      <td>3.1</td>\n",
       "    </tr>\n",
       "  </tbody>\n",
       "</table>\n",
       "</div>"
      ],
      "text/plain": [
       "                   ride_id  rideable_type               started_at  \\\n",
       "29838801  1F223EDAFF420AE3  electric_bike  2022-12-01 20:26:45.847   \n",
       "29838802  CFA5C560ACB73B8E   classic_bike  2022-12-26 13:46:34.237   \n",
       "29838803  11C8C5E0DB947B07   classic_bike  2022-12-01 05:56:14.903   \n",
       "29838804  5B9B083C534A5964   classic_bike  2022-12-02 11:54:15.871   \n",
       "29838805  91C286C462F89A50   classic_bike  2022-12-18 13:35:22.574   \n",
       "\n",
       "                         ended_at        start_station_name start_station_id  \\\n",
       "29838801  2022-12-01 20:30:46.012         Avenue D & E 3 St          5436.09   \n",
       "29838802  2022-12-26 13:52:43.900            43 Ave & 47 St          6209.05   \n",
       "29838803  2022-12-01 06:06:10.357         Avenue D & E 3 St          5436.09   \n",
       "29838804  2022-12-02 12:01:00.747  Montague St & Clinton St          4677.06   \n",
       "29838805  2022-12-18 13:37:27.193  Montague St & Clinton St          4677.06   \n",
       "\n",
       "                     end_station_name end_station_id  start_lat  start_lng  \\\n",
       "29838801     Stanton St & Chrystie St        5523.02  40.720701 -73.977939   \n",
       "29838802               39 Ave & 45 St        6401.03  40.744806 -73.917290   \n",
       "29838803      Bleecker St & Crosby St        5679.08  40.720828 -73.977932   \n",
       "29838804            Sands St & Jay St        4821.03  40.694271 -73.992327   \n",
       "29838805  Cadman Plaza E & Tillary St        4677.01  40.694271 -73.992327   \n",
       "\n",
       "            end_lat    end_lng member_casual       date  avgTemp  \n",
       "29838801  40.722293 -73.991475        member 2022-12-01      5.7  \n",
       "29838802  40.749478 -73.918265        member 2022-12-26     -4.7  \n",
       "29838803  40.726156 -73.995102        member 2022-12-01      5.7  \n",
       "29838804  40.700119 -73.986200        member 2022-12-02      3.4  \n",
       "29838805  40.695977 -73.990149        member 2022-12-18      3.1  "
      ]
     },
     "execution_count": 16,
     "metadata": {},
     "output_type": "execute_result"
    }
   ],
   "source": [
    "df_2022.tail()"
   ]
  },
  {
   "cell_type": "code",
   "execution_count": 17,
   "id": "f61e2b85-8864-4a34-9341-0892034e80cd",
   "metadata": {},
   "outputs": [
    {
     "name": "stdout",
     "output_type": "stream",
     "text": [
      "<DatetimeArray>\n",
      "['2022-08-27 00:00:00', '2022-08-20 00:00:00', '2022-08-31 00:00:00',\n",
      " '2022-08-02 00:00:00', '2022-08-25 00:00:00', '2022-08-24 00:00:00',\n",
      " '2022-08-15 00:00:00', '2022-08-16 00:00:00', '2022-08-28 00:00:00',\n",
      " '2022-08-06 00:00:00',\n",
      " ...\n",
      " '2022-12-28 00:00:00', '2022-12-24 00:00:00', '2022-12-12 00:00:00',\n",
      " '2022-12-19 00:00:00', '2022-12-17 00:00:00', '2022-12-26 00:00:00',\n",
      " '2022-12-04 00:00:00', '2022-12-11 00:00:00', '2022-12-31 00:00:00',\n",
      " '2022-12-25 00:00:00']\n",
      "Length: 365, dtype: datetime64[ns]\n"
     ]
    }
   ],
   "source": [
    "unique_dates = df_2022['date'].unique()\n",
    "print(unique_dates)"
   ]
  },
  {
   "cell_type": "markdown",
   "id": "6cae6d0c-1edc-429b-8296-9fb4e6f94dc6",
   "metadata": {},
   "source": [
    "### Performing data consistency check"
   ]
  },
  {
   "cell_type": "code",
   "execution_count": 18,
   "id": "e7afbf91-f5d2-473f-9815-f6686274a1e2",
   "metadata": {},
   "outputs": [
    {
     "name": "stdout",
     "output_type": "stream",
     "text": [
      "         start_station_id end_station_id\n",
      "1754355         Lab - NYC      Lab - NYC\n",
      "7988631         Lab - NYC            NaN\n",
      "8295619         Lab - NYC      Lab - NYC\n",
      "8295620         Lab - NYC      Lab - NYC\n",
      "8302149         Lab - NYC      Lab - NYC\n",
      "...                   ...            ...\n",
      "25523601        Lab - NYC      Lab - NYC\n",
      "26285161        Lab - NYC            NaN\n",
      "26408390        Lab - NYC      Lab - NYC\n",
      "28299026        Lab - NYC      Lab - NYC\n",
      "29075211        Lab - NYC            NaN\n",
      "\n",
      "[73 rows x 2 columns]\n"
     ]
    }
   ],
   "source": [
    "mask = (df_merged['start_station_id'] == 'Lab - NYC') | (df_merged['end_station_id'] == 'Lab-NYC')\n",
    "\n",
    "# Applying the mask to filter the DataFrame\n",
    "lab_nyc_data = df_merged[mask]\n",
    "\n",
    "# Displaying the filtered DataFrame\n",
    "print(lab_nyc_data[['start_station_id', 'end_station_id']])"
   ]
  },
  {
   "cell_type": "markdown",
   "id": "b0840494-e6ee-4183-9ed7-efcde827107f",
   "metadata": {},
   "source": [
    "To address data inconsistency, I identified that the columns 'start_station_id' and 'end_station_id' contain both numeric and non-numeric values, specifically the string 'Lab - NYC'. These non-numeric entries can compromise analysis accuracy and data integrity. \n",
    "\n",
    "After checking, I found there are 73 such rows across these columns. To maintain data consistency and ensure reliable analysis, I have decided to drop these rows, as including inconsistent entries could lead to errors or misleading results. This step helps preserve the overall quality of the dataset and ensures that subsequent analyses are based on clean, uniform data."
   ]
  },
  {
   "cell_type": "code",
   "execution_count": 19,
   "id": "bcd001e7-bc21-4574-9ce5-aa5f63d223b2",
   "metadata": {},
   "outputs": [],
   "source": [
    "df_clean_1 = df_merged.drop(columns=['start_station_id', 'end_station_id'])"
   ]
  },
  {
   "cell_type": "code",
   "execution_count": 20,
   "id": "ca52f055-e81a-42e8-8612-9c71654d84d6",
   "metadata": {},
   "outputs": [
    {
     "data": {
      "text/plain": [
       "Index(['ride_id', 'rideable_type', 'started_at', 'ended_at',\n",
       "       'start_station_name', 'end_station_name', 'start_lat', 'start_lng',\n",
       "       'end_lat', 'end_lng', 'member_casual', 'date', 'avgTemp', '_merge'],\n",
       "      dtype='object')"
      ]
     },
     "execution_count": 20,
     "metadata": {},
     "output_type": "execute_result"
    }
   ],
   "source": [
    "df_clean_1.columns"
   ]
  },
  {
   "cell_type": "code",
   "execution_count": 21,
   "id": "f0f9999d-26c6-4215-bcf8-d12d471a879d",
   "metadata": {},
   "outputs": [
    {
     "data": {
      "text/plain": [
       "(29838806, 14)"
      ]
     },
     "execution_count": 21,
     "metadata": {},
     "output_type": "execute_result"
    }
   ],
   "source": [
    "df_clean_1.shape"
   ]
  },
  {
   "cell_type": "markdown",
   "id": "52311e74-98bd-49c5-93d4-a1669b9b43b8",
   "metadata": {},
   "source": [
    "#### Data Preprocessing"
   ]
  },
  {
   "cell_type": "code",
   "execution_count": 22,
   "id": "f71f20d0-e1f3-44ad-8414-bbfb1f970189",
   "metadata": {},
   "outputs": [
    {
     "data": {
      "text/plain": [
       "ride_id                   0\n",
       "rideable_type             0\n",
       "started_at                0\n",
       "ended_at                  0\n",
       "start_station_name       49\n",
       "end_station_name      70092\n",
       "start_lat                 0\n",
       "start_lng                 0\n",
       "end_lat               37392\n",
       "end_lng               37392\n",
       "member_casual             0\n",
       "date                      0\n",
       "avgTemp                 640\n",
       "_merge                    0\n",
       "dtype: int64"
      ]
     },
     "execution_count": 22,
     "metadata": {},
     "output_type": "execute_result"
    }
   ],
   "source": [
    "df_clean_1.isnull().sum()"
   ]
  },
  {
   "cell_type": "markdown",
   "id": "4e623fd4-e47b-442a-bba9-ffa2adc6e541",
   "metadata": {},
   "source": [
    "There are NaN values present in the columns 'start_station_name', 'end_station_name', 'start_lat', and 'start_lng'. To assess data completeness, I specifically checked whether the rows containing approximately 50 NaN values in 'start_station_name' also have NaN values in 'end_station_name'. Understanding whether these missing values coincide is important for data integrity, as it can influence how we handle missing data in subsequent analysis. If the NaNs align, it may suggest incomplete trip records, prompting us to consider dropping or imputing these rows to maintain data quality."
   ]
  },
  {
   "cell_type": "code",
   "execution_count": 23,
   "id": "089a8ec8-db0d-482a-a051-994073809d5c",
   "metadata": {},
   "outputs": [
    {
     "name": "stdout",
     "output_type": "stream",
     "text": [
      "Rows with missing start_station_name and end_station_name: 49\n",
      "         start_station_name end_station_name\n",
      "6009370                 NaN              NaN\n",
      "6009371                 NaN              NaN\n",
      "6286212                 NaN              NaN\n",
      "6286213                 NaN              NaN\n",
      "6286214                 NaN              NaN\n",
      "6286215                 NaN              NaN\n",
      "6286216                 NaN              NaN\n",
      "6286392                 NaN              NaN\n",
      "7978790                 NaN              NaN\n",
      "7979796                 NaN              NaN\n",
      "7979797                 NaN              NaN\n",
      "7979798                 NaN              NaN\n",
      "7979831                 NaN              NaN\n",
      "9825136                 NaN              NaN\n",
      "9825350                 NaN              NaN\n",
      "14598428                NaN              NaN\n",
      "16102492                NaN              NaN\n",
      "16102499                NaN              NaN\n",
      "16103110                NaN              NaN\n",
      "16103652                NaN              NaN\n",
      "27496515                NaN              NaN\n",
      "27496517                NaN              NaN\n",
      "27496643                NaN              NaN\n",
      "27496660                NaN              NaN\n",
      "27496673                NaN              NaN\n",
      "27496695                NaN              NaN\n",
      "27496812                NaN              NaN\n",
      "27496839                NaN              NaN\n",
      "27496910                NaN              NaN\n",
      "27496915                NaN              NaN\n",
      "27496940                NaN              NaN\n",
      "27496979                NaN              NaN\n",
      "27497046                NaN              NaN\n",
      "27497077                NaN              NaN\n",
      "27497096                NaN              NaN\n",
      "27497102                NaN              NaN\n",
      "27497128                NaN              NaN\n",
      "27497264                NaN              NaN\n",
      "27497302                NaN              NaN\n",
      "27497303                NaN              NaN\n",
      "27497329                NaN              NaN\n",
      "27497341                NaN              NaN\n",
      "27497366                NaN              NaN\n",
      "27497371                NaN              NaN\n",
      "27497374                NaN              NaN\n",
      "27497381                NaN              NaN\n",
      "27497516                NaN              NaN\n",
      "27497542                NaN              NaN\n",
      "27497563                NaN              NaN\n"
     ]
    }
   ],
   "source": [
    "# Step 1: Filtering rows with missing 'start_station_name'\n",
    "missing_start_stations = df_clean_1[df_clean_1['start_station_name'].isna()]\n",
    "\n",
    "# Step 2: Checking if these rows also have missing 'end_station_name'\n",
    "missing_start_and_end = missing_start_stations[missing_start_stations['end_station_name'].isna()]\n",
    "\n",
    "# Print the result\n",
    "print(\"Rows with missing start_station_name and end_station_name:\", missing_start_and_end.shape[0])\n",
    "print(missing_start_and_end[['start_station_name', 'end_station_name']])"
   ]
  },
  {
   "cell_type": "markdown",
   "id": "b7037cad-6aad-401b-8e80-42015e6b96ce",
   "metadata": {},
   "source": [
    "Finding out the percentage of data containing NaN values, to decide if removing is good or not at this stage."
   ]
  },
  {
   "cell_type": "code",
   "execution_count": 25,
   "id": "a75cbfa7-fb71-44bc-b4ae-e782e4c8a23d",
   "metadata": {},
   "outputs": [
    {
     "name": "stdout",
     "output_type": "stream",
     "text": [
      "0.23% of total data loss if NaN rows in any of 'start_station_name', 'end_station_name', 'end_lat', 'end_lng'\n"
     ]
    }
   ],
   "source": [
    "# Checking for missing values in any of the specified columns\n",
    "missing_any = df_clean_1[['start_station_name', 'end_station_name', 'end_lat', 'end_lng']].isna().any(axis=1)\n",
    "\n",
    "# Calculating the number of rows with missing values in any of the specified columns\n",
    "total_missing = missing_any.sum()\n",
    "\n",
    "# Calculating the total number of rows in the DataFrame\n",
    "total_rows = df_clean_1.shape[0]\n",
    "\n",
    "# Calculating the percentage of data loss\n",
    "percent_total_data_loss = round((total_missing / total_rows) * 100, 2)\n",
    "\n",
    "# Print the result\n",
    "print(f\"{percent_total_data_loss}% of total data loss if NaN rows in any of 'start_station_name', 'end_station_name', 'end_lat', 'end_lng'\")"
   ]
  },
  {
   "cell_type": "markdown",
   "id": "61007c07-9263-46a4-8cbc-19a012c349c1",
   "metadata": {},
   "source": [
    "Since the NaN values make up 0.23% of entire data,so, I am dropping these rows."
   ]
  },
  {
   "cell_type": "code",
   "execution_count": 26,
   "id": "dad12942-f9f9-4741-ba80-37326353fb73",
   "metadata": {},
   "outputs": [],
   "source": [
    "df_clean_2 = df_clean_1.dropna(subset=['start_station_name', 'end_station_name', 'end_lat', 'end_lng'])"
   ]
  },
  {
   "cell_type": "code",
   "execution_count": 27,
   "id": "07ae8af8-4967-4d92-93fb-34a88d78e48e",
   "metadata": {},
   "outputs": [
    {
     "data": {
      "text/plain": [
       "(29768714, 14)"
      ]
     },
     "execution_count": 27,
     "metadata": {},
     "output_type": "execute_result"
    }
   ],
   "source": [
    "df_clean_2.shape"
   ]
  },
  {
   "cell_type": "code",
   "execution_count": 28,
   "id": "808d577c-4219-4faf-9650-6faab5481882",
   "metadata": {},
   "outputs": [
    {
     "data": {
      "text/html": [
       "<div>\n",
       "<style scoped>\n",
       "    .dataframe tbody tr th:only-of-type {\n",
       "        vertical-align: middle;\n",
       "    }\n",
       "\n",
       "    .dataframe tbody tr th {\n",
       "        vertical-align: top;\n",
       "    }\n",
       "\n",
       "    .dataframe thead th {\n",
       "        text-align: right;\n",
       "    }\n",
       "</style>\n",
       "<table border=\"1\" class=\"dataframe\">\n",
       "  <thead>\n",
       "    <tr style=\"text-align: right;\">\n",
       "      <th></th>\n",
       "      <th>ride_id</th>\n",
       "      <th>rideable_type</th>\n",
       "      <th>started_at</th>\n",
       "      <th>ended_at</th>\n",
       "      <th>start_station_name</th>\n",
       "      <th>end_station_name</th>\n",
       "      <th>start_lat</th>\n",
       "      <th>start_lng</th>\n",
       "      <th>end_lat</th>\n",
       "      <th>end_lng</th>\n",
       "      <th>member_casual</th>\n",
       "      <th>date</th>\n",
       "      <th>avgTemp</th>\n",
       "      <th>_merge</th>\n",
       "    </tr>\n",
       "  </thead>\n",
       "  <tbody>\n",
       "    <tr>\n",
       "      <th>0</th>\n",
       "      <td>9D0DC440CB40CF8E</td>\n",
       "      <td>electric_bike</td>\n",
       "      <td>2022-08-27 13:56:47.728</td>\n",
       "      <td>2022-08-27 14:02:56.651</td>\n",
       "      <td>Flatbush Ave &amp; Ocean Ave</td>\n",
       "      <td>3 St &amp; Prospect Park West</td>\n",
       "      <td>40.663657</td>\n",
       "      <td>-73.963014</td>\n",
       "      <td>40.668132</td>\n",
       "      <td>-73.973638</td>\n",
       "      <td>casual</td>\n",
       "      <td>2022-08-27</td>\n",
       "      <td>27.8</td>\n",
       "      <td>both</td>\n",
       "    </tr>\n",
       "    <tr>\n",
       "      <th>1</th>\n",
       "      <td>2214991DFBE5C4D7</td>\n",
       "      <td>electric_bike</td>\n",
       "      <td>2022-08-20 10:37:02.756</td>\n",
       "      <td>2022-08-20 10:45:56.631</td>\n",
       "      <td>Forsyth St\\t&amp; Grand St</td>\n",
       "      <td>E 11 St &amp; 1 Ave</td>\n",
       "      <td>40.717798</td>\n",
       "      <td>-73.993161</td>\n",
       "      <td>40.729538</td>\n",
       "      <td>-73.984267</td>\n",
       "      <td>casual</td>\n",
       "      <td>2022-08-20</td>\n",
       "      <td>27.9</td>\n",
       "      <td>both</td>\n",
       "    </tr>\n",
       "    <tr>\n",
       "      <th>2</th>\n",
       "      <td>20C5D469563B6337</td>\n",
       "      <td>classic_bike</td>\n",
       "      <td>2022-08-31 18:55:03.051</td>\n",
       "      <td>2022-08-31 19:03:37.344</td>\n",
       "      <td>Perry St &amp; Bleecker St</td>\n",
       "      <td>Grand St &amp; Greene St</td>\n",
       "      <td>40.735354</td>\n",
       "      <td>-74.004831</td>\n",
       "      <td>40.721700</td>\n",
       "      <td>-74.002381</td>\n",
       "      <td>member</td>\n",
       "      <td>2022-08-31</td>\n",
       "      <td>25.6</td>\n",
       "      <td>both</td>\n",
       "    </tr>\n",
       "    <tr>\n",
       "      <th>3</th>\n",
       "      <td>3E8791885BC189D1</td>\n",
       "      <td>classic_bike</td>\n",
       "      <td>2022-08-02 08:05:00.250</td>\n",
       "      <td>2022-08-02 08:16:52.063</td>\n",
       "      <td>FDR Drive &amp; E 35 St</td>\n",
       "      <td>Grand Army Plaza &amp; Central Park S</td>\n",
       "      <td>40.744219</td>\n",
       "      <td>-73.971212</td>\n",
       "      <td>40.764397</td>\n",
       "      <td>-73.973715</td>\n",
       "      <td>member</td>\n",
       "      <td>2022-08-02</td>\n",
       "      <td>26.4</td>\n",
       "      <td>both</td>\n",
       "    </tr>\n",
       "    <tr>\n",
       "      <th>4</th>\n",
       "      <td>8DBCBF98885106CB</td>\n",
       "      <td>electric_bike</td>\n",
       "      <td>2022-08-25 15:44:48.386</td>\n",
       "      <td>2022-08-25 15:55:39.691</td>\n",
       "      <td>E 40 St &amp; 5 Ave</td>\n",
       "      <td>Ave A &amp; E 14 St</td>\n",
       "      <td>40.752052</td>\n",
       "      <td>-73.982115</td>\n",
       "      <td>40.730311</td>\n",
       "      <td>-73.980472</td>\n",
       "      <td>member</td>\n",
       "      <td>2022-08-25</td>\n",
       "      <td>28.1</td>\n",
       "      <td>both</td>\n",
       "    </tr>\n",
       "  </tbody>\n",
       "</table>\n",
       "</div>"
      ],
      "text/plain": [
       "            ride_id  rideable_type               started_at  \\\n",
       "0  9D0DC440CB40CF8E  electric_bike  2022-08-27 13:56:47.728   \n",
       "1  2214991DFBE5C4D7  electric_bike  2022-08-20 10:37:02.756   \n",
       "2  20C5D469563B6337   classic_bike  2022-08-31 18:55:03.051   \n",
       "3  3E8791885BC189D1   classic_bike  2022-08-02 08:05:00.250   \n",
       "4  8DBCBF98885106CB  electric_bike  2022-08-25 15:44:48.386   \n",
       "\n",
       "                  ended_at        start_station_name  \\\n",
       "0  2022-08-27 14:02:56.651  Flatbush Ave & Ocean Ave   \n",
       "1  2022-08-20 10:45:56.631    Forsyth St\\t& Grand St   \n",
       "2  2022-08-31 19:03:37.344    Perry St & Bleecker St   \n",
       "3  2022-08-02 08:16:52.063       FDR Drive & E 35 St   \n",
       "4  2022-08-25 15:55:39.691           E 40 St & 5 Ave   \n",
       "\n",
       "                    end_station_name  start_lat  start_lng    end_lat  \\\n",
       "0          3 St & Prospect Park West  40.663657 -73.963014  40.668132   \n",
       "1                    E 11 St & 1 Ave  40.717798 -73.993161  40.729538   \n",
       "2               Grand St & Greene St  40.735354 -74.004831  40.721700   \n",
       "3  Grand Army Plaza & Central Park S  40.744219 -73.971212  40.764397   \n",
       "4                    Ave A & E 14 St  40.752052 -73.982115  40.730311   \n",
       "\n",
       "     end_lng member_casual        date  avgTemp _merge  \n",
       "0 -73.973638        casual  2022-08-27     27.8   both  \n",
       "1 -73.984267        casual  2022-08-20     27.9   both  \n",
       "2 -74.002381        member  2022-08-31     25.6   both  \n",
       "3 -73.973715        member  2022-08-02     26.4   both  \n",
       "4 -73.980472        member  2022-08-25     28.1   both  "
      ]
     },
     "execution_count": 28,
     "metadata": {},
     "output_type": "execute_result"
    }
   ],
   "source": [
    "df_clean_2.head()"
   ]
  },
  {
   "cell_type": "code",
   "execution_count": 29,
   "id": "a4f627f6-62c2-4f49-8518-95abb078a0b0",
   "metadata": {},
   "outputs": [
    {
     "name": "stderr",
     "output_type": "stream",
     "text": [
      "/var/folders/bm/wxz2f90s7x104nl7tfs2lwdw0000gn/T/ipykernel_4619/2269729395.py:3: SettingWithCopyWarning: \n",
      "A value is trying to be set on a copy of a slice from a DataFrame.\n",
      "Try using .loc[row_indexer,col_indexer] = value instead\n",
      "\n",
      "See the caveats in the documentation: https://pandas.pydata.org/pandas-docs/stable/user_guide/indexing.html#returning-a-view-versus-a-copy\n",
      "  df_clean_2['value'] = 1\n"
     ]
    }
   ],
   "source": [
    "# Creating a value column and group by start and end station \n",
    "\n",
    "df_clean_2['value'] = 1\n",
    "# Group by all specified columns and count 'value'\n",
    "# Group by start and end station names and count occurrences\n",
    "df_stations = df_clean_2.groupby(['start_station_name', 'end_station_name'])['value'].count().reset_index()"
   ]
  },
  {
   "cell_type": "code",
   "execution_count": 30,
   "id": "cfb9df8d-f14f-45d4-9211-0356d3cee5c5",
   "metadata": {},
   "outputs": [
    {
     "data": {
      "text/html": [
       "<div>\n",
       "<style scoped>\n",
       "    .dataframe tbody tr th:only-of-type {\n",
       "        vertical-align: middle;\n",
       "    }\n",
       "\n",
       "    .dataframe tbody tr th {\n",
       "        vertical-align: top;\n",
       "    }\n",
       "\n",
       "    .dataframe thead th {\n",
       "        text-align: right;\n",
       "    }\n",
       "</style>\n",
       "<table border=\"1\" class=\"dataframe\">\n",
       "  <thead>\n",
       "    <tr style=\"text-align: right;\">\n",
       "      <th></th>\n",
       "      <th>start_station_name</th>\n",
       "      <th>end_station_name</th>\n",
       "      <th>value</th>\n",
       "    </tr>\n",
       "  </thead>\n",
       "  <tbody>\n",
       "    <tr>\n",
       "      <th>0</th>\n",
       "      <td>1 Ave &amp; E 110 St</td>\n",
       "      <td>1 Ave &amp; E 110 St</td>\n",
       "      <td>791</td>\n",
       "    </tr>\n",
       "    <tr>\n",
       "      <th>1</th>\n",
       "      <td>1 Ave &amp; E 110 St</td>\n",
       "      <td>1 Ave &amp; E 18 St</td>\n",
       "      <td>2</td>\n",
       "    </tr>\n",
       "    <tr>\n",
       "      <th>2</th>\n",
       "      <td>1 Ave &amp; E 110 St</td>\n",
       "      <td>1 Ave &amp; E 30 St</td>\n",
       "      <td>4</td>\n",
       "    </tr>\n",
       "    <tr>\n",
       "      <th>3</th>\n",
       "      <td>1 Ave &amp; E 110 St</td>\n",
       "      <td>1 Ave &amp; E 39 St</td>\n",
       "      <td>1</td>\n",
       "    </tr>\n",
       "    <tr>\n",
       "      <th>4</th>\n",
       "      <td>1 Ave &amp; E 110 St</td>\n",
       "      <td>1 Ave &amp; E 44 St</td>\n",
       "      <td>12</td>\n",
       "    </tr>\n",
       "  </tbody>\n",
       "</table>\n",
       "</div>"
      ],
      "text/plain": [
       "  start_station_name  end_station_name  value\n",
       "0   1 Ave & E 110 St  1 Ave & E 110 St    791\n",
       "1   1 Ave & E 110 St   1 Ave & E 18 St      2\n",
       "2   1 Ave & E 110 St   1 Ave & E 30 St      4\n",
       "3   1 Ave & E 110 St   1 Ave & E 39 St      1\n",
       "4   1 Ave & E 110 St   1 Ave & E 44 St     12"
      ]
     },
     "execution_count": 30,
     "metadata": {},
     "output_type": "execute_result"
    }
   ],
   "source": [
    "df_stations.head()"
   ]
  },
  {
   "cell_type": "code",
   "execution_count": 31,
   "id": "b39e9522-2af2-4c30-944e-f4629511ec18",
   "metadata": {},
   "outputs": [
    {
     "data": {
      "text/plain": [
       "(1013422, 3)"
      ]
     },
     "execution_count": 31,
     "metadata": {},
     "output_type": "execute_result"
    }
   ],
   "source": [
    "df_stations.shape"
   ]
  },
  {
   "cell_type": "markdown",
   "id": "5dace678-9b58-41b6-96a0-fcc5453b9991",
   "metadata": {},
   "source": [
    "### Start Station"
   ]
  },
  {
   "cell_type": "code",
   "execution_count": 32,
   "id": "cab4d62b-1a1e-4874-9986-e0c02a36faed",
   "metadata": {},
   "outputs": [],
   "source": [
    "start_name=df_stations[['start_station_name']]"
   ]
  },
  {
   "cell_type": "code",
   "execution_count": 33,
   "id": "16452613-b88e-41b4-beb7-cb639b6d3521",
   "metadata": {},
   "outputs": [
    {
     "data": {
      "text/html": [
       "<div>\n",
       "<style scoped>\n",
       "    .dataframe tbody tr th:only-of-type {\n",
       "        vertical-align: middle;\n",
       "    }\n",
       "\n",
       "    .dataframe tbody tr th {\n",
       "        vertical-align: top;\n",
       "    }\n",
       "\n",
       "    .dataframe thead th {\n",
       "        text-align: right;\n",
       "    }\n",
       "</style>\n",
       "<table border=\"1\" class=\"dataframe\">\n",
       "  <thead>\n",
       "    <tr style=\"text-align: right;\">\n",
       "      <th></th>\n",
       "      <th>start_station_name</th>\n",
       "    </tr>\n",
       "  </thead>\n",
       "  <tbody>\n",
       "    <tr>\n",
       "      <th>0</th>\n",
       "      <td>1 Ave &amp; E 110 St</td>\n",
       "    </tr>\n",
       "    <tr>\n",
       "      <th>1</th>\n",
       "      <td>1 Ave &amp; E 110 St</td>\n",
       "    </tr>\n",
       "    <tr>\n",
       "      <th>2</th>\n",
       "      <td>1 Ave &amp; E 110 St</td>\n",
       "    </tr>\n",
       "    <tr>\n",
       "      <th>3</th>\n",
       "      <td>1 Ave &amp; E 110 St</td>\n",
       "    </tr>\n",
       "    <tr>\n",
       "      <th>4</th>\n",
       "      <td>1 Ave &amp; E 110 St</td>\n",
       "    </tr>\n",
       "  </tbody>\n",
       "</table>\n",
       "</div>"
      ],
      "text/plain": [
       "  start_station_name\n",
       "0   1 Ave & E 110 St\n",
       "1   1 Ave & E 110 St\n",
       "2   1 Ave & E 110 St\n",
       "3   1 Ave & E 110 St\n",
       "4   1 Ave & E 110 St"
      ]
     },
     "execution_count": 33,
     "metadata": {},
     "output_type": "execute_result"
    }
   ],
   "source": [
    "start_name.head()"
   ]
  },
  {
   "cell_type": "code",
   "execution_count": 34,
   "id": "d3fd8080-7038-4e65-9ce0-ddaf87c57b1e",
   "metadata": {},
   "outputs": [
    {
     "data": {
      "text/plain": [
       "(1013422, 1)"
      ]
     },
     "execution_count": 34,
     "metadata": {},
     "output_type": "execute_result"
    }
   ],
   "source": [
    "start_name.shape"
   ]
  },
  {
   "cell_type": "code",
   "execution_count": 35,
   "id": "aaca05ed-145f-4d7b-bbf1-831e6f1d2500",
   "metadata": {},
   "outputs": [
    {
     "name": "stderr",
     "output_type": "stream",
     "text": [
      "/var/folders/bm/wxz2f90s7x104nl7tfs2lwdw0000gn/T/ipykernel_4619/4040858919.py:1: SettingWithCopyWarning: \n",
      "A value is trying to be set on a copy of a slice from a DataFrame\n",
      "\n",
      "See the caveats in the documentation: https://pandas.pydata.org/pandas-docs/stable/user_guide/indexing.html#returning-a-view-versus-a-copy\n",
      "  start_name.drop_duplicates(inplace=True)\n"
     ]
    }
   ],
   "source": [
    "start_name.drop_duplicates(inplace=True)"
   ]
  },
  {
   "cell_type": "code",
   "execution_count": 36,
   "id": "ae540aef-b297-4870-9f09-89090b8780ae",
   "metadata": {},
   "outputs": [
    {
     "data": {
      "text/html": [
       "<div>\n",
       "<style scoped>\n",
       "    .dataframe tbody tr th:only-of-type {\n",
       "        vertical-align: middle;\n",
       "    }\n",
       "\n",
       "    .dataframe tbody tr th {\n",
       "        vertical-align: top;\n",
       "    }\n",
       "\n",
       "    .dataframe thead th {\n",
       "        text-align: right;\n",
       "    }\n",
       "</style>\n",
       "<table border=\"1\" class=\"dataframe\">\n",
       "  <thead>\n",
       "    <tr style=\"text-align: right;\">\n",
       "      <th></th>\n",
       "      <th>start_station_name</th>\n",
       "    </tr>\n",
       "  </thead>\n",
       "  <tbody>\n",
       "    <tr>\n",
       "      <th>0</th>\n",
       "      <td>1 Ave &amp; E 110 St</td>\n",
       "    </tr>\n",
       "    <tr>\n",
       "      <th>712</th>\n",
       "      <td>1 Ave &amp; E 16 St</td>\n",
       "    </tr>\n",
       "    <tr>\n",
       "      <th>1646</th>\n",
       "      <td>1 Ave &amp; E 18 St</td>\n",
       "    </tr>\n",
       "    <tr>\n",
       "      <th>2617</th>\n",
       "      <td>1 Ave &amp; E 30 St</td>\n",
       "    </tr>\n",
       "    <tr>\n",
       "      <th>3539</th>\n",
       "      <td>1 Ave &amp; E 39 St</td>\n",
       "    </tr>\n",
       "  </tbody>\n",
       "</table>\n",
       "</div>"
      ],
      "text/plain": [
       "     start_station_name\n",
       "0      1 Ave & E 110 St\n",
       "712     1 Ave & E 16 St\n",
       "1646    1 Ave & E 18 St\n",
       "2617    1 Ave & E 30 St\n",
       "3539    1 Ave & E 39 St"
      ]
     },
     "execution_count": 36,
     "metadata": {},
     "output_type": "execute_result"
    }
   ],
   "source": [
    "start_name.head()"
   ]
  },
  {
   "cell_type": "code",
   "execution_count": 37,
   "id": "2115949f-f572-4882-bdf2-a62ff3a48034",
   "metadata": {},
   "outputs": [
    {
     "data": {
      "text/plain": [
       "(1761, 1)"
      ]
     },
     "execution_count": 37,
     "metadata": {},
     "output_type": "execute_result"
    }
   ],
   "source": [
    "start_name.shape"
   ]
  },
  {
   "cell_type": "code",
   "execution_count": 38,
   "id": "98bc3f54-8304-4009-81b8-1cb8adab575d",
   "metadata": {},
   "outputs": [],
   "source": [
    "start_stations = df_clean_2[['start_station_name', 'start_lat', 'start_lng']]"
   ]
  },
  {
   "cell_type": "code",
   "execution_count": 39,
   "id": "b319f023-e8f8-4b8c-b214-207612709b39",
   "metadata": {},
   "outputs": [
    {
     "data": {
      "text/html": [
       "<div>\n",
       "<style scoped>\n",
       "    .dataframe tbody tr th:only-of-type {\n",
       "        vertical-align: middle;\n",
       "    }\n",
       "\n",
       "    .dataframe tbody tr th {\n",
       "        vertical-align: top;\n",
       "    }\n",
       "\n",
       "    .dataframe thead th {\n",
       "        text-align: right;\n",
       "    }\n",
       "</style>\n",
       "<table border=\"1\" class=\"dataframe\">\n",
       "  <thead>\n",
       "    <tr style=\"text-align: right;\">\n",
       "      <th></th>\n",
       "      <th>start_station_name</th>\n",
       "      <th>start_lat</th>\n",
       "      <th>start_lng</th>\n",
       "    </tr>\n",
       "  </thead>\n",
       "  <tbody>\n",
       "    <tr>\n",
       "      <th>0</th>\n",
       "      <td>Flatbush Ave &amp; Ocean Ave</td>\n",
       "      <td>40.663657</td>\n",
       "      <td>-73.963014</td>\n",
       "    </tr>\n",
       "    <tr>\n",
       "      <th>1</th>\n",
       "      <td>Forsyth St\\t&amp; Grand St</td>\n",
       "      <td>40.717798</td>\n",
       "      <td>-73.993161</td>\n",
       "    </tr>\n",
       "    <tr>\n",
       "      <th>2</th>\n",
       "      <td>Perry St &amp; Bleecker St</td>\n",
       "      <td>40.735354</td>\n",
       "      <td>-74.004831</td>\n",
       "    </tr>\n",
       "    <tr>\n",
       "      <th>3</th>\n",
       "      <td>FDR Drive &amp; E 35 St</td>\n",
       "      <td>40.744219</td>\n",
       "      <td>-73.971212</td>\n",
       "    </tr>\n",
       "    <tr>\n",
       "      <th>4</th>\n",
       "      <td>E 40 St &amp; 5 Ave</td>\n",
       "      <td>40.752052</td>\n",
       "      <td>-73.982115</td>\n",
       "    </tr>\n",
       "  </tbody>\n",
       "</table>\n",
       "</div>"
      ],
      "text/plain": [
       "         start_station_name  start_lat  start_lng\n",
       "0  Flatbush Ave & Ocean Ave  40.663657 -73.963014\n",
       "1    Forsyth St\\t& Grand St  40.717798 -73.993161\n",
       "2    Perry St & Bleecker St  40.735354 -74.004831\n",
       "3       FDR Drive & E 35 St  40.744219 -73.971212\n",
       "4           E 40 St & 5 Ave  40.752052 -73.982115"
      ]
     },
     "execution_count": 39,
     "metadata": {},
     "output_type": "execute_result"
    }
   ],
   "source": [
    "start_stations.head()"
   ]
  },
  {
   "cell_type": "code",
   "execution_count": 40,
   "id": "8ae3898b-f09f-4568-90d7-13dd8eb24690",
   "metadata": {},
   "outputs": [
    {
     "data": {
      "text/plain": [
       "(29768714, 3)"
      ]
     },
     "execution_count": 40,
     "metadata": {},
     "output_type": "execute_result"
    }
   ],
   "source": [
    "start_stations.shape"
   ]
  },
  {
   "cell_type": "code",
   "execution_count": 41,
   "id": "22951cfc-a5fb-45ce-9fd3-ca95b6e462a4",
   "metadata": {},
   "outputs": [
    {
     "name": "stderr",
     "output_type": "stream",
     "text": [
      "/var/folders/bm/wxz2f90s7x104nl7tfs2lwdw0000gn/T/ipykernel_4619/2522370280.py:1: SettingWithCopyWarning: \n",
      "A value is trying to be set on a copy of a slice from a DataFrame\n",
      "\n",
      "See the caveats in the documentation: https://pandas.pydata.org/pandas-docs/stable/user_guide/indexing.html#returning-a-view-versus-a-copy\n",
      "  start_stations.drop_duplicates(inplace=True)\n"
     ]
    }
   ],
   "source": [
    "start_stations.drop_duplicates(inplace=True)"
   ]
  },
  {
   "cell_type": "code",
   "execution_count": 42,
   "id": "a0eec7d6-6263-4902-8076-4ca919a3da59",
   "metadata": {},
   "outputs": [
    {
     "data": {
      "text/plain": [
       "(4041501, 3)"
      ]
     },
     "execution_count": 42,
     "metadata": {},
     "output_type": "execute_result"
    }
   ],
   "source": [
    "start_stations.shape"
   ]
  },
  {
   "cell_type": "code",
   "execution_count": 43,
   "id": "8cdf8aff-5d39-4ad8-b9ef-9312298cdfa0",
   "metadata": {},
   "outputs": [
    {
     "data": {
      "text/plain": [
       "(1761, 1)"
      ]
     },
     "execution_count": 43,
     "metadata": {},
     "output_type": "execute_result"
    }
   ],
   "source": [
    "start_name.shape"
   ]
  },
  {
   "cell_type": "code",
   "execution_count": 44,
   "id": "e226a131-a6cd-4bcc-b7aa-e921ca47b365",
   "metadata": {},
   "outputs": [],
   "source": [
    "list_start_station = []"
   ]
  },
  {
   "cell_type": "code",
   "execution_count": 45,
   "id": "cce43046-310c-475f-bc1c-3ebdf4ebc3e1",
   "metadata": {},
   "outputs": [],
   "source": [
    "for i in range( len(start_name)):\n",
    "    station_name = start_name.iloc[i]['start_station_name']\n",
    "    if station_name in start_stations['start_station_name'].values:\n",
    "        data = start_stations[start_stations['start_station_name'] == station_name]\n",
    "        list_start_station.append(data)"
   ]
  },
  {
   "cell_type": "code",
   "execution_count": 46,
   "id": "19a8a466-9544-4d7b-98f6-2154337c76f8",
   "metadata": {},
   "outputs": [],
   "source": [
    "start_station_data = pd.concat(list_start_station).reset_index(drop=True)"
   ]
  },
  {
   "cell_type": "code",
   "execution_count": 47,
   "id": "db80ca2c-de80-4c3f-8873-d94d3bd6568f",
   "metadata": {},
   "outputs": [
    {
     "data": {
      "text/html": [
       "<div>\n",
       "<style scoped>\n",
       "    .dataframe tbody tr th:only-of-type {\n",
       "        vertical-align: middle;\n",
       "    }\n",
       "\n",
       "    .dataframe tbody tr th {\n",
       "        vertical-align: top;\n",
       "    }\n",
       "\n",
       "    .dataframe thead th {\n",
       "        text-align: right;\n",
       "    }\n",
       "</style>\n",
       "<table border=\"1\" class=\"dataframe\">\n",
       "  <thead>\n",
       "    <tr style=\"text-align: right;\">\n",
       "      <th></th>\n",
       "      <th>start_station_name</th>\n",
       "      <th>start_lat</th>\n",
       "      <th>start_lng</th>\n",
       "    </tr>\n",
       "  </thead>\n",
       "  <tbody>\n",
       "    <tr>\n",
       "      <th>0</th>\n",
       "      <td>1 Ave &amp; E 110 St</td>\n",
       "      <td>40.792337</td>\n",
       "      <td>-73.938240</td>\n",
       "    </tr>\n",
       "    <tr>\n",
       "      <th>1</th>\n",
       "      <td>1 Ave &amp; E 110 St</td>\n",
       "      <td>40.792438</td>\n",
       "      <td>-73.938265</td>\n",
       "    </tr>\n",
       "    <tr>\n",
       "      <th>2</th>\n",
       "      <td>1 Ave &amp; E 110 St</td>\n",
       "      <td>40.792436</td>\n",
       "      <td>-73.938177</td>\n",
       "    </tr>\n",
       "    <tr>\n",
       "      <th>3</th>\n",
       "      <td>1 Ave &amp; E 110 St</td>\n",
       "      <td>40.792327</td>\n",
       "      <td>-73.938300</td>\n",
       "    </tr>\n",
       "    <tr>\n",
       "      <th>4</th>\n",
       "      <td>1 Ave &amp; E 110 St</td>\n",
       "      <td>40.792413</td>\n",
       "      <td>-73.938243</td>\n",
       "    </tr>\n",
       "  </tbody>\n",
       "</table>\n",
       "</div>"
      ],
      "text/plain": [
       "  start_station_name  start_lat  start_lng\n",
       "0   1 Ave & E 110 St  40.792337 -73.938240\n",
       "1   1 Ave & E 110 St  40.792438 -73.938265\n",
       "2   1 Ave & E 110 St  40.792436 -73.938177\n",
       "3   1 Ave & E 110 St  40.792327 -73.938300\n",
       "4   1 Ave & E 110 St  40.792413 -73.938243"
      ]
     },
     "execution_count": 47,
     "metadata": {},
     "output_type": "execute_result"
    }
   ],
   "source": [
    "start_station_data.head()"
   ]
  },
  {
   "cell_type": "code",
   "execution_count": 48,
   "id": "c43863d7-e876-40cc-bc37-0a83e435675c",
   "metadata": {},
   "outputs": [],
   "source": [
    "start_station_data.drop_duplicates(subset=['start_station_name'], inplace=True)"
   ]
  },
  {
   "cell_type": "code",
   "execution_count": 49,
   "id": "615e47ed-9295-4f9c-be14-be78101e8953",
   "metadata": {},
   "outputs": [],
   "source": [
    "start_station_data = start_station_data.reset_index(drop=True)"
   ]
  },
  {
   "cell_type": "code",
   "execution_count": 50,
   "id": "3e3a0005-2027-42d5-9eab-3eb2c15ab1b0",
   "metadata": {},
   "outputs": [
    {
     "data": {
      "text/html": [
       "<div>\n",
       "<style scoped>\n",
       "    .dataframe tbody tr th:only-of-type {\n",
       "        vertical-align: middle;\n",
       "    }\n",
       "\n",
       "    .dataframe tbody tr th {\n",
       "        vertical-align: top;\n",
       "    }\n",
       "\n",
       "    .dataframe thead th {\n",
       "        text-align: right;\n",
       "    }\n",
       "</style>\n",
       "<table border=\"1\" class=\"dataframe\">\n",
       "  <thead>\n",
       "    <tr style=\"text-align: right;\">\n",
       "      <th></th>\n",
       "      <th>start_station_name</th>\n",
       "      <th>start_lat</th>\n",
       "      <th>start_lng</th>\n",
       "    </tr>\n",
       "  </thead>\n",
       "  <tbody>\n",
       "    <tr>\n",
       "      <th>0</th>\n",
       "      <td>1 Ave &amp; E 110 St</td>\n",
       "      <td>40.792337</td>\n",
       "      <td>-73.938240</td>\n",
       "    </tr>\n",
       "    <tr>\n",
       "      <th>1</th>\n",
       "      <td>1 Ave &amp; E 16 St</td>\n",
       "      <td>40.732219</td>\n",
       "      <td>-73.981656</td>\n",
       "    </tr>\n",
       "    <tr>\n",
       "      <th>2</th>\n",
       "      <td>1 Ave &amp; E 18 St</td>\n",
       "      <td>40.733812</td>\n",
       "      <td>-73.980544</td>\n",
       "    </tr>\n",
       "    <tr>\n",
       "      <th>3</th>\n",
       "      <td>1 Ave &amp; E 30 St</td>\n",
       "      <td>40.741549</td>\n",
       "      <td>-73.975329</td>\n",
       "    </tr>\n",
       "    <tr>\n",
       "      <th>4</th>\n",
       "      <td>1 Ave &amp; E 39 St</td>\n",
       "      <td>40.747140</td>\n",
       "      <td>-73.971130</td>\n",
       "    </tr>\n",
       "  </tbody>\n",
       "</table>\n",
       "</div>"
      ],
      "text/plain": [
       "  start_station_name  start_lat  start_lng\n",
       "0   1 Ave & E 110 St  40.792337 -73.938240\n",
       "1    1 Ave & E 16 St  40.732219 -73.981656\n",
       "2    1 Ave & E 18 St  40.733812 -73.980544\n",
       "3    1 Ave & E 30 St  40.741549 -73.975329\n",
       "4    1 Ave & E 39 St  40.747140 -73.971130"
      ]
     },
     "execution_count": 50,
     "metadata": {},
     "output_type": "execute_result"
    }
   ],
   "source": [
    "start_station_data.head()"
   ]
  },
  {
   "cell_type": "code",
   "execution_count": 51,
   "id": "2dfbf2f1-4491-4ea6-813f-7a59f1c6f0ce",
   "metadata": {},
   "outputs": [],
   "source": [
    "# Merging start station data with aggregated group by data which contains value counts of station trips.\n",
    "\n",
    "df_dummy = df_stations.merge(start_station_data, left_on='start_station_name', right_on='start_station_name', how='left')"
   ]
  },
  {
   "cell_type": "code",
   "execution_count": 52,
   "id": "9a84c43d-f717-4e2b-98b5-18c342c0c853",
   "metadata": {},
   "outputs": [
    {
     "data": {
      "text/html": [
       "<div>\n",
       "<style scoped>\n",
       "    .dataframe tbody tr th:only-of-type {\n",
       "        vertical-align: middle;\n",
       "    }\n",
       "\n",
       "    .dataframe tbody tr th {\n",
       "        vertical-align: top;\n",
       "    }\n",
       "\n",
       "    .dataframe thead th {\n",
       "        text-align: right;\n",
       "    }\n",
       "</style>\n",
       "<table border=\"1\" class=\"dataframe\">\n",
       "  <thead>\n",
       "    <tr style=\"text-align: right;\">\n",
       "      <th></th>\n",
       "      <th>start_station_name</th>\n",
       "      <th>end_station_name</th>\n",
       "      <th>value</th>\n",
       "      <th>start_lat</th>\n",
       "      <th>start_lng</th>\n",
       "    </tr>\n",
       "  </thead>\n",
       "  <tbody>\n",
       "    <tr>\n",
       "      <th>0</th>\n",
       "      <td>1 Ave &amp; E 110 St</td>\n",
       "      <td>1 Ave &amp; E 110 St</td>\n",
       "      <td>791</td>\n",
       "      <td>40.792337</td>\n",
       "      <td>-73.93824</td>\n",
       "    </tr>\n",
       "    <tr>\n",
       "      <th>1</th>\n",
       "      <td>1 Ave &amp; E 110 St</td>\n",
       "      <td>1 Ave &amp; E 18 St</td>\n",
       "      <td>2</td>\n",
       "      <td>40.792337</td>\n",
       "      <td>-73.93824</td>\n",
       "    </tr>\n",
       "    <tr>\n",
       "      <th>2</th>\n",
       "      <td>1 Ave &amp; E 110 St</td>\n",
       "      <td>1 Ave &amp; E 30 St</td>\n",
       "      <td>4</td>\n",
       "      <td>40.792337</td>\n",
       "      <td>-73.93824</td>\n",
       "    </tr>\n",
       "    <tr>\n",
       "      <th>3</th>\n",
       "      <td>1 Ave &amp; E 110 St</td>\n",
       "      <td>1 Ave &amp; E 39 St</td>\n",
       "      <td>1</td>\n",
       "      <td>40.792337</td>\n",
       "      <td>-73.93824</td>\n",
       "    </tr>\n",
       "    <tr>\n",
       "      <th>4</th>\n",
       "      <td>1 Ave &amp; E 110 St</td>\n",
       "      <td>1 Ave &amp; E 44 St</td>\n",
       "      <td>12</td>\n",
       "      <td>40.792337</td>\n",
       "      <td>-73.93824</td>\n",
       "    </tr>\n",
       "  </tbody>\n",
       "</table>\n",
       "</div>"
      ],
      "text/plain": [
       "  start_station_name  end_station_name  value  start_lat  start_lng\n",
       "0   1 Ave & E 110 St  1 Ave & E 110 St    791  40.792337  -73.93824\n",
       "1   1 Ave & E 110 St   1 Ave & E 18 St      2  40.792337  -73.93824\n",
       "2   1 Ave & E 110 St   1 Ave & E 30 St      4  40.792337  -73.93824\n",
       "3   1 Ave & E 110 St   1 Ave & E 39 St      1  40.792337  -73.93824\n",
       "4   1 Ave & E 110 St   1 Ave & E 44 St     12  40.792337  -73.93824"
      ]
     },
     "execution_count": 52,
     "metadata": {},
     "output_type": "execute_result"
    }
   ],
   "source": [
    "df_dummy.head()"
   ]
  },
  {
   "cell_type": "markdown",
   "id": "cca55ebf-3817-41d3-936a-4f325dba5cac",
   "metadata": {},
   "source": [
    "### End Station"
   ]
  },
  {
   "cell_type": "code",
   "execution_count": 53,
   "id": "7136c7c5-a622-4d8d-92bf-7596e9ad0ed6",
   "metadata": {},
   "outputs": [],
   "source": [
    "end_name=df_stations[['end_station_name']]"
   ]
  },
  {
   "cell_type": "code",
   "execution_count": 54,
   "id": "84ecd4d8-b739-4b45-b1aa-9468b9179deb",
   "metadata": {},
   "outputs": [
    {
     "data": {
      "text/html": [
       "<div>\n",
       "<style scoped>\n",
       "    .dataframe tbody tr th:only-of-type {\n",
       "        vertical-align: middle;\n",
       "    }\n",
       "\n",
       "    .dataframe tbody tr th {\n",
       "        vertical-align: top;\n",
       "    }\n",
       "\n",
       "    .dataframe thead th {\n",
       "        text-align: right;\n",
       "    }\n",
       "</style>\n",
       "<table border=\"1\" class=\"dataframe\">\n",
       "  <thead>\n",
       "    <tr style=\"text-align: right;\">\n",
       "      <th></th>\n",
       "      <th>end_station_name</th>\n",
       "    </tr>\n",
       "  </thead>\n",
       "  <tbody>\n",
       "    <tr>\n",
       "      <th>0</th>\n",
       "      <td>1 Ave &amp; E 110 St</td>\n",
       "    </tr>\n",
       "    <tr>\n",
       "      <th>1</th>\n",
       "      <td>1 Ave &amp; E 18 St</td>\n",
       "    </tr>\n",
       "    <tr>\n",
       "      <th>2</th>\n",
       "      <td>1 Ave &amp; E 30 St</td>\n",
       "    </tr>\n",
       "    <tr>\n",
       "      <th>3</th>\n",
       "      <td>1 Ave &amp; E 39 St</td>\n",
       "    </tr>\n",
       "    <tr>\n",
       "      <th>4</th>\n",
       "      <td>1 Ave &amp; E 44 St</td>\n",
       "    </tr>\n",
       "  </tbody>\n",
       "</table>\n",
       "</div>"
      ],
      "text/plain": [
       "   end_station_name\n",
       "0  1 Ave & E 110 St\n",
       "1   1 Ave & E 18 St\n",
       "2   1 Ave & E 30 St\n",
       "3   1 Ave & E 39 St\n",
       "4   1 Ave & E 44 St"
      ]
     },
     "execution_count": 54,
     "metadata": {},
     "output_type": "execute_result"
    }
   ],
   "source": [
    "end_name.head()"
   ]
  },
  {
   "cell_type": "code",
   "execution_count": 55,
   "id": "1131db4b-d029-4077-bf84-0542b38f75fa",
   "metadata": {},
   "outputs": [
    {
     "data": {
      "text/plain": [
       "(1013422, 1)"
      ]
     },
     "execution_count": 55,
     "metadata": {},
     "output_type": "execute_result"
    }
   ],
   "source": [
    "end_name.shape"
   ]
  },
  {
   "cell_type": "code",
   "execution_count": 56,
   "id": "777c7a86-ea84-486e-aa87-e72a99e55d03",
   "metadata": {},
   "outputs": [
    {
     "name": "stderr",
     "output_type": "stream",
     "text": [
      "/var/folders/bm/wxz2f90s7x104nl7tfs2lwdw0000gn/T/ipykernel_4619/2336912990.py:1: SettingWithCopyWarning: \n",
      "A value is trying to be set on a copy of a slice from a DataFrame\n",
      "\n",
      "See the caveats in the documentation: https://pandas.pydata.org/pandas-docs/stable/user_guide/indexing.html#returning-a-view-versus-a-copy\n",
      "  end_name.drop_duplicates(inplace=True)\n"
     ]
    }
   ],
   "source": [
    "end_name.drop_duplicates(inplace=True)"
   ]
  },
  {
   "cell_type": "code",
   "execution_count": 57,
   "id": "67df391a-7b1f-4461-9933-d849ade06fe3",
   "metadata": {},
   "outputs": [
    {
     "data": {
      "text/html": [
       "<div>\n",
       "<style scoped>\n",
       "    .dataframe tbody tr th:only-of-type {\n",
       "        vertical-align: middle;\n",
       "    }\n",
       "\n",
       "    .dataframe tbody tr th {\n",
       "        vertical-align: top;\n",
       "    }\n",
       "\n",
       "    .dataframe thead th {\n",
       "        text-align: right;\n",
       "    }\n",
       "</style>\n",
       "<table border=\"1\" class=\"dataframe\">\n",
       "  <thead>\n",
       "    <tr style=\"text-align: right;\">\n",
       "      <th></th>\n",
       "      <th>end_station_name</th>\n",
       "    </tr>\n",
       "  </thead>\n",
       "  <tbody>\n",
       "    <tr>\n",
       "      <th>0</th>\n",
       "      <td>1 Ave &amp; E 110 St</td>\n",
       "    </tr>\n",
       "    <tr>\n",
       "      <th>1</th>\n",
       "      <td>1 Ave &amp; E 18 St</td>\n",
       "    </tr>\n",
       "    <tr>\n",
       "      <th>2</th>\n",
       "      <td>1 Ave &amp; E 30 St</td>\n",
       "    </tr>\n",
       "    <tr>\n",
       "      <th>3</th>\n",
       "      <td>1 Ave &amp; E 39 St</td>\n",
       "    </tr>\n",
       "    <tr>\n",
       "      <th>4</th>\n",
       "      <td>1 Ave &amp; E 44 St</td>\n",
       "    </tr>\n",
       "  </tbody>\n",
       "</table>\n",
       "</div>"
      ],
      "text/plain": [
       "   end_station_name\n",
       "0  1 Ave & E 110 St\n",
       "1   1 Ave & E 18 St\n",
       "2   1 Ave & E 30 St\n",
       "3   1 Ave & E 39 St\n",
       "4   1 Ave & E 44 St"
      ]
     },
     "execution_count": 57,
     "metadata": {},
     "output_type": "execute_result"
    }
   ],
   "source": [
    "end_name.head()"
   ]
  },
  {
   "cell_type": "code",
   "execution_count": 58,
   "id": "b651d9e9-8f3c-40c8-8a3d-72b24d616623",
   "metadata": {},
   "outputs": [
    {
     "data": {
      "text/plain": [
       "(1841, 1)"
      ]
     },
     "execution_count": 58,
     "metadata": {},
     "output_type": "execute_result"
    }
   ],
   "source": [
    "end_name.shape"
   ]
  },
  {
   "cell_type": "code",
   "execution_count": 59,
   "id": "48946dd4-7c51-4f9f-b756-01d044bef228",
   "metadata": {},
   "outputs": [],
   "source": [
    "end_stations = df_clean_2[['end_station_name', 'end_lat', 'end_lng']]"
   ]
  },
  {
   "cell_type": "code",
   "execution_count": 60,
   "id": "ec2c0178-12ea-4f95-b8e7-db14aa36839d",
   "metadata": {},
   "outputs": [
    {
     "data": {
      "text/html": [
       "<div>\n",
       "<style scoped>\n",
       "    .dataframe tbody tr th:only-of-type {\n",
       "        vertical-align: middle;\n",
       "    }\n",
       "\n",
       "    .dataframe tbody tr th {\n",
       "        vertical-align: top;\n",
       "    }\n",
       "\n",
       "    .dataframe thead th {\n",
       "        text-align: right;\n",
       "    }\n",
       "</style>\n",
       "<table border=\"1\" class=\"dataframe\">\n",
       "  <thead>\n",
       "    <tr style=\"text-align: right;\">\n",
       "      <th></th>\n",
       "      <th>end_station_name</th>\n",
       "      <th>end_lat</th>\n",
       "      <th>end_lng</th>\n",
       "    </tr>\n",
       "  </thead>\n",
       "  <tbody>\n",
       "    <tr>\n",
       "      <th>0</th>\n",
       "      <td>3 St &amp; Prospect Park West</td>\n",
       "      <td>40.668132</td>\n",
       "      <td>-73.973638</td>\n",
       "    </tr>\n",
       "    <tr>\n",
       "      <th>1</th>\n",
       "      <td>E 11 St &amp; 1 Ave</td>\n",
       "      <td>40.729538</td>\n",
       "      <td>-73.984267</td>\n",
       "    </tr>\n",
       "    <tr>\n",
       "      <th>2</th>\n",
       "      <td>Grand St &amp; Greene St</td>\n",
       "      <td>40.721700</td>\n",
       "      <td>-74.002381</td>\n",
       "    </tr>\n",
       "    <tr>\n",
       "      <th>3</th>\n",
       "      <td>Grand Army Plaza &amp; Central Park S</td>\n",
       "      <td>40.764397</td>\n",
       "      <td>-73.973715</td>\n",
       "    </tr>\n",
       "    <tr>\n",
       "      <th>4</th>\n",
       "      <td>Ave A &amp; E 14 St</td>\n",
       "      <td>40.730311</td>\n",
       "      <td>-73.980472</td>\n",
       "    </tr>\n",
       "  </tbody>\n",
       "</table>\n",
       "</div>"
      ],
      "text/plain": [
       "                    end_station_name    end_lat    end_lng\n",
       "0          3 St & Prospect Park West  40.668132 -73.973638\n",
       "1                    E 11 St & 1 Ave  40.729538 -73.984267\n",
       "2               Grand St & Greene St  40.721700 -74.002381\n",
       "3  Grand Army Plaza & Central Park S  40.764397 -73.973715\n",
       "4                    Ave A & E 14 St  40.730311 -73.980472"
      ]
     },
     "execution_count": 60,
     "metadata": {},
     "output_type": "execute_result"
    }
   ],
   "source": [
    "end_stations.head()"
   ]
  },
  {
   "cell_type": "code",
   "execution_count": 61,
   "id": "454012b4-d003-4f7c-b734-52baf07860c8",
   "metadata": {},
   "outputs": [
    {
     "data": {
      "text/plain": [
       "(29768714, 3)"
      ]
     },
     "execution_count": 61,
     "metadata": {},
     "output_type": "execute_result"
    }
   ],
   "source": [
    "end_stations.shape"
   ]
  },
  {
   "cell_type": "code",
   "execution_count": 62,
   "id": "4b96b7f4-c9dd-438d-b4ff-86c38fd14b2c",
   "metadata": {},
   "outputs": [
    {
     "name": "stderr",
     "output_type": "stream",
     "text": [
      "/var/folders/bm/wxz2f90s7x104nl7tfs2lwdw0000gn/T/ipykernel_4619/886549750.py:1: SettingWithCopyWarning: \n",
      "A value is trying to be set on a copy of a slice from a DataFrame\n",
      "\n",
      "See the caveats in the documentation: https://pandas.pydata.org/pandas-docs/stable/user_guide/indexing.html#returning-a-view-versus-a-copy\n",
      "  end_stations.drop_duplicates(inplace=True)\n"
     ]
    }
   ],
   "source": [
    "end_stations.drop_duplicates(inplace=True)"
   ]
  },
  {
   "cell_type": "code",
   "execution_count": 63,
   "id": "e1bda480-0032-4b0c-99c8-5f8aaeff22f3",
   "metadata": {},
   "outputs": [
    {
     "data": {
      "text/plain": [
       "(2698, 3)"
      ]
     },
     "execution_count": 63,
     "metadata": {},
     "output_type": "execute_result"
    }
   ],
   "source": [
    "end_stations.shape"
   ]
  },
  {
   "cell_type": "code",
   "execution_count": 64,
   "id": "c4f40a95-3f1c-496a-8d7e-ae1eb4d9adcd",
   "metadata": {},
   "outputs": [
    {
     "data": {
      "text/plain": [
       "(1841, 1)"
      ]
     },
     "execution_count": 64,
     "metadata": {},
     "output_type": "execute_result"
    }
   ],
   "source": [
    "end_name.shape"
   ]
  },
  {
   "cell_type": "code",
   "execution_count": 65,
   "id": "489d35c6-b5e4-4f64-b537-960ddf7c2013",
   "metadata": {},
   "outputs": [],
   "source": [
    "list_end_station = []"
   ]
  },
  {
   "cell_type": "code",
   "execution_count": 66,
   "id": "34bea6cc-9c68-441f-8f32-a236bd529cd9",
   "metadata": {},
   "outputs": [],
   "source": [
    "for i in range( len(end_name)):\n",
    "    station_name = end_name.iloc[i]['end_station_name']\n",
    "    if station_name in end_stations['end_station_name'].values:\n",
    "        data = end_stations[end_stations['end_station_name'] == station_name]\n",
    "        list_end_station.append(data)"
   ]
  },
  {
   "cell_type": "code",
   "execution_count": 67,
   "id": "e0f958c8-b234-411b-852b-6991a9be01fe",
   "metadata": {},
   "outputs": [],
   "source": [
    "end_station_data = pd.concat(list_end_station).reset_index(drop=True)"
   ]
  },
  {
   "cell_type": "code",
   "execution_count": 68,
   "id": "83eb552f-7e52-4c59-a8a0-336ff5b246b8",
   "metadata": {},
   "outputs": [
    {
     "data": {
      "text/html": [
       "<div>\n",
       "<style scoped>\n",
       "    .dataframe tbody tr th:only-of-type {\n",
       "        vertical-align: middle;\n",
       "    }\n",
       "\n",
       "    .dataframe tbody tr th {\n",
       "        vertical-align: top;\n",
       "    }\n",
       "\n",
       "    .dataframe thead th {\n",
       "        text-align: right;\n",
       "    }\n",
       "</style>\n",
       "<table border=\"1\" class=\"dataframe\">\n",
       "  <thead>\n",
       "    <tr style=\"text-align: right;\">\n",
       "      <th></th>\n",
       "      <th>end_station_name</th>\n",
       "      <th>end_lat</th>\n",
       "      <th>end_lng</th>\n",
       "    </tr>\n",
       "  </thead>\n",
       "  <tbody>\n",
       "    <tr>\n",
       "      <th>0</th>\n",
       "      <td>1 Ave &amp; E 110 St</td>\n",
       "      <td>40.792327</td>\n",
       "      <td>-73.938300</td>\n",
       "    </tr>\n",
       "    <tr>\n",
       "      <th>1</th>\n",
       "      <td>1 Ave &amp; E 110 St</td>\n",
       "      <td>40.792327</td>\n",
       "      <td>-73.938300</td>\n",
       "    </tr>\n",
       "    <tr>\n",
       "      <th>2</th>\n",
       "      <td>1 Ave &amp; E 18 St</td>\n",
       "      <td>40.733812</td>\n",
       "      <td>-73.980544</td>\n",
       "    </tr>\n",
       "    <tr>\n",
       "      <th>3</th>\n",
       "      <td>1 Ave &amp; E 18 St</td>\n",
       "      <td>40.733812</td>\n",
       "      <td>-73.980544</td>\n",
       "    </tr>\n",
       "    <tr>\n",
       "      <th>4</th>\n",
       "      <td>1 Ave &amp; E 30 St</td>\n",
       "      <td>40.741444</td>\n",
       "      <td>-73.975361</td>\n",
       "    </tr>\n",
       "  </tbody>\n",
       "</table>\n",
       "</div>"
      ],
      "text/plain": [
       "   end_station_name    end_lat    end_lng\n",
       "0  1 Ave & E 110 St  40.792327 -73.938300\n",
       "1  1 Ave & E 110 St  40.792327 -73.938300\n",
       "2   1 Ave & E 18 St  40.733812 -73.980544\n",
       "3   1 Ave & E 18 St  40.733812 -73.980544\n",
       "4   1 Ave & E 30 St  40.741444 -73.975361"
      ]
     },
     "execution_count": 68,
     "metadata": {},
     "output_type": "execute_result"
    }
   ],
   "source": [
    "end_station_data.head()"
   ]
  },
  {
   "cell_type": "markdown",
   "id": "8a17dcd6-653e-4985-84bf-2d1beff82962",
   "metadata": {},
   "source": [
    "I merged the start and end station data to create a final DataFrame containing station names, latitudes, longitudes, and usage counts for comprehensive spatial and usage analysis."
   ]
  },
  {
   "cell_type": "code",
   "execution_count": 69,
   "id": "179cf127-a1c7-44b6-a43e-f244b37b09b4",
   "metadata": {},
   "outputs": [],
   "source": [
    "df_final_station_data = df_dummy.merge(end_station_data, left_on='end_station_name', right_on='end_station_name', how='left')"
   ]
  },
  {
   "cell_type": "code",
   "execution_count": 70,
   "id": "7c58ad47-1f61-4dc4-a3dd-36c21346924d",
   "metadata": {},
   "outputs": [
    {
     "data": {
      "text/html": [
       "<div>\n",
       "<style scoped>\n",
       "    .dataframe tbody tr th:only-of-type {\n",
       "        vertical-align: middle;\n",
       "    }\n",
       "\n",
       "    .dataframe tbody tr th {\n",
       "        vertical-align: top;\n",
       "    }\n",
       "\n",
       "    .dataframe thead th {\n",
       "        text-align: right;\n",
       "    }\n",
       "</style>\n",
       "<table border=\"1\" class=\"dataframe\">\n",
       "  <thead>\n",
       "    <tr style=\"text-align: right;\">\n",
       "      <th></th>\n",
       "      <th>start_station_name</th>\n",
       "      <th>end_station_name</th>\n",
       "      <th>value</th>\n",
       "      <th>start_lat</th>\n",
       "      <th>start_lng</th>\n",
       "      <th>end_lat</th>\n",
       "      <th>end_lng</th>\n",
       "    </tr>\n",
       "  </thead>\n",
       "  <tbody>\n",
       "    <tr>\n",
       "      <th>0</th>\n",
       "      <td>1 Ave &amp; E 110 St</td>\n",
       "      <td>1 Ave &amp; E 110 St</td>\n",
       "      <td>791</td>\n",
       "      <td>40.792337</td>\n",
       "      <td>-73.938240</td>\n",
       "      <td>40.792327</td>\n",
       "      <td>-73.938300</td>\n",
       "    </tr>\n",
       "    <tr>\n",
       "      <th>1</th>\n",
       "      <td>1 Ave &amp; E 110 St</td>\n",
       "      <td>1 Ave &amp; E 110 St</td>\n",
       "      <td>791</td>\n",
       "      <td>40.792337</td>\n",
       "      <td>-73.938240</td>\n",
       "      <td>40.792327</td>\n",
       "      <td>-73.938300</td>\n",
       "    </tr>\n",
       "    <tr>\n",
       "      <th>2</th>\n",
       "      <td>1 Ave &amp; E 110 St</td>\n",
       "      <td>1 Ave &amp; E 18 St</td>\n",
       "      <td>2</td>\n",
       "      <td>40.792337</td>\n",
       "      <td>-73.938240</td>\n",
       "      <td>40.733812</td>\n",
       "      <td>-73.980544</td>\n",
       "    </tr>\n",
       "    <tr>\n",
       "      <th>3</th>\n",
       "      <td>1 Ave &amp; E 110 St</td>\n",
       "      <td>1 Ave &amp; E 18 St</td>\n",
       "      <td>2</td>\n",
       "      <td>40.792337</td>\n",
       "      <td>-73.938240</td>\n",
       "      <td>40.733812</td>\n",
       "      <td>-73.980544</td>\n",
       "    </tr>\n",
       "    <tr>\n",
       "      <th>4</th>\n",
       "      <td>1 Ave &amp; E 110 St</td>\n",
       "      <td>1 Ave &amp; E 30 St</td>\n",
       "      <td>4</td>\n",
       "      <td>40.792337</td>\n",
       "      <td>-73.938240</td>\n",
       "      <td>40.741444</td>\n",
       "      <td>-73.975361</td>\n",
       "    </tr>\n",
       "    <tr>\n",
       "      <th>...</th>\n",
       "      <td>...</td>\n",
       "      <td>...</td>\n",
       "      <td>...</td>\n",
       "      <td>...</td>\n",
       "      <td>...</td>\n",
       "      <td>...</td>\n",
       "      <td>...</td>\n",
       "    </tr>\n",
       "    <tr>\n",
       "      <th>1622164</th>\n",
       "      <td>Yankee Ferry Terminal</td>\n",
       "      <td>West St &amp; Liberty St</td>\n",
       "      <td>4</td>\n",
       "      <td>40.687066</td>\n",
       "      <td>-74.016756</td>\n",
       "      <td>40.711444</td>\n",
       "      <td>-74.014847</td>\n",
       "    </tr>\n",
       "    <tr>\n",
       "      <th>1622165</th>\n",
       "      <td>Yankee Ferry Terminal</td>\n",
       "      <td>West Thames St</td>\n",
       "      <td>1</td>\n",
       "      <td>40.687066</td>\n",
       "      <td>-74.016756</td>\n",
       "      <td>40.708347</td>\n",
       "      <td>-74.017134</td>\n",
       "    </tr>\n",
       "    <tr>\n",
       "      <th>1622166</th>\n",
       "      <td>Yankee Ferry Terminal</td>\n",
       "      <td>West Thames St</td>\n",
       "      <td>1</td>\n",
       "      <td>40.687066</td>\n",
       "      <td>-74.016756</td>\n",
       "      <td>40.708347</td>\n",
       "      <td>-74.017134</td>\n",
       "    </tr>\n",
       "    <tr>\n",
       "      <th>1622167</th>\n",
       "      <td>Yankee Ferry Terminal</td>\n",
       "      <td>Yankee Ferry Terminal</td>\n",
       "      <td>5759</td>\n",
       "      <td>40.687066</td>\n",
       "      <td>-74.016756</td>\n",
       "      <td>40.687066</td>\n",
       "      <td>-74.016756</td>\n",
       "    </tr>\n",
       "    <tr>\n",
       "      <th>1622168</th>\n",
       "      <td>Yankee Ferry Terminal</td>\n",
       "      <td>Yankee Ferry Terminal</td>\n",
       "      <td>5759</td>\n",
       "      <td>40.687066</td>\n",
       "      <td>-74.016756</td>\n",
       "      <td>40.687066</td>\n",
       "      <td>-74.016756</td>\n",
       "    </tr>\n",
       "  </tbody>\n",
       "</table>\n",
       "<p>1622169 rows × 7 columns</p>\n",
       "</div>"
      ],
      "text/plain": [
       "            start_station_name       end_station_name  value  start_lat  \\\n",
       "0             1 Ave & E 110 St       1 Ave & E 110 St    791  40.792337   \n",
       "1             1 Ave & E 110 St       1 Ave & E 110 St    791  40.792337   \n",
       "2             1 Ave & E 110 St        1 Ave & E 18 St      2  40.792337   \n",
       "3             1 Ave & E 110 St        1 Ave & E 18 St      2  40.792337   \n",
       "4             1 Ave & E 110 St        1 Ave & E 30 St      4  40.792337   \n",
       "...                        ...                    ...    ...        ...   \n",
       "1622164  Yankee Ferry Terminal   West St & Liberty St      4  40.687066   \n",
       "1622165  Yankee Ferry Terminal         West Thames St      1  40.687066   \n",
       "1622166  Yankee Ferry Terminal         West Thames St      1  40.687066   \n",
       "1622167  Yankee Ferry Terminal  Yankee Ferry Terminal   5759  40.687066   \n",
       "1622168  Yankee Ferry Terminal  Yankee Ferry Terminal   5759  40.687066   \n",
       "\n",
       "         start_lng    end_lat    end_lng  \n",
       "0       -73.938240  40.792327 -73.938300  \n",
       "1       -73.938240  40.792327 -73.938300  \n",
       "2       -73.938240  40.733812 -73.980544  \n",
       "3       -73.938240  40.733812 -73.980544  \n",
       "4       -73.938240  40.741444 -73.975361  \n",
       "...            ...        ...        ...  \n",
       "1622164 -74.016756  40.711444 -74.014847  \n",
       "1622165 -74.016756  40.708347 -74.017134  \n",
       "1622166 -74.016756  40.708347 -74.017134  \n",
       "1622167 -74.016756  40.687066 -74.016756  \n",
       "1622168 -74.016756  40.687066 -74.016756  \n",
       "\n",
       "[1622169 rows x 7 columns]"
      ]
     },
     "execution_count": 70,
     "metadata": {},
     "output_type": "execute_result"
    }
   ],
   "source": [
    "df_final_station_data"
   ]
  },
  {
   "cell_type": "code",
   "execution_count": 71,
   "id": "fe7c7d02-9d84-4d34-9d4d-74f2dba70edd",
   "metadata": {},
   "outputs": [],
   "source": [
    "df_final_station_data.rename(columns = {'value': 'trips'}, inplace = True)"
   ]
  },
  {
   "cell_type": "code",
   "execution_count": 72,
   "id": "3c1afc18-b26b-4ae6-ab55-d91e694afae4",
   "metadata": {},
   "outputs": [],
   "source": [
    "df_final_station_data.to_csv('df_final_locations_for_map.csv')"
   ]
  },
  {
   "cell_type": "markdown",
   "id": "fbb5720e-dbca-450c-b68a-63a9cbb2a7fb",
   "metadata": {},
   "source": [
    "### Initializing an instance of a kepler.gl map"
   ]
  },
  {
   "cell_type": "code",
   "execution_count": 74,
   "id": "8b3833e5-78b7-4376-8d96-344fb6e3c0e8",
   "metadata": {},
   "outputs": [
    {
     "name": "stdout",
     "output_type": "stream",
     "text": [
      "User Guide: https://docs.kepler.gl/docs/keplergl-jupyter\n"
     ]
    }
   ],
   "source": [
    "m = KeplerGl(height = 700, data={\"data_1\":df_final_station_data })"
   ]
  },
  {
   "cell_type": "code",
   "execution_count": 75,
   "id": "b5be5c82-e600-41ac-8771-630f133d191f",
   "metadata": {},
   "outputs": [
    {
     "data": {
      "application/vnd.jupyter.widget-view+json": {
       "model_id": "4b11aafbf5234408b3c0cb9a4dfdee48",
       "version_major": 2,
       "version_minor": 0
      },
      "text/plain": [
       "KeplerGl(data={'data_1':             start_station_name       end_station_name  trips  start_lat  \\\n",
       "0         …"
      ]
     },
     "execution_count": 75,
     "metadata": {},
     "output_type": "execute_result"
    }
   ],
   "source": [
    "m"
   ]
  },
  {
   "cell_type": "markdown",
   "id": "5b142f32-d591-400a-8415-f343e5048688",
   "metadata": {},
   "source": [
    "#### Customizing the Map\n",
    "\n",
    "I adjusted the color palette to effectively highlight where most trips originate and terminate, enhancing visual appeal and making interpretation more intuitive.\n",
    "By expanding the layers, I selected a striking yet neutral color for start points, and similarly adjusted the end points to a matching, subdued tone for clarity.\n",
    "To illustrate trip connections, I chose the start-to-end arc option, which displays lines indicating trips between stations.\n",
    "\n",
    "#### Adding Filters to Identify Key Trips  \n",
    "\n",
    "To identify the most common trips in New York City, I navigated to the “Filters” icon and added a filter based on the “trips” column.\n",
    "The visualized trips on the map significantly decrease as the slider moves right, but hovering over the lines reveals start/end station names and total trip counts.\n",
    "Initially, data points were overly dense, but filtering makes it easier to pinpoint popular cycling routes, while rare trips and outliers are filtered out, highlighting stations prone to shortages.\n",
    "Closer analysis reveals that stations like “Central Park S & 6 Ave” and “7 Ave & Central Park South” are extremely popular.\n",
    "A quick Google search confirms these stations are near key attractions such as the American Museum of Natural History, Museum of Modern Art, Empire State Building, and Museum of the City of New York, which are major destinations."
   ]
  },
  {
   "cell_type": "markdown",
   "id": "9bda9429-445c-4885-a035-9c18ab154beb",
   "metadata": {},
   "source": [
    "### Creating a config object and saving the map with it"
   ]
  },
  {
   "cell_type": "code",
   "execution_count": 76,
   "id": "90912bc8-cbf7-464f-b278-4d94b0145c9e",
   "metadata": {},
   "outputs": [],
   "source": [
    "config = m.config"
   ]
  },
  {
   "cell_type": "code",
   "execution_count": 77,
   "id": "1bc676ac-09b7-4818-b3e4-e96a43503cb4",
   "metadata": {},
   "outputs": [],
   "source": [
    "import json\n",
    "with open(\"nyc_map.json\", \"w\") as outfile:\n",
    "    json.dump(config, outfile)"
   ]
  },
  {
   "cell_type": "code",
   "execution_count": 78,
   "id": "bb37c631-18ff-4dc9-a38f-2dc5c2c00a84",
   "metadata": {},
   "outputs": [
    {
     "name": "stdout",
     "output_type": "stream",
     "text": [
      "Map saved to NewYork Citi Bike Trips Aggregated2.html!\n"
     ]
    }
   ],
   "source": [
    "m.save_to_html(file_name = 'NewYork Citi Bike Trips Aggregated2.html', read_only = False, config = config)"
   ]
  },
  {
   "cell_type": "code",
   "execution_count": null,
   "id": "81909728-52fb-4504-9f67-13c1aee18e31",
   "metadata": {},
   "outputs": [],
   "source": []
  }
 ],
 "metadata": {
  "kernelspec": {
   "display_name": "Python 3 (ipykernel)",
   "language": "python",
   "name": "python3"
  },
  "language_info": {
   "codemirror_mode": {
    "name": "ipython",
    "version": 3
   },
   "file_extension": ".py",
   "mimetype": "text/x-python",
   "name": "python",
   "nbconvert_exporter": "python",
   "pygments_lexer": "ipython3",
   "version": "3.12.2"
  }
 },
 "nbformat": 4,
 "nbformat_minor": 5
}
