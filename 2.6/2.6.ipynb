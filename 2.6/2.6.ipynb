{
 "cells": [
  {
   "cell_type": "code",
   "execution_count": 1,
   "id": "ee632d72-f64d-4148-8253-df0c10367411",
   "metadata": {},
   "outputs": [],
   "source": [
    "import streamlit as st\n",
    "import pandas as pd\n",
    "import numpy as np\n",
    "import plotly.express as px\n",
    "from plotly.subplots import make_subplots\n",
    "import plotly.graph_objects as go\n",
    "import matplotlib.pyplot as plt\n",
    "from datetime import datetime as dt\n",
    "from streamlit_keplergl import keplergl_static"
   ]
  },
  {
   "cell_type": "code",
   "execution_count": 2,
   "id": "6daf1003-f646-4038-8f43-f31924f20179",
   "metadata": {},
   "outputs": [],
   "source": [
    "path = '/Users/vickyczada/Library/CloudStorage/OneDrive-Personal/Documents/Career Foundry/Data Visualisation with Python/Achievement 2/NewYork_Bikes_data.csv'"
   ]
  },
  {
   "cell_type": "code",
   "execution_count": 3,
   "id": "6f64a342-68ea-4772-94f6-e9f8fbc424a6",
   "metadata": {},
   "outputs": [
    {
     "name": "stderr",
     "output_type": "stream",
     "text": [
      "/var/folders/bm/wxz2f90s7x104nl7tfs2lwdw0000gn/T/ipykernel_1613/1877949233.py:3: DtypeWarning: Columns (6,8) have mixed types. Specify dtype option on import or set low_memory=False.\n",
      "  df_merged = pd.read_csv(path, index_col = 0)\n"
     ]
    }
   ],
   "source": [
    "# Obtaining citibikes dataset\n",
    "\n",
    "df_merged = pd.read_csv(path, index_col = 0)"
   ]
  },
  {
   "cell_type": "code",
   "execution_count": 4,
   "id": "edfa55e6-5819-4740-83ee-9f31bd06808f",
   "metadata": {},
   "outputs": [
    {
     "data": {
      "text/plain": [
       "Index(['ride_id', 'rideable_type', 'started_at', 'ended_at',\n",
       "       'start_station_name', 'start_station_id', 'end_station_name',\n",
       "       'end_station_id', 'start_lat', 'start_lng', 'end_lat', 'end_lng',\n",
       "       'member_casual', 'date', 'avgTemp', '_merge'],\n",
       "      dtype='object')"
      ]
     },
     "execution_count": 4,
     "metadata": {},
     "output_type": "execute_result"
    }
   ],
   "source": [
    "df_merged.columns"
   ]
  },
  {
   "cell_type": "code",
   "execution_count": 5,
   "id": "80cc92da-00f5-406a-8fec-ac3c376edd17",
   "metadata": {},
   "outputs": [],
   "source": [
    "df_merged.drop(columns = {'_merge'}, inplace = True)"
   ]
  },
  {
   "cell_type": "code",
   "execution_count": 6,
   "id": "0400b95e-26ff-4c9e-b535-220261f78265",
   "metadata": {},
   "outputs": [
    {
     "data": {
      "text/plain": [
       "ride_id                object\n",
       "rideable_type          object\n",
       "started_at             object\n",
       "ended_at               object\n",
       "start_station_name     object\n",
       "start_station_id       object\n",
       "end_station_name       object\n",
       "end_station_id         object\n",
       "start_lat             float64\n",
       "start_lng             float64\n",
       "end_lat               float64\n",
       "end_lng               float64\n",
       "member_casual          object\n",
       "date                   object\n",
       "avgTemp               float64\n",
       "dtype: object"
      ]
     },
     "execution_count": 6,
     "metadata": {},
     "output_type": "execute_result"
    }
   ],
   "source": [
    "df_merged.dtypes"
   ]
  },
  {
   "cell_type": "code",
   "execution_count": 7,
   "id": "e7f33d49-716f-458a-bbe6-929208e9d78c",
   "metadata": {},
   "outputs": [],
   "source": [
    "df_merged['date'] = pd.to_datetime(df_merged['date'])"
   ]
  },
  {
   "cell_type": "code",
   "execution_count": 9,
   "id": "ef51418f-666a-403c-957a-d3298cd1cb9c",
   "metadata": {},
   "outputs": [],
   "source": [
    "# Groupby the count of the trips \n",
    "df_group = pd.DataFrame(df_merged.groupby(['date'])['ride_id'].count()).reset_index()"
   ]
  },
  {
   "cell_type": "code",
   "execution_count": 10,
   "id": "30d37ced-d362-4f59-9566-e9f3e8818a64",
   "metadata": {},
   "outputs": [
    {
     "name": "stdout",
     "output_type": "stream",
     "text": [
      "merge_flag\n",
      "both          29838806\n",
      "left_only            0\n",
      "right_only           0\n",
      "Name: count, dtype: int64\n",
      "Shape of January 1st is (20428, 17)\n",
      "Shape of January 2nd is (43009, 17)\n"
     ]
    }
   ],
   "source": [
    "# Renaming the ride_id column as trip_count for clarity.\n",
    "df_group.rename(columns = {'ride_id':'trip_count'}, inplace = True)\n",
    "# Merging trip count data with weather data.\n",
    "df_final = df_merged.merge(df_group, on='date', how='outer', indicator='merge_flag')\n",
    "print(df_final['merge_flag'].value_counts(dropna = False))\n",
    "print(\"Shape of January 1st is\", df_final[df_final['date'] == '2022-01-01'].shape) # Check\n",
    "print(\"Shape of January 2nd is\", df_final[df_final['date'] == '2022-01-02'].shape) # Second check"
   ]
  },
  {
   "cell_type": "code",
   "execution_count": 11,
   "id": "e25d63b6-9378-402d-91db-06798596e54d",
   "metadata": {},
   "outputs": [
    {
     "name": "stdout",
     "output_type": "stream",
     "text": [
      "Index(['ride_id', 'rideable_type', 'started_at', 'ended_at',\n",
      "       'start_station_name', 'start_station_id', 'end_station_name',\n",
      "       'end_station_id', 'start_lat', 'start_lng', 'end_lat', 'end_lng',\n",
      "       'member_casual', 'date', 'avgTemp', 'trip_count', 'merge_flag'],\n",
      "      dtype='object')\n"
     ]
    }
   ],
   "source": [
    "print(df_final.columns)"
   ]
  },
  {
   "cell_type": "code",
   "execution_count": 12,
   "id": "9ba6a6d0-5fa5-4cdf-8f36-b795b06a56d0",
   "metadata": {
    "scrolled": true
   },
   "outputs": [
    {
     "name": "stdout",
     "output_type": "stream",
     "text": [
      "Index(['ride_id', 'rideable_type', 'started_at', 'ended_at',\n",
      "       'start_station_name', 'start_station_id', 'end_station_name',\n",
      "       'end_station_id', 'start_lat', 'start_lng', 'end_lat', 'end_lng',\n",
      "       'member_casual', 'avgTemp', 'trip_count', 'merge_flag'],\n",
      "      dtype='object')\n"
     ]
    }
   ],
   "source": [
    "df_merged = df_final.set_index('date')\n",
    "print(df_merged.columns)"
   ]
  },
  {
   "cell_type": "code",
   "execution_count": 16,
   "id": "8fdf9552-7fd9-4530-b8a5-f18c094bf1ea",
   "metadata": {},
   "outputs": [],
   "source": [
    "df_merged.reset_index(inplace=True)"
   ]
  },
  {
   "cell_type": "code",
   "execution_count": 17,
   "id": "4542984d-dbfb-409d-83b2-38351a001336",
   "metadata": {},
   "outputs": [
    {
     "data": {
      "text/plain": [
       "Index(['date', 'ride_id', 'rideable_type', 'started_at', 'ended_at',\n",
       "       'start_station_name', 'start_station_id', 'end_station_name',\n",
       "       'end_station_id', 'start_lat', 'start_lng', 'end_lat', 'end_lng',\n",
       "       'member_casual', 'avgTemp', 'trip_count', 'merge_flag'],\n",
       "      dtype='object')"
      ]
     },
     "execution_count": 17,
     "metadata": {},
     "output_type": "execute_result"
    }
   ],
   "source": [
    "df_merged.columns"
   ]
  },
  {
   "cell_type": "code",
   "execution_count": 18,
   "id": "0781f286-69ea-46f2-a9ab-e8529fbcda43",
   "metadata": {},
   "outputs": [
    {
     "data": {
      "text/plain": [
       "(29838806, 17)"
      ]
     },
     "execution_count": 18,
     "metadata": {},
     "output_type": "execute_result"
    }
   ],
   "source": [
    "df_merged.shape"
   ]
  },
  {
   "cell_type": "code",
   "execution_count": 19,
   "id": "990021ec-c4a8-4f44-8d21-ba1cbadced62",
   "metadata": {},
   "outputs": [
    {
     "data": {
      "text/html": [
       "<div>\n",
       "<style scoped>\n",
       "    .dataframe tbody tr th:only-of-type {\n",
       "        vertical-align: middle;\n",
       "    }\n",
       "\n",
       "    .dataframe tbody tr th {\n",
       "        vertical-align: top;\n",
       "    }\n",
       "\n",
       "    .dataframe thead th {\n",
       "        text-align: right;\n",
       "    }\n",
       "</style>\n",
       "<table border=\"1\" class=\"dataframe\">\n",
       "  <thead>\n",
       "    <tr style=\"text-align: right;\">\n",
       "      <th></th>\n",
       "      <th>date</th>\n",
       "      <th>ride_id</th>\n",
       "      <th>rideable_type</th>\n",
       "      <th>started_at</th>\n",
       "      <th>ended_at</th>\n",
       "      <th>start_station_name</th>\n",
       "      <th>start_station_id</th>\n",
       "      <th>end_station_name</th>\n",
       "      <th>end_station_id</th>\n",
       "      <th>start_lat</th>\n",
       "      <th>start_lng</th>\n",
       "      <th>end_lat</th>\n",
       "      <th>end_lng</th>\n",
       "      <th>member_casual</th>\n",
       "      <th>avgTemp</th>\n",
       "      <th>trip_count</th>\n",
       "      <th>merge_flag</th>\n",
       "    </tr>\n",
       "  </thead>\n",
       "  <tbody>\n",
       "    <tr>\n",
       "      <th>0</th>\n",
       "      <td>2021-01-30</td>\n",
       "      <td>34BD74D84D320CF5</td>\n",
       "      <td>electric_bike</td>\n",
       "      <td>2021-01-30 17:30:45.544</td>\n",
       "      <td>2022-05-23 06:17:27.131</td>\n",
       "      <td>W 144 St &amp; Adam Clayton Powell Blvd</td>\n",
       "      <td>7932.1</td>\n",
       "      <td>Frederick Douglass Blvd &amp; W 112 St</td>\n",
       "      <td>7631.23</td>\n",
       "      <td>40.820877</td>\n",
       "      <td>-73.939249</td>\n",
       "      <td>40.801694</td>\n",
       "      <td>-73.957145</td>\n",
       "      <td>casual</td>\n",
       "      <td>NaN</td>\n",
       "      <td>1</td>\n",
       "      <td>both</td>\n",
       "    </tr>\n",
       "    <tr>\n",
       "      <th>1</th>\n",
       "      <td>2021-02-15</td>\n",
       "      <td>FA436228F4CD7647</td>\n",
       "      <td>classic_bike</td>\n",
       "      <td>2021-02-15 14:11:20.946</td>\n",
       "      <td>2022-08-10 15:01:30.839</td>\n",
       "      <td>Kent Ave &amp; S 11 St</td>\n",
       "      <td>5062.01</td>\n",
       "      <td>Union Ave &amp; Jackson St</td>\n",
       "      <td>5300.06</td>\n",
       "      <td>40.707645</td>\n",
       "      <td>-73.968415</td>\n",
       "      <td>40.716075</td>\n",
       "      <td>-73.952029</td>\n",
       "      <td>casual</td>\n",
       "      <td>NaN</td>\n",
       "      <td>1</td>\n",
       "      <td>both</td>\n",
       "    </tr>\n",
       "    <tr>\n",
       "      <th>2</th>\n",
       "      <td>2021-03-11</td>\n",
       "      <td>8FC77EAE2C0561E4</td>\n",
       "      <td>classic_bike</td>\n",
       "      <td>2021-03-11 22:08:54.461</td>\n",
       "      <td>2022-06-16 09:12:21.565</td>\n",
       "      <td>Union St &amp; 4 Ave</td>\n",
       "      <td>4175.15</td>\n",
       "      <td>Flatbush Ave &amp; Ocean Ave</td>\n",
       "      <td>3704.04</td>\n",
       "      <td>40.677274</td>\n",
       "      <td>-73.982820</td>\n",
       "      <td>40.663657</td>\n",
       "      <td>-73.963014</td>\n",
       "      <td>casual</td>\n",
       "      <td>NaN</td>\n",
       "      <td>1</td>\n",
       "      <td>both</td>\n",
       "    </tr>\n",
       "    <tr>\n",
       "      <th>3</th>\n",
       "      <td>2021-03-14</td>\n",
       "      <td>BF45D1E037463AA8</td>\n",
       "      <td>classic_bike</td>\n",
       "      <td>2021-03-14 18:17:59.923</td>\n",
       "      <td>2022-02-02 23:38:01.993</td>\n",
       "      <td>N 12 St &amp; Bedford Ave</td>\n",
       "      <td>5450.04</td>\n",
       "      <td>S Portland Ave &amp; Hanson Pl</td>\n",
       "      <td>4354.05</td>\n",
       "      <td>40.720798</td>\n",
       "      <td>-73.954847</td>\n",
       "      <td>40.685396</td>\n",
       "      <td>-73.974315</td>\n",
       "      <td>member</td>\n",
       "      <td>NaN</td>\n",
       "      <td>1</td>\n",
       "      <td>both</td>\n",
       "    </tr>\n",
       "    <tr>\n",
       "      <th>4</th>\n",
       "      <td>2021-03-31</td>\n",
       "      <td>763D82F8CFA1D9D1</td>\n",
       "      <td>classic_bike</td>\n",
       "      <td>2021-03-31 15:35:20.070</td>\n",
       "      <td>2022-09-25 14:33:21.607</td>\n",
       "      <td>Willoughby St &amp; Fleet St</td>\n",
       "      <td>4628.05</td>\n",
       "      <td>DeKalb Ave &amp; Franklin Ave</td>\n",
       "      <td>4528.01</td>\n",
       "      <td>40.691966</td>\n",
       "      <td>-73.981302</td>\n",
       "      <td>40.690648</td>\n",
       "      <td>-73.957462</td>\n",
       "      <td>casual</td>\n",
       "      <td>NaN</td>\n",
       "      <td>1</td>\n",
       "      <td>both</td>\n",
       "    </tr>\n",
       "  </tbody>\n",
       "</table>\n",
       "</div>"
      ],
      "text/plain": [
       "        date           ride_id  rideable_type               started_at  \\\n",
       "0 2021-01-30  34BD74D84D320CF5  electric_bike  2021-01-30 17:30:45.544   \n",
       "1 2021-02-15  FA436228F4CD7647   classic_bike  2021-02-15 14:11:20.946   \n",
       "2 2021-03-11  8FC77EAE2C0561E4   classic_bike  2021-03-11 22:08:54.461   \n",
       "3 2021-03-14  BF45D1E037463AA8   classic_bike  2021-03-14 18:17:59.923   \n",
       "4 2021-03-31  763D82F8CFA1D9D1   classic_bike  2021-03-31 15:35:20.070   \n",
       "\n",
       "                  ended_at                   start_station_name  \\\n",
       "0  2022-05-23 06:17:27.131  W 144 St & Adam Clayton Powell Blvd   \n",
       "1  2022-08-10 15:01:30.839                   Kent Ave & S 11 St   \n",
       "2  2022-06-16 09:12:21.565                     Union St & 4 Ave   \n",
       "3  2022-02-02 23:38:01.993                N 12 St & Bedford Ave   \n",
       "4  2022-09-25 14:33:21.607             Willoughby St & Fleet St   \n",
       "\n",
       "  start_station_id                    end_station_name end_station_id  \\\n",
       "0           7932.1  Frederick Douglass Blvd & W 112 St        7631.23   \n",
       "1          5062.01              Union Ave & Jackson St        5300.06   \n",
       "2          4175.15            Flatbush Ave & Ocean Ave        3704.04   \n",
       "3          5450.04          S Portland Ave & Hanson Pl        4354.05   \n",
       "4          4628.05           DeKalb Ave & Franklin Ave        4528.01   \n",
       "\n",
       "   start_lat  start_lng    end_lat    end_lng member_casual  avgTemp  \\\n",
       "0  40.820877 -73.939249  40.801694 -73.957145        casual      NaN   \n",
       "1  40.707645 -73.968415  40.716075 -73.952029        casual      NaN   \n",
       "2  40.677274 -73.982820  40.663657 -73.963014        casual      NaN   \n",
       "3  40.720798 -73.954847  40.685396 -73.974315        member      NaN   \n",
       "4  40.691966 -73.981302  40.690648 -73.957462        casual      NaN   \n",
       "\n",
       "   trip_count merge_flag  \n",
       "0           1       both  \n",
       "1           1       both  \n",
       "2           1       both  \n",
       "3           1       both  \n",
       "4           1       both  "
      ]
     },
     "execution_count": 19,
     "metadata": {},
     "output_type": "execute_result"
    }
   ],
   "source": [
    "df_merged.head()"
   ]
  },
  {
   "cell_type": "markdown",
   "id": "f1575b3a-6956-4a12-a54e-79bf1e74f687",
   "metadata": {},
   "source": [
    "### Creating month and season columns"
   ]
  },
  {
   "cell_type": "code",
   "execution_count": 21,
   "id": "6e0c119e-39ff-471c-acac-93a31ed43aea",
   "metadata": {},
   "outputs": [],
   "source": [
    "# Create a month column \n",
    "\n",
    "df_merged['date'] = pd.to_datetime(df_merged['date'], format = '%Y-%m-%d')\n",
    "df_merged['month'] = df_merged['date'].dt.month\n",
    "df_merged['month'] = df_merged['month'].astype('int')"
   ]
  },
  {
   "cell_type": "code",
   "execution_count": 22,
   "id": "99582099-97f0-4732-933e-eac321ed0427",
   "metadata": {},
   "outputs": [],
   "source": [
    "# Create the season column\n",
    "\n",
    "df_merged['season'] = [\n",
    "\"winter\" if (month == 12 or 1 <= month <= 4)\n",
    "    else \"spring\" if (4 < month <= 5)\n",
    "    else \"summer\" if (6 <= month <= 9)\n",
    "    else \"fall\"\n",
    "for month in df_merged['month']\n",
    "    ]"
   ]
  },
  {
   "cell_type": "code",
   "execution_count": 23,
   "id": "fdaa17bf-97aa-4968-83cf-737206041b24",
   "metadata": {},
   "outputs": [
    {
     "data": {
      "text/plain": [
       "(29838806, 19)"
      ]
     },
     "execution_count": 23,
     "metadata": {},
     "output_type": "execute_result"
    }
   ],
   "source": [
    "df_merged.shape"
   ]
  },
  {
   "cell_type": "code",
   "execution_count": 24,
   "id": "9600d942-01be-4f86-8b81-ff8301b68fc4",
   "metadata": {},
   "outputs": [
    {
     "data": {
      "text/plain": [
       "Index(['date', 'ride_id', 'rideable_type', 'started_at', 'ended_at',\n",
       "       'start_station_name', 'start_station_id', 'end_station_name',\n",
       "       'end_station_id', 'start_lat', 'start_lng', 'end_lat', 'end_lng',\n",
       "       'member_casual', 'avgTemp', 'trip_count', 'merge_flag', 'month',\n",
       "       'season'],\n",
       "      dtype='object')"
      ]
     },
     "execution_count": 24,
     "metadata": {},
     "output_type": "execute_result"
    }
   ],
   "source": [
    "df_merged.columns"
   ]
  },
  {
   "cell_type": "markdown",
   "id": "27f8d5c3-fd9f-44c7-9f04-136d74b0ff33",
   "metadata": {},
   "source": [
    "### Creating the plotly charts"
   ]
  },
  {
   "cell_type": "code",
   "execution_count": 25,
   "id": "f66f5ea1-afae-4dac-a2ce-d4c04d0f66a7",
   "metadata": {},
   "outputs": [],
   "source": [
    "## Groupby\n",
    "\n",
    "df_merged['value'] = 1 \n",
    "df_groupby_bar = df_merged.groupby('start_station_name', as_index=False).agg({'value': 'sum'})\n",
    "top20 = df_groupby_bar.nlargest(20, 'value')"
   ]
  },
  {
   "cell_type": "markdown",
   "id": "5d6302af-679b-4328-a011-4d9b94442071",
   "metadata": {},
   "source": [
    "I grouped the data by 'start_station_name' and used the sum function to aggregate the total occurrences for each station. Then, I identified the top 20 stations with the highest counts by applying the .nlargest() method."
   ]
  },
  {
   "cell_type": "code",
   "execution_count": null,
   "id": "df5a479a-66fa-4419-bab2-ad0b175f8303",
   "metadata": {
    "scrolled": true
   },
   "outputs": [],
   "source": [
    "fig = go.Figure(go.Bar(x = top20['start_station_name'], y = top20['value']))\n",
    "fig.show()"
   ]
  },
  {
   "cell_type": "markdown",
   "id": "46af0f2f-b3ea-4ade-bc68-946b369e9170",
   "metadata": {},
   "source": [
    "The plot above was created using a code snippet that initializes a bar chart with the go.Bar() function, where go is an alias for the graph_objects module in Plotly. I designed a straightforward bar chart without color customization to effectively visualize the distribution of values across various stations."
   ]
  },
  {
   "cell_type": "code",
   "execution_count": null,
   "id": "48402701-38b3-4dfd-80e8-abe3d51c77e5",
   "metadata": {
    "scrolled": true
   },
   "outputs": [],
   "source": [
    "fig = go.Figure(go.Bar(x = top20['start_station_name'], y = top20['value'], marker={'color': top20['value'],'colorscale': 'Blues'}))\n",
    "fig.show()"
   ]
  },
  {
   "cell_type": "markdown",
   "id": "ac21f2db-3752-42b7-b69f-f1fe518a370e",
   "metadata": {},
   "source": [
    "By introducing the marker parameter, I applied the Blues color palette to enhance visual clarity, making it easier to distinguish stations with higher counts. Additionally, I used fig.update_layout() to refine the title and axis labels, and adjust the chart's width, ensuring a more polished and informative presentation."
   ]
  },
  {
   "cell_type": "code",
   "execution_count": null,
   "id": "902a1e35-fa06-4c6d-8dd9-1876c2cf7a5c",
   "metadata": {},
   "outputs": [],
   "source": [
    "## Bar chart\n",
    "\n",
    "fig.update_layout(\n",
    "    title = 'Top 20 most popular bike stations in NewYork',\n",
    "    xaxis_title = 'Start stations',\n",
    "    yaxis_title ='Sum of trips',\n",
    "    width = 900, height = 600\n",
    ")"
   ]
  },
  {
   "cell_type": "markdown",
   "id": "3749ba59-16c1-4dae-83f2-d3f1a99e1730",
   "metadata": {},
   "source": [
    "Since the plot is created with Plotly, it inherently offers interactive features, allowing users to hover over each bar to view detailed information such as station names and counts, enhancing the overall user experience."
   ]
  },
  {
   "cell_type": "code",
   "execution_count": 29,
   "id": "fe518a3b-23cb-488b-90b6-f4afef807137",
   "metadata": {},
   "outputs": [],
   "source": [
    "# Saving the top 20 stations as a CSV file\n",
    "\n",
    "top20.to_csv('top20.csv')"
   ]
  },
  {
   "cell_type": "markdown",
   "id": "b430fba5-a279-4afd-a8d9-4031b689fa13",
   "metadata": {},
   "source": [
    "### Creating a dual-axis line chart for the aggregated bike trips and temperatures in plotly."
   ]
  },
  {
   "cell_type": "code",
   "execution_count": null,
   "id": "bb5c797d-b9a9-444b-92be-ee47cd5df3f0",
   "metadata": {
    "scrolled": true
   },
   "outputs": [],
   "source": [
    "# Aggregating the data by datetime\n",
    "df_aggregated = df_merged.groupby('date').agg({\n",
    "    'trip_count': 'mean',  # Using 'mean' for daily bike rides\n",
    "    'avgTemp': 'mean'  # Using 'mean' for daily temperature\n",
    "}).reset_index()\n",
    "\n",
    "# Creating subplot with two y-axes\n",
    "fig = make_subplots(specs=[[{\"secondary_y\": True}]])\n",
    "\n",
    "# Adding trace for daily bike rides\n",
    "fig.add_trace(\n",
    "        go.Scatter(x=df_aggregated['date'], y=df_aggregated['trip_count'], name='Daily bike rides', line=dict(color='blue')),\n",
    "    secondary_y=False,\n",
    ")\n",
    "\n",
    "# Adding trace for daily temperature\n",
    "fig.add_trace(\n",
    "    go.Scatter(x=df_aggregated['date'], y=df_aggregated['avgTemp'], name='Daily temperature', line=dict(color='red')),\n",
    "    secondary_y=True,\n",
    ")"
   ]
  },
  {
   "cell_type": "code",
   "execution_count": null,
   "id": "ec92f6f1-1c42-400b-8372-d7281b226c1d",
   "metadata": {
    "scrolled": true
   },
   "outputs": [],
   "source": [
    "# using fig.update_layout() to add a title and adjust the size (customizing the chart)\n",
    "fig.update_layout(\n",
    "        title = 'Daily bike rides and Temperature in 2022 NewYork',\n",
    "        xaxis_title = 'Date',\n",
    "        yaxis = dict(\n",
    "            title = 'Daily Total Bike Rides',\n",
    "            titlefont = dict(color = 'blue'),\n",
    "            tickfont = dict(color = 'blue'),\n",
    "            tickformat=\".1s\"\n",
    "        ),\n",
    "        yaxis2 = dict(\n",
    "            title = 'Daily Avg Temperature',\n",
    "            titlefont = dict(color = 'red'),\n",
    "            tickfont = dict(color = 'red'),\n",
    "            anchor = 'x',\n",
    "            overlaying = 'y',\n",
    "            side = 'right',\n",
    "           tickformat=\"d\"\n",
    "        ),\n",
    "        legend = dict(\n",
    "            x = 0,\n",
    "            y = 1.1,\n",
    "            orientation = 'h'\n",
    "        )\n",
    "    ) "
   ]
  },
  {
   "cell_type": "code",
   "execution_count": 32,
   "id": "2c117a2f-612f-42f6-a3b6-01f7f0505ae0",
   "metadata": {},
   "outputs": [
    {
     "data": {
      "text/plain": [
       "Index(['date', 'ride_id', 'rideable_type', 'started_at', 'ended_at',\n",
       "       'start_station_name', 'start_station_id', 'end_station_name',\n",
       "       'end_station_id', 'start_lat', 'start_lng', 'end_lat', 'end_lng',\n",
       "       'member_casual', 'avgTemp', 'trip_count', 'merge_flag', 'month',\n",
       "       'season', 'value'],\n",
       "      dtype='object')"
      ]
     },
     "execution_count": 32,
     "metadata": {},
     "output_type": "execute_result"
    }
   ],
   "source": [
    "df_merged.columns"
   ]
  },
  {
   "cell_type": "code",
   "execution_count": 34,
   "id": "dd119e97-aa03-4718-9990-0e20d9bd27b9",
   "metadata": {},
   "outputs": [],
   "source": [
    "df_analysis = df_merged.drop(columns = {'ride_id','started_at', 'ended_at','start_station_id','end_station_id','start_lat', 'start_lng', 'end_lat', 'end_lng','member_casual','merge_flag', 'month'})"
   ]
  },
  {
   "cell_type": "code",
   "execution_count": 35,
   "id": "59e91ef1-1a49-4a4d-ab6e-17d2a329e4df",
   "metadata": {},
   "outputs": [
    {
     "data": {
      "text/plain": [
       "Index(['date', 'rideable_type', 'start_station_name', 'end_station_name',\n",
       "       'avgTemp', 'trip_count', 'season', 'value'],\n",
       "      dtype='object')"
      ]
     },
     "execution_count": 35,
     "metadata": {},
     "output_type": "execute_result"
    }
   ],
   "source": [
    "df_analysis.columns"
   ]
  },
  {
   "cell_type": "code",
   "execution_count": 36,
   "id": "d7bddfeb-2891-4a07-b475-296302f85dca",
   "metadata": {},
   "outputs": [
    {
     "data": {
      "text/plain": [
       "(29838806, 8)"
      ]
     },
     "execution_count": 36,
     "metadata": {},
     "output_type": "execute_result"
    }
   ],
   "source": [
    "df_analysis.shape"
   ]
  },
  {
   "cell_type": "markdown",
   "id": "d3e493ee-55ce-475d-9d46-3f5e179c7584",
   "metadata": {},
   "source": [
    "### Creating a random split"
   ]
  },
  {
   "cell_type": "code",
   "execution_count": 37,
   "id": "33835f4b-2451-4ec6-b809-4e05f591677e",
   "metadata": {},
   "outputs": [],
   "source": [
    "np.random.seed(32)\n",
    "red = np.random.rand(len(df_analysis)) <= 0.92"
   ]
  },
  {
   "cell_type": "code",
   "execution_count": 38,
   "id": "b61941f1-60e4-4eda-9ee7-859b6137ac4c",
   "metadata": {},
   "outputs": [],
   "source": [
    "small = df_analysis[~red]"
   ]
  },
  {
   "cell_type": "code",
   "execution_count": 39,
   "id": "124a55a9-1e9f-446e-8923-d2fe6e17f0b8",
   "metadata": {},
   "outputs": [
    {
     "data": {
      "text/plain": [
       "(2385111, 8)"
      ]
     },
     "execution_count": 39,
     "metadata": {},
     "output_type": "execute_result"
    }
   ],
   "source": [
    "small.shape"
   ]
  },
  {
   "cell_type": "code",
   "execution_count": 40,
   "id": "09ed13a4-25e4-4b9f-99d8-042573a1614a",
   "metadata": {},
   "outputs": [],
   "source": [
    "small.to_csv('reduced_data_to_plot_8.csv',index = False)"
   ]
  },
  {
   "cell_type": "code",
   "execution_count": 41,
   "id": "dfbf77d7-df37-4e97-9d00-8b8f4eec5998",
   "metadata": {},
   "outputs": [],
   "source": [
    "df_analysis.to_csv('subset_newyork_data.csv')"
   ]
  },
  {
   "cell_type": "code",
   "execution_count": null,
   "id": "dcf2781c-6f25-41f6-be6d-c4b24c88439c",
   "metadata": {},
   "outputs": [],
   "source": []
  }
 ],
 "metadata": {
  "kernelspec": {
   "display_name": "Python 3 (ipykernel)",
   "language": "python",
   "name": "python3"
  },
  "language_info": {
   "codemirror_mode": {
    "name": "ipython",
    "version": 3
   },
   "file_extension": ".py",
   "mimetype": "text/x-python",
   "name": "python",
   "nbconvert_exporter": "python",
   "pygments_lexer": "ipython3",
   "version": "3.12.2"
  }
 },
 "nbformat": 4,
 "nbformat_minor": 5
}
